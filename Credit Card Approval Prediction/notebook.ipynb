{
 "cells": [
  {
   "cell_type": "markdown",
   "metadata": {},
   "source": [
    "Data source: https://www.kaggle.com/rikdifos/credit-card-approval-prediction/discussion/119320"
   ]
  },
  {
   "cell_type": "code",
   "execution_count": 1,
   "id": "fantastic-celebration",
   "metadata": {
    "ExecuteTime": {
     "end_time": "2021-06-01T17:26:00.550163Z",
     "start_time": "2021-06-01T17:25:59.089365Z"
    },
    "execution": {
     "iopub.execute_input": "2021-04-21T22:10:25.835978Z",
     "iopub.status.busy": "2021-04-21T22:10:25.835322Z",
     "iopub.status.idle": "2021-04-21T22:10:27.867351Z",
     "shell.execute_reply": "2021-04-21T22:10:27.868329Z"
    },
    "papermill": {
     "duration": 2.090006,
     "end_time": "2021-04-21T22:10:27.868729",
     "exception": false,
     "start_time": "2021-04-21T22:10:25.778723",
     "status": "completed"
    },
    "tags": []
   },
   "outputs": [
    {
     "data": {
      "text/html": [
       "        <script type=\"text/javascript\">\n",
       "        window.PlotlyConfig = {MathJaxConfig: 'local'};\n",
       "        if (window.MathJax) {MathJax.Hub.Config({SVG: {font: \"STIX-Web\"}});}\n",
       "        if (typeof require !== 'undefined') {\n",
       "        require.undef(\"plotly\");\n",
       "        requirejs.config({\n",
       "            paths: {\n",
       "                'plotly': ['https://cdn.plot.ly/plotly-latest.min']\n",
       "            }\n",
       "        });\n",
       "        require(['plotly'], function(Plotly) {\n",
       "            window._Plotly = Plotly;\n",
       "        });\n",
       "        }\n",
       "        </script>\n",
       "        "
      ]
     },
     "metadata": {},
     "output_type": "display_data"
    }
   ],
   "source": [
    "# Load in our libraries\n",
    "import pandas as pd\n",
    "import numpy as np\n",
    "import re\n",
    "import sklearn\n",
    "import xgboost as xgb\n",
    "import seaborn as sns\n",
    "import matplotlib.pyplot as plt\n",
    "%matplotlib inline\n",
    "\n",
    "import plotly.offline as py\n",
    "py.init_notebook_mode(connected=True)\n",
    "import plotly.graph_objs as go\n",
    "import plotly.tools as tls\n",
    "\n",
    "import warnings\n",
    "warnings.filterwarnings('ignore')\n",
    "\n",
    "# Going to use these 5 base models for the stacking\n",
    "from sklearn.ensemble import (RandomForestClassifier, AdaBoostClassifier, \n",
    "                              GradientBoostingClassifier, ExtraTreesClassifier)\n",
    "from sklearn.svm import SVC\n",
    "from sklearn.model_selection import KFold"
   ]
  },
  {
   "cell_type": "markdown",
   "id": "amateur-jordan",
   "metadata": {
    "papermill": {
     "duration": 0.044096,
     "end_time": "2021-04-21T22:10:27.959254",
     "exception": false,
     "start_time": "2021-04-21T22:10:27.915158",
     "status": "completed"
    },
    "tags": []
   },
   "source": [
    "## Em progesso.."
   ]
  },
  {
   "cell_type": "code",
   "execution_count": 2,
   "id": "hawaiian-flood",
   "metadata": {
    "ExecuteTime": {
     "end_time": "2021-06-01T17:26:00.557872Z",
     "start_time": "2021-06-01T17:26:00.554786Z"
    },
    "execution": {
     "iopub.execute_input": "2021-04-21T22:10:28.057554Z",
     "iopub.status.busy": "2021-04-21T22:10:28.056557Z",
     "iopub.status.idle": "2021-04-21T22:10:28.060308Z",
     "shell.execute_reply": "2021-04-21T22:10:28.059589Z"
    },
    "papermill": {
     "duration": 0.055053,
     "end_time": "2021-04-21T22:10:28.060466",
     "exception": false,
     "start_time": "2021-04-21T22:10:28.005413",
     "status": "completed"
    },
    "tags": []
   },
   "outputs": [],
   "source": [
    "# settings\n",
    "import warnings\n",
    "warnings.filterwarnings(\"ignore\")\n",
    "import matplotlib.pyplot as plt"
   ]
  },
  {
   "cell_type": "code",
   "execution_count": 3,
   "id": "collect-genome",
   "metadata": {
    "ExecuteTime": {
     "end_time": "2021-06-01T17:26:02.246321Z",
     "start_time": "2021-06-01T17:26:00.561243Z"
    },
    "execution": {
     "iopub.execute_input": "2021-04-21T22:10:28.153793Z",
     "iopub.status.busy": "2021-04-21T22:10:28.153148Z",
     "iopub.status.idle": "2021-04-21T22:10:30.495870Z",
     "shell.execute_reply": "2021-04-21T22:10:30.495060Z"
    },
    "papermill": {
     "duration": 2.39043,
     "end_time": "2021-04-21T22:10:30.496018",
     "exception": false,
     "start_time": "2021-04-21T22:10:28.105588",
     "status": "completed"
    },
    "tags": []
   },
   "outputs": [],
   "source": [
    "df1 = pd.read_csv('./data/application_record.csv')\n",
    "df2 = pd.read_csv('./data/credit_record.csv')"
   ]
  },
  {
   "cell_type": "code",
   "execution_count": 4,
   "id": "heated-architecture",
   "metadata": {
    "ExecuteTime": {
     "end_time": "2021-06-01T17:26:02.293468Z",
     "start_time": "2021-06-01T17:26:02.248769Z"
    },
    "execution": {
     "iopub.execute_input": "2021-04-21T22:10:30.601804Z",
     "iopub.status.busy": "2021-04-21T22:10:30.600191Z",
     "iopub.status.idle": "2021-04-21T22:10:30.633378Z",
     "shell.execute_reply": "2021-04-21T22:10:30.632830Z"
    },
    "papermill": {
     "duration": 0.090497,
     "end_time": "2021-04-21T22:10:30.633532",
     "exception": false,
     "start_time": "2021-04-21T22:10:30.543035",
     "status": "completed"
    },
    "tags": []
   },
   "outputs": [
    {
     "data": {
      "text/html": [
       "<div>\n",
       "<style scoped>\n",
       "    .dataframe tbody tr th:only-of-type {\n",
       "        vertical-align: middle;\n",
       "    }\n",
       "\n",
       "    .dataframe tbody tr th {\n",
       "        vertical-align: top;\n",
       "    }\n",
       "\n",
       "    .dataframe thead th {\n",
       "        text-align: right;\n",
       "    }\n",
       "</style>\n",
       "<table border=\"1\" class=\"dataframe\">\n",
       "  <thead>\n",
       "    <tr style=\"text-align: right;\">\n",
       "      <th></th>\n",
       "      <th>ID</th>\n",
       "      <th>CODE_GENDER</th>\n",
       "      <th>FLAG_OWN_CAR</th>\n",
       "      <th>FLAG_OWN_REALTY</th>\n",
       "      <th>CNT_CHILDREN</th>\n",
       "      <th>AMT_INCOME_TOTAL</th>\n",
       "      <th>NAME_INCOME_TYPE</th>\n",
       "      <th>NAME_EDUCATION_TYPE</th>\n",
       "      <th>NAME_FAMILY_STATUS</th>\n",
       "      <th>NAME_HOUSING_TYPE</th>\n",
       "      <th>DAYS_BIRTH</th>\n",
       "      <th>DAYS_EMPLOYED</th>\n",
       "      <th>FLAG_MOBIL</th>\n",
       "      <th>FLAG_WORK_PHONE</th>\n",
       "      <th>FLAG_PHONE</th>\n",
       "      <th>FLAG_EMAIL</th>\n",
       "      <th>OCCUPATION_TYPE</th>\n",
       "      <th>CNT_FAM_MEMBERS</th>\n",
       "    </tr>\n",
       "  </thead>\n",
       "  <tbody>\n",
       "    <tr>\n",
       "      <th>0</th>\n",
       "      <td>5008804</td>\n",
       "      <td>M</td>\n",
       "      <td>Y</td>\n",
       "      <td>Y</td>\n",
       "      <td>0</td>\n",
       "      <td>427500.0</td>\n",
       "      <td>Working</td>\n",
       "      <td>Higher education</td>\n",
       "      <td>Civil marriage</td>\n",
       "      <td>Rented apartment</td>\n",
       "      <td>-12005</td>\n",
       "      <td>-4542</td>\n",
       "      <td>1</td>\n",
       "      <td>1</td>\n",
       "      <td>0</td>\n",
       "      <td>0</td>\n",
       "      <td>NaN</td>\n",
       "      <td>2.0</td>\n",
       "    </tr>\n",
       "    <tr>\n",
       "      <th>1</th>\n",
       "      <td>5008805</td>\n",
       "      <td>M</td>\n",
       "      <td>Y</td>\n",
       "      <td>Y</td>\n",
       "      <td>0</td>\n",
       "      <td>427500.0</td>\n",
       "      <td>Working</td>\n",
       "      <td>Higher education</td>\n",
       "      <td>Civil marriage</td>\n",
       "      <td>Rented apartment</td>\n",
       "      <td>-12005</td>\n",
       "      <td>-4542</td>\n",
       "      <td>1</td>\n",
       "      <td>1</td>\n",
       "      <td>0</td>\n",
       "      <td>0</td>\n",
       "      <td>NaN</td>\n",
       "      <td>2.0</td>\n",
       "    </tr>\n",
       "    <tr>\n",
       "      <th>2</th>\n",
       "      <td>5008806</td>\n",
       "      <td>M</td>\n",
       "      <td>Y</td>\n",
       "      <td>Y</td>\n",
       "      <td>0</td>\n",
       "      <td>112500.0</td>\n",
       "      <td>Working</td>\n",
       "      <td>Secondary / secondary special</td>\n",
       "      <td>Married</td>\n",
       "      <td>House / apartment</td>\n",
       "      <td>-21474</td>\n",
       "      <td>-1134</td>\n",
       "      <td>1</td>\n",
       "      <td>0</td>\n",
       "      <td>0</td>\n",
       "      <td>0</td>\n",
       "      <td>Security staff</td>\n",
       "      <td>2.0</td>\n",
       "    </tr>\n",
       "    <tr>\n",
       "      <th>3</th>\n",
       "      <td>5008808</td>\n",
       "      <td>F</td>\n",
       "      <td>N</td>\n",
       "      <td>Y</td>\n",
       "      <td>0</td>\n",
       "      <td>270000.0</td>\n",
       "      <td>Commercial associate</td>\n",
       "      <td>Secondary / secondary special</td>\n",
       "      <td>Single / not married</td>\n",
       "      <td>House / apartment</td>\n",
       "      <td>-19110</td>\n",
       "      <td>-3051</td>\n",
       "      <td>1</td>\n",
       "      <td>0</td>\n",
       "      <td>1</td>\n",
       "      <td>1</td>\n",
       "      <td>Sales staff</td>\n",
       "      <td>1.0</td>\n",
       "    </tr>\n",
       "    <tr>\n",
       "      <th>4</th>\n",
       "      <td>5008809</td>\n",
       "      <td>F</td>\n",
       "      <td>N</td>\n",
       "      <td>Y</td>\n",
       "      <td>0</td>\n",
       "      <td>270000.0</td>\n",
       "      <td>Commercial associate</td>\n",
       "      <td>Secondary / secondary special</td>\n",
       "      <td>Single / not married</td>\n",
       "      <td>House / apartment</td>\n",
       "      <td>-19110</td>\n",
       "      <td>-3051</td>\n",
       "      <td>1</td>\n",
       "      <td>0</td>\n",
       "      <td>1</td>\n",
       "      <td>1</td>\n",
       "      <td>Sales staff</td>\n",
       "      <td>1.0</td>\n",
       "    </tr>\n",
       "  </tbody>\n",
       "</table>\n",
       "</div>"
      ],
      "text/plain": [
       "        ID CODE_GENDER FLAG_OWN_CAR FLAG_OWN_REALTY  CNT_CHILDREN  \\\n",
       "0  5008804           M            Y               Y             0   \n",
       "1  5008805           M            Y               Y             0   \n",
       "2  5008806           M            Y               Y             0   \n",
       "3  5008808           F            N               Y             0   \n",
       "4  5008809           F            N               Y             0   \n",
       "\n",
       "   AMT_INCOME_TOTAL      NAME_INCOME_TYPE            NAME_EDUCATION_TYPE  \\\n",
       "0          427500.0               Working               Higher education   \n",
       "1          427500.0               Working               Higher education   \n",
       "2          112500.0               Working  Secondary / secondary special   \n",
       "3          270000.0  Commercial associate  Secondary / secondary special   \n",
       "4          270000.0  Commercial associate  Secondary / secondary special   \n",
       "\n",
       "     NAME_FAMILY_STATUS  NAME_HOUSING_TYPE  DAYS_BIRTH  DAYS_EMPLOYED  \\\n",
       "0        Civil marriage   Rented apartment      -12005          -4542   \n",
       "1        Civil marriage   Rented apartment      -12005          -4542   \n",
       "2               Married  House / apartment      -21474          -1134   \n",
       "3  Single / not married  House / apartment      -19110          -3051   \n",
       "4  Single / not married  House / apartment      -19110          -3051   \n",
       "\n",
       "   FLAG_MOBIL  FLAG_WORK_PHONE  FLAG_PHONE  FLAG_EMAIL OCCUPATION_TYPE  \\\n",
       "0           1                1           0           0             NaN   \n",
       "1           1                1           0           0             NaN   \n",
       "2           1                0           0           0  Security staff   \n",
       "3           1                0           1           1     Sales staff   \n",
       "4           1                0           1           1     Sales staff   \n",
       "\n",
       "   CNT_FAM_MEMBERS  \n",
       "0              2.0  \n",
       "1              2.0  \n",
       "2              2.0  \n",
       "3              1.0  \n",
       "4              1.0  "
      ]
     },
     "execution_count": 4,
     "metadata": {},
     "output_type": "execute_result"
    }
   ],
   "source": [
    "df1.head(5)\n"
   ]
  },
  {
   "cell_type": "code",
   "execution_count": 5,
   "id": "based-corrections",
   "metadata": {
    "ExecuteTime": {
     "end_time": "2021-06-01T17:26:02.400762Z",
     "start_time": "2021-06-01T17:26:02.299022Z"
    },
    "execution": {
     "iopub.execute_input": "2021-04-21T22:10:30.734676Z",
     "iopub.status.busy": "2021-04-21T22:10:30.733932Z",
     "iopub.status.idle": "2021-04-21T22:10:30.738187Z",
     "shell.execute_reply": "2021-04-21T22:10:30.737526Z"
    },
    "papermill": {
     "duration": 0.059206,
     "end_time": "2021-04-21T22:10:30.738339",
     "exception": false,
     "start_time": "2021-04-21T22:10:30.679133",
     "status": "completed"
    },
    "tags": []
   },
   "outputs": [
    {
     "data": {
      "text/html": [
       "<div>\n",
       "<style scoped>\n",
       "    .dataframe tbody tr th:only-of-type {\n",
       "        vertical-align: middle;\n",
       "    }\n",
       "\n",
       "    .dataframe tbody tr th {\n",
       "        vertical-align: top;\n",
       "    }\n",
       "\n",
       "    .dataframe thead th {\n",
       "        text-align: right;\n",
       "    }\n",
       "</style>\n",
       "<table border=\"1\" class=\"dataframe\">\n",
       "  <thead>\n",
       "    <tr style=\"text-align: right;\">\n",
       "      <th></th>\n",
       "      <th>ID</th>\n",
       "      <th>MONTHS_BALANCE</th>\n",
       "      <th>STATUS</th>\n",
       "    </tr>\n",
       "  </thead>\n",
       "  <tbody>\n",
       "    <tr>\n",
       "      <th>0</th>\n",
       "      <td>5001711</td>\n",
       "      <td>0</td>\n",
       "      <td>X</td>\n",
       "    </tr>\n",
       "    <tr>\n",
       "      <th>1</th>\n",
       "      <td>5001711</td>\n",
       "      <td>-1</td>\n",
       "      <td>0</td>\n",
       "    </tr>\n",
       "  </tbody>\n",
       "</table>\n",
       "</div>"
      ],
      "text/plain": [
       "        ID  MONTHS_BALANCE STATUS\n",
       "0  5001711               0      X\n",
       "1  5001711              -1      0"
      ]
     },
     "execution_count": 5,
     "metadata": {},
     "output_type": "execute_result"
    }
   ],
   "source": [
    "df2.head(2)"
   ]
  },
  {
   "cell_type": "markdown",
   "id": "blond-button",
   "metadata": {
    "papermill": {
     "duration": 0.045722,
     "end_time": "2021-04-21T22:10:30.829952",
     "exception": false,
     "start_time": "2021-04-21T22:10:30.784230",
     "status": "completed"
    },
    "tags": []
   },
   "source": [
    "### limpando os dados"
   ]
  },
  {
   "cell_type": "code",
   "execution_count": 6,
   "id": "chubby-omaha",
   "metadata": {
    "ExecuteTime": {
     "end_time": "2021-06-01T17:26:02.782889Z",
     "start_time": "2021-06-01T17:26:02.403914Z"
    },
    "execution": {
     "iopub.execute_input": "2021-04-21T22:10:30.927020Z",
     "iopub.status.busy": "2021-04-21T22:10:30.926355Z",
     "iopub.status.idle": "2021-04-21T22:10:31.272460Z",
     "shell.execute_reply": "2021-04-21T22:10:31.272947Z"
    },
    "papermill": {
     "duration": 0.396377,
     "end_time": "2021-04-21T22:10:31.273163",
     "exception": false,
     "start_time": "2021-04-21T22:10:30.876786",
     "status": "completed"
    },
    "tags": []
   },
   "outputs": [
    {
     "data": {
      "text/plain": [
       "134203"
      ]
     },
     "execution_count": 6,
     "metadata": {},
     "output_type": "execute_result"
    }
   ],
   "source": [
    "# Verificando a presença de valores nulos no data frame\n",
    "df1.isnull().sum().sum()"
   ]
  },
  {
   "cell_type": "code",
   "execution_count": 7,
   "id": "round-turkish",
   "metadata": {
    "ExecuteTime": {
     "end_time": "2021-06-01T17:26:02.902324Z",
     "start_time": "2021-06-01T17:26:02.785114Z"
    },
    "execution": {
     "iopub.execute_input": "2021-04-21T22:10:31.369573Z",
     "iopub.status.busy": "2021-04-21T22:10:31.368298Z",
     "iopub.status.idle": "2021-04-21T22:10:31.482253Z",
     "shell.execute_reply": "2021-04-21T22:10:31.481656Z"
    },
    "papermill": {
     "duration": 0.163231,
     "end_time": "2021-04-21T22:10:31.482406",
     "exception": false,
     "start_time": "2021-04-21T22:10:31.319175",
     "status": "completed"
    },
    "tags": []
   },
   "outputs": [
    {
     "data": {
      "text/plain": [
       "0"
      ]
     },
     "execution_count": 7,
     "metadata": {},
     "output_type": "execute_result"
    }
   ],
   "source": [
    "# Verificando a presença de valores nulos no data frame\n",
    "df2.isnull().sum().sum()"
   ]
  },
  {
   "cell_type": "code",
   "execution_count": 8,
   "id": "legislative-sustainability",
   "metadata": {
    "ExecuteTime": {
     "end_time": "2021-06-01T17:26:03.106134Z",
     "start_time": "2021-06-01T17:26:02.906087Z"
    },
    "execution": {
     "iopub.execute_input": "2021-04-21T22:10:31.581882Z",
     "iopub.status.busy": "2021-04-21T22:10:31.581151Z",
     "iopub.status.idle": "2021-04-21T22:10:31.931705Z",
     "shell.execute_reply": "2021-04-21T22:10:31.931013Z"
    },
    "papermill": {
     "duration": 0.402257,
     "end_time": "2021-04-21T22:10:31.931859",
     "exception": false,
     "start_time": "2021-04-21T22:10:31.529602",
     "status": "completed"
    },
    "tags": []
   },
   "outputs": [
    {
     "data": {
      "text/plain": [
       "True"
      ]
     },
     "execution_count": 8,
     "metadata": {},
     "output_type": "execute_result"
    }
   ],
   "source": [
    "# Verificando a presença de NA's no data frame\n",
    "df1.isnull().values.any()"
   ]
  },
  {
   "cell_type": "code",
   "execution_count": 9,
   "id": "introductory-butler",
   "metadata": {
    "ExecuteTime": {
     "end_time": "2021-06-01T17:26:03.404200Z",
     "start_time": "2021-06-01T17:26:03.109895Z"
    },
    "execution": {
     "iopub.execute_input": "2021-04-21T22:10:32.034431Z",
     "iopub.status.busy": "2021-04-21T22:10:32.033689Z",
     "iopub.status.idle": "2021-04-21T22:10:32.482598Z",
     "shell.execute_reply": "2021-04-21T22:10:32.483130Z"
    },
    "papermill": {
     "duration": 0.503129,
     "end_time": "2021-04-21T22:10:32.483322",
     "exception": false,
     "start_time": "2021-04-21T22:10:31.980193",
     "status": "completed"
    },
    "tags": []
   },
   "outputs": [],
   "source": [
    "#REmovendo os Null/NA\n",
    "df1 = df1.dropna()"
   ]
  },
  {
   "cell_type": "code",
   "execution_count": 10,
   "id": "typical-individual",
   "metadata": {
    "ExecuteTime": {
     "end_time": "2021-06-01T17:26:03.521752Z",
     "start_time": "2021-06-01T17:26:03.406580Z"
    },
    "execution": {
     "iopub.execute_input": "2021-04-21T22:10:32.583847Z",
     "iopub.status.busy": "2021-04-21T22:10:32.583036Z",
     "iopub.status.idle": "2021-04-21T22:10:32.831519Z",
     "shell.execute_reply": "2021-04-21T22:10:32.830836Z"
    },
    "papermill": {
     "duration": 0.30081,
     "end_time": "2021-04-21T22:10:32.831668",
     "exception": false,
     "start_time": "2021-04-21T22:10:32.530858",
     "status": "completed"
    },
    "tags": []
   },
   "outputs": [
    {
     "data": {
      "text/plain": [
       "False"
      ]
     },
     "execution_count": 10,
     "metadata": {},
     "output_type": "execute_result"
    }
   ],
   "source": [
    "#verificando se sobrou algum Null/NA\n",
    "df1.isnull().values.any()"
   ]
  },
  {
   "cell_type": "markdown",
   "id": "instant-destruction",
   "metadata": {
    "papermill": {
     "duration": 0.049382,
     "end_time": "2021-04-21T22:10:32.929194",
     "exception": false,
     "start_time": "2021-04-21T22:10:32.879812",
     "status": "completed"
    },
    "tags": []
   },
   "source": [
    "### Verificando o numero de linhas restantes"
   ]
  },
  {
   "cell_type": "code",
   "execution_count": 11,
   "id": "quick-buying",
   "metadata": {
    "ExecuteTime": {
     "end_time": "2021-06-01T17:26:03.558262Z",
     "start_time": "2021-06-01T17:26:03.524680Z"
    },
    "execution": {
     "iopub.execute_input": "2021-04-21T22:10:33.032399Z",
     "iopub.status.busy": "2021-04-21T22:10:33.031675Z",
     "iopub.status.idle": "2021-04-21T22:10:33.034839Z",
     "shell.execute_reply": "2021-04-21T22:10:33.035889Z"
    },
    "papermill": {
     "duration": 0.058829,
     "end_time": "2021-04-21T22:10:33.036154",
     "exception": false,
     "start_time": "2021-04-21T22:10:32.977325",
     "status": "completed"
    },
    "tags": []
   },
   "outputs": [
    {
     "name": "stdout",
     "output_type": "stream",
     "text": [
      "304354\n"
     ]
    }
   ],
   "source": [
    "index = df1.index\n",
    "number_of_rows = len(index)\n",
    "print(number_of_rows)"
   ]
  },
  {
   "cell_type": "code",
   "execution_count": 12,
   "id": "handy-display",
   "metadata": {
    "ExecuteTime": {
     "end_time": "2021-06-01T17:26:03.657107Z",
     "start_time": "2021-06-01T17:26:03.560931Z"
    },
    "execution": {
     "iopub.execute_input": "2021-04-21T22:10:33.141982Z",
     "iopub.status.busy": "2021-04-21T22:10:33.141303Z",
     "iopub.status.idle": "2021-04-21T22:10:33.145553Z",
     "shell.execute_reply": "2021-04-21T22:10:33.144903Z"
    },
    "papermill": {
     "duration": 0.058608,
     "end_time": "2021-04-21T22:10:33.145704",
     "exception": false,
     "start_time": "2021-04-21T22:10:33.087096",
     "status": "completed"
    },
    "tags": []
   },
   "outputs": [
    {
     "name": "stdout",
     "output_type": "stream",
     "text": [
      "1048575\n"
     ]
    }
   ],
   "source": [
    "index = df2.index\n",
    "number_of_rows = len(index)\n",
    "print(number_of_rows)"
   ]
  },
  {
   "cell_type": "markdown",
   "id": "modified-serve",
   "metadata": {
    "papermill": {
     "duration": 0.048728,
     "end_time": "2021-04-21T22:10:33.244932",
     "exception": false,
     "start_time": "2021-04-21T22:10:33.196204",
     "status": "completed"
    },
    "tags": []
   },
   "source": [
    "### Juntando as duas bases de dados"
   ]
  },
  {
   "cell_type": "code",
   "execution_count": 13,
   "id": "yellow-climate",
   "metadata": {
    "ExecuteTime": {
     "end_time": "2021-06-01T17:26:04.380262Z",
     "start_time": "2021-06-01T17:26:03.663354Z"
    },
    "execution": {
     "iopub.execute_input": "2021-04-21T22:10:33.348911Z",
     "iopub.status.busy": "2021-04-21T22:10:33.347933Z",
     "iopub.status.idle": "2021-04-21T22:10:33.892880Z",
     "shell.execute_reply": "2021-04-21T22:10:33.892368Z"
    },
    "papermill": {
     "duration": 0.598051,
     "end_time": "2021-04-21T22:10:33.893023",
     "exception": false,
     "start_time": "2021-04-21T22:10:33.294972",
     "status": "completed"
    },
    "tags": []
   },
   "outputs": [
    {
     "data": {
      "text/html": [
       "<div>\n",
       "<style scoped>\n",
       "    .dataframe tbody tr th:only-of-type {\n",
       "        vertical-align: middle;\n",
       "    }\n",
       "\n",
       "    .dataframe tbody tr th {\n",
       "        vertical-align: top;\n",
       "    }\n",
       "\n",
       "    .dataframe thead th {\n",
       "        text-align: right;\n",
       "    }\n",
       "</style>\n",
       "<table border=\"1\" class=\"dataframe\">\n",
       "  <thead>\n",
       "    <tr style=\"text-align: right;\">\n",
       "      <th></th>\n",
       "      <th>ID</th>\n",
       "      <th>CODE_GENDER</th>\n",
       "      <th>FLAG_OWN_CAR</th>\n",
       "      <th>FLAG_OWN_REALTY</th>\n",
       "      <th>CNT_CHILDREN</th>\n",
       "      <th>AMT_INCOME_TOTAL</th>\n",
       "      <th>NAME_INCOME_TYPE</th>\n",
       "      <th>NAME_EDUCATION_TYPE</th>\n",
       "      <th>NAME_FAMILY_STATUS</th>\n",
       "      <th>NAME_HOUSING_TYPE</th>\n",
       "      <th>DAYS_BIRTH</th>\n",
       "      <th>DAYS_EMPLOYED</th>\n",
       "      <th>FLAG_MOBIL</th>\n",
       "      <th>FLAG_WORK_PHONE</th>\n",
       "      <th>FLAG_PHONE</th>\n",
       "      <th>FLAG_EMAIL</th>\n",
       "      <th>OCCUPATION_TYPE</th>\n",
       "      <th>CNT_FAM_MEMBERS</th>\n",
       "      <th>MONTHS_BALANCE</th>\n",
       "      <th>STATUS</th>\n",
       "    </tr>\n",
       "  </thead>\n",
       "  <tbody>\n",
       "    <tr>\n",
       "      <th>0</th>\n",
       "      <td>5008806</td>\n",
       "      <td>M</td>\n",
       "      <td>Y</td>\n",
       "      <td>Y</td>\n",
       "      <td>0</td>\n",
       "      <td>112500.0</td>\n",
       "      <td>Working</td>\n",
       "      <td>Secondary / secondary special</td>\n",
       "      <td>Married</td>\n",
       "      <td>House / apartment</td>\n",
       "      <td>-21474</td>\n",
       "      <td>-1134</td>\n",
       "      <td>1</td>\n",
       "      <td>0</td>\n",
       "      <td>0</td>\n",
       "      <td>0</td>\n",
       "      <td>Security staff</td>\n",
       "      <td>2.0</td>\n",
       "      <td>0</td>\n",
       "      <td>C</td>\n",
       "    </tr>\n",
       "    <tr>\n",
       "      <th>1</th>\n",
       "      <td>5008806</td>\n",
       "      <td>M</td>\n",
       "      <td>Y</td>\n",
       "      <td>Y</td>\n",
       "      <td>0</td>\n",
       "      <td>112500.0</td>\n",
       "      <td>Working</td>\n",
       "      <td>Secondary / secondary special</td>\n",
       "      <td>Married</td>\n",
       "      <td>House / apartment</td>\n",
       "      <td>-21474</td>\n",
       "      <td>-1134</td>\n",
       "      <td>1</td>\n",
       "      <td>0</td>\n",
       "      <td>0</td>\n",
       "      <td>0</td>\n",
       "      <td>Security staff</td>\n",
       "      <td>2.0</td>\n",
       "      <td>-1</td>\n",
       "      <td>C</td>\n",
       "    </tr>\n",
       "    <tr>\n",
       "      <th>2</th>\n",
       "      <td>5008806</td>\n",
       "      <td>M</td>\n",
       "      <td>Y</td>\n",
       "      <td>Y</td>\n",
       "      <td>0</td>\n",
       "      <td>112500.0</td>\n",
       "      <td>Working</td>\n",
       "      <td>Secondary / secondary special</td>\n",
       "      <td>Married</td>\n",
       "      <td>House / apartment</td>\n",
       "      <td>-21474</td>\n",
       "      <td>-1134</td>\n",
       "      <td>1</td>\n",
       "      <td>0</td>\n",
       "      <td>0</td>\n",
       "      <td>0</td>\n",
       "      <td>Security staff</td>\n",
       "      <td>2.0</td>\n",
       "      <td>-2</td>\n",
       "      <td>C</td>\n",
       "    </tr>\n",
       "  </tbody>\n",
       "</table>\n",
       "</div>"
      ],
      "text/plain": [
       "        ID CODE_GENDER FLAG_OWN_CAR FLAG_OWN_REALTY  CNT_CHILDREN  \\\n",
       "0  5008806           M            Y               Y             0   \n",
       "1  5008806           M            Y               Y             0   \n",
       "2  5008806           M            Y               Y             0   \n",
       "\n",
       "   AMT_INCOME_TOTAL NAME_INCOME_TYPE            NAME_EDUCATION_TYPE  \\\n",
       "0          112500.0          Working  Secondary / secondary special   \n",
       "1          112500.0          Working  Secondary / secondary special   \n",
       "2          112500.0          Working  Secondary / secondary special   \n",
       "\n",
       "  NAME_FAMILY_STATUS  NAME_HOUSING_TYPE  DAYS_BIRTH  DAYS_EMPLOYED  \\\n",
       "0            Married  House / apartment      -21474          -1134   \n",
       "1            Married  House / apartment      -21474          -1134   \n",
       "2            Married  House / apartment      -21474          -1134   \n",
       "\n",
       "   FLAG_MOBIL  FLAG_WORK_PHONE  FLAG_PHONE  FLAG_EMAIL OCCUPATION_TYPE  \\\n",
       "0           1                0           0           0  Security staff   \n",
       "1           1                0           0           0  Security staff   \n",
       "2           1                0           0           0  Security staff   \n",
       "\n",
       "   CNT_FAM_MEMBERS  MONTHS_BALANCE STATUS  \n",
       "0              2.0               0      C  \n",
       "1              2.0              -1      C  \n",
       "2              2.0              -2      C  "
      ]
     },
     "execution_count": 13,
     "metadata": {},
     "output_type": "execute_result"
    }
   ],
   "source": [
    "df3 = pd.merge(df1, df2, on='ID')\n",
    "df3.head(3)"
   ]
  },
  {
   "cell_type": "code",
   "execution_count": 14,
   "id": "fossil-strengthening",
   "metadata": {
    "ExecuteTime": {
     "end_time": "2021-06-01T17:26:04.386786Z",
     "start_time": "2021-06-01T17:26:04.382835Z"
    },
    "execution": {
     "iopub.execute_input": "2021-04-21T22:10:33.999160Z",
     "iopub.status.busy": "2021-04-21T22:10:33.998198Z",
     "iopub.status.idle": "2021-04-21T22:10:34.002444Z",
     "shell.execute_reply": "2021-04-21T22:10:34.001707Z"
    },
    "papermill": {
     "duration": 0.060091,
     "end_time": "2021-04-21T22:10:34.002600",
     "exception": false,
     "start_time": "2021-04-21T22:10:33.942509",
     "status": "completed"
    },
    "tags": []
   },
   "outputs": [
    {
     "name": "stdout",
     "output_type": "stream",
     "text": [
      "537667\n"
     ]
    }
   ],
   "source": [
    "#Verificando a quantidade de dados depois da junção dos conjuntos\n",
    "index = df3.index\n",
    "number_of_rows = len(index)\n",
    "print(number_of_rows)"
   ]
  },
  {
   "cell_type": "markdown",
   "id": "armed-netscape",
   "metadata": {
    "papermill": {
     "duration": 0.051661,
     "end_time": "2021-04-21T22:10:34.107630",
     "exception": false,
     "start_time": "2021-04-21T22:10:34.055969",
     "status": "completed"
    },
    "tags": []
   },
   "source": [
    "* É possível notar que a base de dados aumentou, portanto houve duplicatas de valores. Precisamos remove-lás."
   ]
  },
  {
   "cell_type": "code",
   "execution_count": 15,
   "id": "traditional-london",
   "metadata": {
    "ExecuteTime": {
     "end_time": "2021-06-01T17:26:04.877127Z",
     "start_time": "2021-06-01T17:26:04.389423Z"
    },
    "execution": {
     "iopub.execute_input": "2021-04-21T22:10:34.369960Z",
     "iopub.status.busy": "2021-04-21T22:10:34.369294Z",
     "iopub.status.idle": "2021-04-21T22:10:34.697267Z",
     "shell.execute_reply": "2021-04-21T22:10:34.696674Z"
    },
    "papermill": {
     "duration": 0.538666,
     "end_time": "2021-04-21T22:10:34.697413",
     "exception": false,
     "start_time": "2021-04-21T22:10:34.158747",
     "status": "completed"
    },
    "tags": []
   },
   "outputs": [
    {
     "data": {
      "text/plain": [
       "False"
      ]
     },
     "execution_count": 15,
     "metadata": {},
     "output_type": "execute_result"
    }
   ],
   "source": [
    "#verificando se sobrou algum Null/NA\n",
    "df3.isnull().values.any()"
   ]
  },
  {
   "cell_type": "code",
   "execution_count": 16,
   "id": "equipped-hierarchy",
   "metadata": {
    "ExecuteTime": {
     "end_time": "2021-06-01T17:26:04.939168Z",
     "start_time": "2021-06-01T17:26:04.879302Z"
    },
    "execution": {
     "iopub.execute_input": "2021-04-21T22:10:34.803289Z",
     "iopub.status.busy": "2021-04-21T22:10:34.802292Z",
     "iopub.status.idle": "2021-04-21T22:10:35.060921Z",
     "shell.execute_reply": "2021-04-21T22:10:35.060186Z"
    },
    "papermill": {
     "duration": 0.312595,
     "end_time": "2021-04-21T22:10:35.061095",
     "exception": false,
     "start_time": "2021-04-21T22:10:34.748500",
     "status": "completed"
    },
    "tags": []
   },
   "outputs": [],
   "source": [
    "#Tirando os ID duplicados\n",
    "df3 = df3.drop_duplicates('ID',keep='first')\n",
    "\n"
   ]
  },
  {
   "cell_type": "code",
   "execution_count": 17,
   "id": "electrical-barcelona",
   "metadata": {
    "ExecuteTime": {
     "end_time": "2021-06-01T17:26:05.115489Z",
     "start_time": "2021-06-01T17:26:04.942219Z"
    },
    "execution": {
     "iopub.execute_input": "2021-04-21T22:10:35.197693Z",
     "iopub.status.busy": "2021-04-21T22:10:35.172604Z",
     "iopub.status.idle": "2021-04-21T22:10:35.203495Z",
     "shell.execute_reply": "2021-04-21T22:10:35.202769Z"
    },
    "papermill": {
     "duration": 0.091986,
     "end_time": "2021-04-21T22:10:35.203641",
     "exception": false,
     "start_time": "2021-04-21T22:10:35.111655",
     "status": "completed"
    },
    "tags": []
   },
   "outputs": [
    {
     "data": {
      "text/html": [
       "<div>\n",
       "<style scoped>\n",
       "    .dataframe tbody tr th:only-of-type {\n",
       "        vertical-align: middle;\n",
       "    }\n",
       "\n",
       "    .dataframe tbody tr th {\n",
       "        vertical-align: top;\n",
       "    }\n",
       "\n",
       "    .dataframe thead th {\n",
       "        text-align: right;\n",
       "    }\n",
       "</style>\n",
       "<table border=\"1\" class=\"dataframe\">\n",
       "  <thead>\n",
       "    <tr style=\"text-align: right;\">\n",
       "      <th></th>\n",
       "      <th>ID</th>\n",
       "      <th>CODE_GENDER</th>\n",
       "      <th>FLAG_OWN_CAR</th>\n",
       "      <th>FLAG_OWN_REALTY</th>\n",
       "      <th>CNT_CHILDREN</th>\n",
       "      <th>AMT_INCOME_TOTAL</th>\n",
       "      <th>NAME_INCOME_TYPE</th>\n",
       "      <th>NAME_EDUCATION_TYPE</th>\n",
       "      <th>NAME_FAMILY_STATUS</th>\n",
       "      <th>NAME_HOUSING_TYPE</th>\n",
       "      <th>DAYS_BIRTH</th>\n",
       "      <th>DAYS_EMPLOYED</th>\n",
       "      <th>FLAG_MOBIL</th>\n",
       "      <th>FLAG_WORK_PHONE</th>\n",
       "      <th>FLAG_PHONE</th>\n",
       "      <th>FLAG_EMAIL</th>\n",
       "      <th>OCCUPATION_TYPE</th>\n",
       "      <th>CNT_FAM_MEMBERS</th>\n",
       "      <th>MONTHS_BALANCE</th>\n",
       "      <th>STATUS</th>\n",
       "    </tr>\n",
       "  </thead>\n",
       "  <tbody>\n",
       "    <tr>\n",
       "      <th>0</th>\n",
       "      <td>5008806</td>\n",
       "      <td>M</td>\n",
       "      <td>Y</td>\n",
       "      <td>Y</td>\n",
       "      <td>0</td>\n",
       "      <td>112500.0</td>\n",
       "      <td>Working</td>\n",
       "      <td>Secondary / secondary special</td>\n",
       "      <td>Married</td>\n",
       "      <td>House / apartment</td>\n",
       "      <td>-21474</td>\n",
       "      <td>-1134</td>\n",
       "      <td>1</td>\n",
       "      <td>0</td>\n",
       "      <td>0</td>\n",
       "      <td>0</td>\n",
       "      <td>Security staff</td>\n",
       "      <td>2.0</td>\n",
       "      <td>0</td>\n",
       "      <td>C</td>\n",
       "    </tr>\n",
       "    <tr>\n",
       "      <th>30</th>\n",
       "      <td>5008808</td>\n",
       "      <td>F</td>\n",
       "      <td>N</td>\n",
       "      <td>Y</td>\n",
       "      <td>0</td>\n",
       "      <td>270000.0</td>\n",
       "      <td>Commercial associate</td>\n",
       "      <td>Secondary / secondary special</td>\n",
       "      <td>Single / not married</td>\n",
       "      <td>House / apartment</td>\n",
       "      <td>-19110</td>\n",
       "      <td>-3051</td>\n",
       "      <td>1</td>\n",
       "      <td>0</td>\n",
       "      <td>1</td>\n",
       "      <td>1</td>\n",
       "      <td>Sales staff</td>\n",
       "      <td>1.0</td>\n",
       "      <td>0</td>\n",
       "      <td>0</td>\n",
       "    </tr>\n",
       "    <tr>\n",
       "      <th>35</th>\n",
       "      <td>5008809</td>\n",
       "      <td>F</td>\n",
       "      <td>N</td>\n",
       "      <td>Y</td>\n",
       "      <td>0</td>\n",
       "      <td>270000.0</td>\n",
       "      <td>Commercial associate</td>\n",
       "      <td>Secondary / secondary special</td>\n",
       "      <td>Single / not married</td>\n",
       "      <td>House / apartment</td>\n",
       "      <td>-19110</td>\n",
       "      <td>-3051</td>\n",
       "      <td>1</td>\n",
       "      <td>0</td>\n",
       "      <td>1</td>\n",
       "      <td>1</td>\n",
       "      <td>Sales staff</td>\n",
       "      <td>1.0</td>\n",
       "      <td>-22</td>\n",
       "      <td>X</td>\n",
       "    </tr>\n",
       "    <tr>\n",
       "      <th>40</th>\n",
       "      <td>5008810</td>\n",
       "      <td>F</td>\n",
       "      <td>N</td>\n",
       "      <td>Y</td>\n",
       "      <td>0</td>\n",
       "      <td>270000.0</td>\n",
       "      <td>Commercial associate</td>\n",
       "      <td>Secondary / secondary special</td>\n",
       "      <td>Single / not married</td>\n",
       "      <td>House / apartment</td>\n",
       "      <td>-19110</td>\n",
       "      <td>-3051</td>\n",
       "      <td>1</td>\n",
       "      <td>0</td>\n",
       "      <td>1</td>\n",
       "      <td>1</td>\n",
       "      <td>Sales staff</td>\n",
       "      <td>1.0</td>\n",
       "      <td>0</td>\n",
       "      <td>C</td>\n",
       "    </tr>\n",
       "    <tr>\n",
       "      <th>67</th>\n",
       "      <td>5008811</td>\n",
       "      <td>F</td>\n",
       "      <td>N</td>\n",
       "      <td>Y</td>\n",
       "      <td>0</td>\n",
       "      <td>270000.0</td>\n",
       "      <td>Commercial associate</td>\n",
       "      <td>Secondary / secondary special</td>\n",
       "      <td>Single / not married</td>\n",
       "      <td>House / apartment</td>\n",
       "      <td>-19110</td>\n",
       "      <td>-3051</td>\n",
       "      <td>1</td>\n",
       "      <td>0</td>\n",
       "      <td>1</td>\n",
       "      <td>1</td>\n",
       "      <td>Sales staff</td>\n",
       "      <td>1.0</td>\n",
       "      <td>0</td>\n",
       "      <td>C</td>\n",
       "    </tr>\n",
       "    <tr>\n",
       "      <th>106</th>\n",
       "      <td>5008815</td>\n",
       "      <td>M</td>\n",
       "      <td>Y</td>\n",
       "      <td>Y</td>\n",
       "      <td>0</td>\n",
       "      <td>270000.0</td>\n",
       "      <td>Working</td>\n",
       "      <td>Higher education</td>\n",
       "      <td>Married</td>\n",
       "      <td>House / apartment</td>\n",
       "      <td>-16872</td>\n",
       "      <td>-769</td>\n",
       "      <td>1</td>\n",
       "      <td>1</td>\n",
       "      <td>1</td>\n",
       "      <td>1</td>\n",
       "      <td>Accountants</td>\n",
       "      <td>2.0</td>\n",
       "      <td>0</td>\n",
       "      <td>0</td>\n",
       "    </tr>\n",
       "    <tr>\n",
       "      <th>112</th>\n",
       "      <td>5112956</td>\n",
       "      <td>M</td>\n",
       "      <td>Y</td>\n",
       "      <td>Y</td>\n",
       "      <td>0</td>\n",
       "      <td>270000.0</td>\n",
       "      <td>Working</td>\n",
       "      <td>Higher education</td>\n",
       "      <td>Married</td>\n",
       "      <td>House / apartment</td>\n",
       "      <td>-16872</td>\n",
       "      <td>-769</td>\n",
       "      <td>1</td>\n",
       "      <td>1</td>\n",
       "      <td>1</td>\n",
       "      <td>1</td>\n",
       "      <td>Accountants</td>\n",
       "      <td>2.0</td>\n",
       "      <td>0</td>\n",
       "      <td>X</td>\n",
       "    </tr>\n",
       "    <tr>\n",
       "      <th>155</th>\n",
       "      <td>5008819</td>\n",
       "      <td>M</td>\n",
       "      <td>Y</td>\n",
       "      <td>Y</td>\n",
       "      <td>0</td>\n",
       "      <td>135000.0</td>\n",
       "      <td>Commercial associate</td>\n",
       "      <td>Secondary / secondary special</td>\n",
       "      <td>Married</td>\n",
       "      <td>House / apartment</td>\n",
       "      <td>-17778</td>\n",
       "      <td>-1194</td>\n",
       "      <td>1</td>\n",
       "      <td>0</td>\n",
       "      <td>0</td>\n",
       "      <td>0</td>\n",
       "      <td>Laborers</td>\n",
       "      <td>2.0</td>\n",
       "      <td>-10</td>\n",
       "      <td>X</td>\n",
       "    </tr>\n",
       "    <tr>\n",
       "      <th>163</th>\n",
       "      <td>5008820</td>\n",
       "      <td>M</td>\n",
       "      <td>Y</td>\n",
       "      <td>Y</td>\n",
       "      <td>0</td>\n",
       "      <td>135000.0</td>\n",
       "      <td>Commercial associate</td>\n",
       "      <td>Secondary / secondary special</td>\n",
       "      <td>Married</td>\n",
       "      <td>House / apartment</td>\n",
       "      <td>-17778</td>\n",
       "      <td>-1194</td>\n",
       "      <td>1</td>\n",
       "      <td>0</td>\n",
       "      <td>0</td>\n",
       "      <td>0</td>\n",
       "      <td>Laborers</td>\n",
       "      <td>2.0</td>\n",
       "      <td>-8</td>\n",
       "      <td>X</td>\n",
       "    </tr>\n",
       "    <tr>\n",
       "      <th>172</th>\n",
       "      <td>5008821</td>\n",
       "      <td>M</td>\n",
       "      <td>Y</td>\n",
       "      <td>Y</td>\n",
       "      <td>0</td>\n",
       "      <td>135000.0</td>\n",
       "      <td>Commercial associate</td>\n",
       "      <td>Secondary / secondary special</td>\n",
       "      <td>Married</td>\n",
       "      <td>House / apartment</td>\n",
       "      <td>-17778</td>\n",
       "      <td>-1194</td>\n",
       "      <td>1</td>\n",
       "      <td>0</td>\n",
       "      <td>0</td>\n",
       "      <td>0</td>\n",
       "      <td>Laborers</td>\n",
       "      <td>2.0</td>\n",
       "      <td>0</td>\n",
       "      <td>X</td>\n",
       "    </tr>\n",
       "    <tr>\n",
       "      <th>181</th>\n",
       "      <td>5008822</td>\n",
       "      <td>M</td>\n",
       "      <td>Y</td>\n",
       "      <td>Y</td>\n",
       "      <td>0</td>\n",
       "      <td>135000.0</td>\n",
       "      <td>Commercial associate</td>\n",
       "      <td>Secondary / secondary special</td>\n",
       "      <td>Married</td>\n",
       "      <td>House / apartment</td>\n",
       "      <td>-17778</td>\n",
       "      <td>-1194</td>\n",
       "      <td>1</td>\n",
       "      <td>0</td>\n",
       "      <td>0</td>\n",
       "      <td>0</td>\n",
       "      <td>Laborers</td>\n",
       "      <td>2.0</td>\n",
       "      <td>-14</td>\n",
       "      <td>X</td>\n",
       "    </tr>\n",
       "    <tr>\n",
       "      <th>190</th>\n",
       "      <td>5008823</td>\n",
       "      <td>M</td>\n",
       "      <td>Y</td>\n",
       "      <td>Y</td>\n",
       "      <td>0</td>\n",
       "      <td>135000.0</td>\n",
       "      <td>Commercial associate</td>\n",
       "      <td>Secondary / secondary special</td>\n",
       "      <td>Married</td>\n",
       "      <td>House / apartment</td>\n",
       "      <td>-17778</td>\n",
       "      <td>-1194</td>\n",
       "      <td>1</td>\n",
       "      <td>0</td>\n",
       "      <td>0</td>\n",
       "      <td>0</td>\n",
       "      <td>Laborers</td>\n",
       "      <td>2.0</td>\n",
       "      <td>-3</td>\n",
       "      <td>X</td>\n",
       "    </tr>\n",
       "    <tr>\n",
       "      <th>195</th>\n",
       "      <td>5008824</td>\n",
       "      <td>M</td>\n",
       "      <td>Y</td>\n",
       "      <td>Y</td>\n",
       "      <td>0</td>\n",
       "      <td>135000.0</td>\n",
       "      <td>Commercial associate</td>\n",
       "      <td>Secondary / secondary special</td>\n",
       "      <td>Married</td>\n",
       "      <td>House / apartment</td>\n",
       "      <td>-17778</td>\n",
       "      <td>-1194</td>\n",
       "      <td>1</td>\n",
       "      <td>0</td>\n",
       "      <td>0</td>\n",
       "      <td>0</td>\n",
       "      <td>Laborers</td>\n",
       "      <td>2.0</td>\n",
       "      <td>0</td>\n",
       "      <td>0</td>\n",
       "    </tr>\n",
       "    <tr>\n",
       "      <th>199</th>\n",
       "      <td>5008825</td>\n",
       "      <td>F</td>\n",
       "      <td>Y</td>\n",
       "      <td>N</td>\n",
       "      <td>0</td>\n",
       "      <td>130500.0</td>\n",
       "      <td>Working</td>\n",
       "      <td>Incomplete higher</td>\n",
       "      <td>Married</td>\n",
       "      <td>House / apartment</td>\n",
       "      <td>-10669</td>\n",
       "      <td>-1103</td>\n",
       "      <td>1</td>\n",
       "      <td>0</td>\n",
       "      <td>0</td>\n",
       "      <td>0</td>\n",
       "      <td>Accountants</td>\n",
       "      <td>2.0</td>\n",
       "      <td>0</td>\n",
       "      <td>0</td>\n",
       "    </tr>\n",
       "    <tr>\n",
       "      <th>225</th>\n",
       "      <td>5008826</td>\n",
       "      <td>F</td>\n",
       "      <td>Y</td>\n",
       "      <td>N</td>\n",
       "      <td>0</td>\n",
       "      <td>130500.0</td>\n",
       "      <td>Working</td>\n",
       "      <td>Incomplete higher</td>\n",
       "      <td>Married</td>\n",
       "      <td>House / apartment</td>\n",
       "      <td>-10669</td>\n",
       "      <td>-1103</td>\n",
       "      <td>1</td>\n",
       "      <td>0</td>\n",
       "      <td>0</td>\n",
       "      <td>0</td>\n",
       "      <td>Accountants</td>\n",
       "      <td>2.0</td>\n",
       "      <td>-1</td>\n",
       "      <td>C</td>\n",
       "    </tr>\n",
       "    <tr>\n",
       "      <th>255</th>\n",
       "      <td>5008830</td>\n",
       "      <td>F</td>\n",
       "      <td>N</td>\n",
       "      <td>Y</td>\n",
       "      <td>0</td>\n",
       "      <td>157500.0</td>\n",
       "      <td>Working</td>\n",
       "      <td>Secondary / secondary special</td>\n",
       "      <td>Married</td>\n",
       "      <td>House / apartment</td>\n",
       "      <td>-10031</td>\n",
       "      <td>-1469</td>\n",
       "      <td>1</td>\n",
       "      <td>0</td>\n",
       "      <td>1</td>\n",
       "      <td>0</td>\n",
       "      <td>Laborers</td>\n",
       "      <td>2.0</td>\n",
       "      <td>0</td>\n",
       "      <td>C</td>\n",
       "    </tr>\n",
       "    <tr>\n",
       "      <th>287</th>\n",
       "      <td>5008831</td>\n",
       "      <td>F</td>\n",
       "      <td>N</td>\n",
       "      <td>Y</td>\n",
       "      <td>0</td>\n",
       "      <td>157500.0</td>\n",
       "      <td>Working</td>\n",
       "      <td>Secondary / secondary special</td>\n",
       "      <td>Married</td>\n",
       "      <td>House / apartment</td>\n",
       "      <td>-10031</td>\n",
       "      <td>-1469</td>\n",
       "      <td>1</td>\n",
       "      <td>0</td>\n",
       "      <td>1</td>\n",
       "      <td>0</td>\n",
       "      <td>Laborers</td>\n",
       "      <td>2.0</td>\n",
       "      <td>0</td>\n",
       "      <td>C</td>\n",
       "    </tr>\n",
       "    <tr>\n",
       "      <th>307</th>\n",
       "      <td>5008832</td>\n",
       "      <td>F</td>\n",
       "      <td>N</td>\n",
       "      <td>Y</td>\n",
       "      <td>0</td>\n",
       "      <td>157500.0</td>\n",
       "      <td>Working</td>\n",
       "      <td>Secondary / secondary special</td>\n",
       "      <td>Married</td>\n",
       "      <td>House / apartment</td>\n",
       "      <td>-10031</td>\n",
       "      <td>-1469</td>\n",
       "      <td>1</td>\n",
       "      <td>0</td>\n",
       "      <td>1</td>\n",
       "      <td>0</td>\n",
       "      <td>Laborers</td>\n",
       "      <td>2.0</td>\n",
       "      <td>0</td>\n",
       "      <td>C</td>\n",
       "    </tr>\n",
       "    <tr>\n",
       "      <th>342</th>\n",
       "      <td>5008836</td>\n",
       "      <td>M</td>\n",
       "      <td>Y</td>\n",
       "      <td>Y</td>\n",
       "      <td>3</td>\n",
       "      <td>270000.0</td>\n",
       "      <td>Working</td>\n",
       "      <td>Secondary / secondary special</td>\n",
       "      <td>Married</td>\n",
       "      <td>House / apartment</td>\n",
       "      <td>-12689</td>\n",
       "      <td>-1163</td>\n",
       "      <td>1</td>\n",
       "      <td>0</td>\n",
       "      <td>0</td>\n",
       "      <td>0</td>\n",
       "      <td>Laborers</td>\n",
       "      <td>5.0</td>\n",
       "      <td>-8</td>\n",
       "      <td>C</td>\n",
       "    </tr>\n",
       "    <tr>\n",
       "      <th>359</th>\n",
       "      <td>5008837</td>\n",
       "      <td>M</td>\n",
       "      <td>Y</td>\n",
       "      <td>Y</td>\n",
       "      <td>3</td>\n",
       "      <td>270000.0</td>\n",
       "      <td>Working</td>\n",
       "      <td>Secondary / secondary special</td>\n",
       "      <td>Married</td>\n",
       "      <td>House / apartment</td>\n",
       "      <td>-12689</td>\n",
       "      <td>-1163</td>\n",
       "      <td>1</td>\n",
       "      <td>0</td>\n",
       "      <td>0</td>\n",
       "      <td>0</td>\n",
       "      <td>Laborers</td>\n",
       "      <td>5.0</td>\n",
       "      <td>-2</td>\n",
       "      <td>C</td>\n",
       "    </tr>\n",
       "    <tr>\n",
       "      <th>376</th>\n",
       "      <td>5008838</td>\n",
       "      <td>M</td>\n",
       "      <td>N</td>\n",
       "      <td>Y</td>\n",
       "      <td>1</td>\n",
       "      <td>405000.0</td>\n",
       "      <td>Commercial associate</td>\n",
       "      <td>Higher education</td>\n",
       "      <td>Married</td>\n",
       "      <td>House / apartment</td>\n",
       "      <td>-11842</td>\n",
       "      <td>-2016</td>\n",
       "      <td>1</td>\n",
       "      <td>0</td>\n",
       "      <td>0</td>\n",
       "      <td>0</td>\n",
       "      <td>Managers</td>\n",
       "      <td>3.0</td>\n",
       "      <td>-9</td>\n",
       "      <td>X</td>\n",
       "    </tr>\n",
       "    <tr>\n",
       "      <th>407</th>\n",
       "      <td>5008839</td>\n",
       "      <td>M</td>\n",
       "      <td>N</td>\n",
       "      <td>Y</td>\n",
       "      <td>1</td>\n",
       "      <td>405000.0</td>\n",
       "      <td>Commercial associate</td>\n",
       "      <td>Higher education</td>\n",
       "      <td>Married</td>\n",
       "      <td>House / apartment</td>\n",
       "      <td>-11842</td>\n",
       "      <td>-2016</td>\n",
       "      <td>1</td>\n",
       "      <td>0</td>\n",
       "      <td>0</td>\n",
       "      <td>0</td>\n",
       "      <td>Managers</td>\n",
       "      <td>3.0</td>\n",
       "      <td>0</td>\n",
       "      <td>C</td>\n",
       "    </tr>\n",
       "    <tr>\n",
       "      <th>421</th>\n",
       "      <td>5008840</td>\n",
       "      <td>M</td>\n",
       "      <td>N</td>\n",
       "      <td>Y</td>\n",
       "      <td>1</td>\n",
       "      <td>405000.0</td>\n",
       "      <td>Commercial associate</td>\n",
       "      <td>Higher education</td>\n",
       "      <td>Married</td>\n",
       "      <td>House / apartment</td>\n",
       "      <td>-11842</td>\n",
       "      <td>-2016</td>\n",
       "      <td>1</td>\n",
       "      <td>0</td>\n",
       "      <td>0</td>\n",
       "      <td>0</td>\n",
       "      <td>Managers</td>\n",
       "      <td>3.0</td>\n",
       "      <td>0</td>\n",
       "      <td>C</td>\n",
       "    </tr>\n",
       "    <tr>\n",
       "      <th>477</th>\n",
       "      <td>5008841</td>\n",
       "      <td>M</td>\n",
       "      <td>N</td>\n",
       "      <td>Y</td>\n",
       "      <td>1</td>\n",
       "      <td>405000.0</td>\n",
       "      <td>Commercial associate</td>\n",
       "      <td>Higher education</td>\n",
       "      <td>Married</td>\n",
       "      <td>House / apartment</td>\n",
       "      <td>-11842</td>\n",
       "      <td>-2016</td>\n",
       "      <td>1</td>\n",
       "      <td>0</td>\n",
       "      <td>0</td>\n",
       "      <td>0</td>\n",
       "      <td>Managers</td>\n",
       "      <td>3.0</td>\n",
       "      <td>0</td>\n",
       "      <td>0</td>\n",
       "    </tr>\n",
       "    <tr>\n",
       "      <th>482</th>\n",
       "      <td>5008842</td>\n",
       "      <td>M</td>\n",
       "      <td>N</td>\n",
       "      <td>Y</td>\n",
       "      <td>1</td>\n",
       "      <td>405000.0</td>\n",
       "      <td>Commercial associate</td>\n",
       "      <td>Higher education</td>\n",
       "      <td>Married</td>\n",
       "      <td>House / apartment</td>\n",
       "      <td>-11842</td>\n",
       "      <td>-2016</td>\n",
       "      <td>1</td>\n",
       "      <td>0</td>\n",
       "      <td>0</td>\n",
       "      <td>0</td>\n",
       "      <td>Managers</td>\n",
       "      <td>3.0</td>\n",
       "      <td>0</td>\n",
       "      <td>0</td>\n",
       "    </tr>\n",
       "    <tr>\n",
       "      <th>491</th>\n",
       "      <td>5008843</td>\n",
       "      <td>M</td>\n",
       "      <td>N</td>\n",
       "      <td>Y</td>\n",
       "      <td>1</td>\n",
       "      <td>405000.0</td>\n",
       "      <td>Commercial associate</td>\n",
       "      <td>Higher education</td>\n",
       "      <td>Married</td>\n",
       "      <td>House / apartment</td>\n",
       "      <td>-11842</td>\n",
       "      <td>-2016</td>\n",
       "      <td>1</td>\n",
       "      <td>0</td>\n",
       "      <td>0</td>\n",
       "      <td>0</td>\n",
       "      <td>Managers</td>\n",
       "      <td>3.0</td>\n",
       "      <td>0</td>\n",
       "      <td>C</td>\n",
       "    </tr>\n",
       "    <tr>\n",
       "      <th>521</th>\n",
       "      <td>5008844</td>\n",
       "      <td>M</td>\n",
       "      <td>Y</td>\n",
       "      <td>Y</td>\n",
       "      <td>0</td>\n",
       "      <td>112500.0</td>\n",
       "      <td>Commercial associate</td>\n",
       "      <td>Secondary / secondary special</td>\n",
       "      <td>Married</td>\n",
       "      <td>House / apartment</td>\n",
       "      <td>-20502</td>\n",
       "      <td>-4450</td>\n",
       "      <td>1</td>\n",
       "      <td>0</td>\n",
       "      <td>1</td>\n",
       "      <td>0</td>\n",
       "      <td>Drivers</td>\n",
       "      <td>2.0</td>\n",
       "      <td>-11</td>\n",
       "      <td>C</td>\n",
       "    </tr>\n",
       "    <tr>\n",
       "      <th>554</th>\n",
       "      <td>5008846</td>\n",
       "      <td>M</td>\n",
       "      <td>Y</td>\n",
       "      <td>Y</td>\n",
       "      <td>0</td>\n",
       "      <td>112500.0</td>\n",
       "      <td>Commercial associate</td>\n",
       "      <td>Secondary / secondary special</td>\n",
       "      <td>Married</td>\n",
       "      <td>House / apartment</td>\n",
       "      <td>-20502</td>\n",
       "      <td>-4450</td>\n",
       "      <td>1</td>\n",
       "      <td>0</td>\n",
       "      <td>1</td>\n",
       "      <td>0</td>\n",
       "      <td>Drivers</td>\n",
       "      <td>2.0</td>\n",
       "      <td>0</td>\n",
       "      <td>0</td>\n",
       "    </tr>\n",
       "    <tr>\n",
       "      <th>566</th>\n",
       "      <td>5008847</td>\n",
       "      <td>M</td>\n",
       "      <td>Y</td>\n",
       "      <td>Y</td>\n",
       "      <td>0</td>\n",
       "      <td>112500.0</td>\n",
       "      <td>Commercial associate</td>\n",
       "      <td>Secondary / secondary special</td>\n",
       "      <td>Married</td>\n",
       "      <td>House / apartment</td>\n",
       "      <td>-20502</td>\n",
       "      <td>-4450</td>\n",
       "      <td>1</td>\n",
       "      <td>0</td>\n",
       "      <td>1</td>\n",
       "      <td>0</td>\n",
       "      <td>Drivers</td>\n",
       "      <td>2.0</td>\n",
       "      <td>-14</td>\n",
       "      <td>C</td>\n",
       "    </tr>\n",
       "    <tr>\n",
       "      <th>599</th>\n",
       "      <td>5008849</td>\n",
       "      <td>M</td>\n",
       "      <td>Y</td>\n",
       "      <td>Y</td>\n",
       "      <td>0</td>\n",
       "      <td>112500.0</td>\n",
       "      <td>Commercial associate</td>\n",
       "      <td>Secondary / secondary special</td>\n",
       "      <td>Married</td>\n",
       "      <td>House / apartment</td>\n",
       "      <td>-20502</td>\n",
       "      <td>-4450</td>\n",
       "      <td>1</td>\n",
       "      <td>0</td>\n",
       "      <td>1</td>\n",
       "      <td>0</td>\n",
       "      <td>Drivers</td>\n",
       "      <td>2.0</td>\n",
       "      <td>-40</td>\n",
       "      <td>C</td>\n",
       "    </tr>\n",
       "    <tr>\n",
       "      <th>...</th>\n",
       "      <td>...</td>\n",
       "      <td>...</td>\n",
       "      <td>...</td>\n",
       "      <td>...</td>\n",
       "      <td>...</td>\n",
       "      <td>...</td>\n",
       "      <td>...</td>\n",
       "      <td>...</td>\n",
       "      <td>...</td>\n",
       "      <td>...</td>\n",
       "      <td>...</td>\n",
       "      <td>...</td>\n",
       "      <td>...</td>\n",
       "      <td>...</td>\n",
       "      <td>...</td>\n",
       "      <td>...</td>\n",
       "      <td>...</td>\n",
       "      <td>...</td>\n",
       "      <td>...</td>\n",
       "      <td>...</td>\n",
       "    </tr>\n",
       "    <tr>\n",
       "      <th>536929</th>\n",
       "      <td>5139311</td>\n",
       "      <td>M</td>\n",
       "      <td>Y</td>\n",
       "      <td>Y</td>\n",
       "      <td>0</td>\n",
       "      <td>180000.0</td>\n",
       "      <td>State servant</td>\n",
       "      <td>Higher education</td>\n",
       "      <td>Married</td>\n",
       "      <td>House / apartment</td>\n",
       "      <td>-10091</td>\n",
       "      <td>-643</td>\n",
       "      <td>1</td>\n",
       "      <td>0</td>\n",
       "      <td>0</td>\n",
       "      <td>0</td>\n",
       "      <td>High skill tech staff</td>\n",
       "      <td>2.0</td>\n",
       "      <td>0</td>\n",
       "      <td>C</td>\n",
       "    </tr>\n",
       "    <tr>\n",
       "      <th>536967</th>\n",
       "      <td>5142185</td>\n",
       "      <td>M</td>\n",
       "      <td>Y</td>\n",
       "      <td>Y</td>\n",
       "      <td>2</td>\n",
       "      <td>450000.0</td>\n",
       "      <td>Commercial associate</td>\n",
       "      <td>Higher education</td>\n",
       "      <td>Married</td>\n",
       "      <td>House / apartment</td>\n",
       "      <td>-17841</td>\n",
       "      <td>-4305</td>\n",
       "      <td>1</td>\n",
       "      <td>1</td>\n",
       "      <td>1</td>\n",
       "      <td>0</td>\n",
       "      <td>Managers</td>\n",
       "      <td>4.0</td>\n",
       "      <td>0</td>\n",
       "      <td>C</td>\n",
       "    </tr>\n",
       "    <tr>\n",
       "      <th>536993</th>\n",
       "      <td>5142456</td>\n",
       "      <td>F</td>\n",
       "      <td>N</td>\n",
       "      <td>N</td>\n",
       "      <td>0</td>\n",
       "      <td>67500.0</td>\n",
       "      <td>Commercial associate</td>\n",
       "      <td>Higher education</td>\n",
       "      <td>Separated</td>\n",
       "      <td>House / apartment</td>\n",
       "      <td>-18952</td>\n",
       "      <td>-499</td>\n",
       "      <td>1</td>\n",
       "      <td>0</td>\n",
       "      <td>1</td>\n",
       "      <td>0</td>\n",
       "      <td>Core staff</td>\n",
       "      <td>1.0</td>\n",
       "      <td>0</td>\n",
       "      <td>5</td>\n",
       "    </tr>\n",
       "    <tr>\n",
       "      <th>536999</th>\n",
       "      <td>5142741</td>\n",
       "      <td>M</td>\n",
       "      <td>N</td>\n",
       "      <td>N</td>\n",
       "      <td>1</td>\n",
       "      <td>360000.0</td>\n",
       "      <td>Working</td>\n",
       "      <td>Higher education</td>\n",
       "      <td>Married</td>\n",
       "      <td>House / apartment</td>\n",
       "      <td>-11112</td>\n",
       "      <td>-469</td>\n",
       "      <td>1</td>\n",
       "      <td>1</td>\n",
       "      <td>1</td>\n",
       "      <td>0</td>\n",
       "      <td>Managers</td>\n",
       "      <td>3.0</td>\n",
       "      <td>0</td>\n",
       "      <td>C</td>\n",
       "    </tr>\n",
       "    <tr>\n",
       "      <th>537037</th>\n",
       "      <td>5142964</td>\n",
       "      <td>M</td>\n",
       "      <td>N</td>\n",
       "      <td>N</td>\n",
       "      <td>1</td>\n",
       "      <td>180000.0</td>\n",
       "      <td>Working</td>\n",
       "      <td>Secondary / secondary special</td>\n",
       "      <td>Married</td>\n",
       "      <td>House / apartment</td>\n",
       "      <td>-10656</td>\n",
       "      <td>-926</td>\n",
       "      <td>1</td>\n",
       "      <td>1</td>\n",
       "      <td>1</td>\n",
       "      <td>0</td>\n",
       "      <td>Laborers</td>\n",
       "      <td>3.0</td>\n",
       "      <td>0</td>\n",
       "      <td>C</td>\n",
       "    </tr>\n",
       "    <tr>\n",
       "      <th>537084</th>\n",
       "      <td>5142972</td>\n",
       "      <td>M</td>\n",
       "      <td>N</td>\n",
       "      <td>N</td>\n",
       "      <td>1</td>\n",
       "      <td>180000.0</td>\n",
       "      <td>Working</td>\n",
       "      <td>Secondary / secondary special</td>\n",
       "      <td>Single / not married</td>\n",
       "      <td>House / apartment</td>\n",
       "      <td>-10656</td>\n",
       "      <td>-926</td>\n",
       "      <td>1</td>\n",
       "      <td>1</td>\n",
       "      <td>1</td>\n",
       "      <td>0</td>\n",
       "      <td>Laborers</td>\n",
       "      <td>3.0</td>\n",
       "      <td>0</td>\n",
       "      <td>C</td>\n",
       "    </tr>\n",
       "    <tr>\n",
       "      <th>537119</th>\n",
       "      <td>5142973</td>\n",
       "      <td>M</td>\n",
       "      <td>N</td>\n",
       "      <td>N</td>\n",
       "      <td>1</td>\n",
       "      <td>180000.0</td>\n",
       "      <td>Working</td>\n",
       "      <td>Secondary / secondary special</td>\n",
       "      <td>Married</td>\n",
       "      <td>House / apartment</td>\n",
       "      <td>-10656</td>\n",
       "      <td>-926</td>\n",
       "      <td>1</td>\n",
       "      <td>1</td>\n",
       "      <td>1</td>\n",
       "      <td>0</td>\n",
       "      <td>Laborers</td>\n",
       "      <td>1.0</td>\n",
       "      <td>0</td>\n",
       "      <td>C</td>\n",
       "    </tr>\n",
       "    <tr>\n",
       "      <th>537138</th>\n",
       "      <td>5143342</td>\n",
       "      <td>M</td>\n",
       "      <td>N</td>\n",
       "      <td>N</td>\n",
       "      <td>1</td>\n",
       "      <td>216000.0</td>\n",
       "      <td>Working</td>\n",
       "      <td>Secondary / secondary special</td>\n",
       "      <td>Married</td>\n",
       "      <td>Municipal apartment</td>\n",
       "      <td>-12946</td>\n",
       "      <td>-2418</td>\n",
       "      <td>1</td>\n",
       "      <td>0</td>\n",
       "      <td>0</td>\n",
       "      <td>1</td>\n",
       "      <td>Laborers</td>\n",
       "      <td>3.0</td>\n",
       "      <td>0</td>\n",
       "      <td>C</td>\n",
       "    </tr>\n",
       "    <tr>\n",
       "      <th>537171</th>\n",
       "      <td>5143573</td>\n",
       "      <td>M</td>\n",
       "      <td>Y</td>\n",
       "      <td>N</td>\n",
       "      <td>0</td>\n",
       "      <td>157500.0</td>\n",
       "      <td>Working</td>\n",
       "      <td>Incomplete higher</td>\n",
       "      <td>Married</td>\n",
       "      <td>With parents</td>\n",
       "      <td>-9124</td>\n",
       "      <td>-960</td>\n",
       "      <td>1</td>\n",
       "      <td>1</td>\n",
       "      <td>0</td>\n",
       "      <td>0</td>\n",
       "      <td>Drivers</td>\n",
       "      <td>2.0</td>\n",
       "      <td>0</td>\n",
       "      <td>C</td>\n",
       "    </tr>\n",
       "    <tr>\n",
       "      <th>537204</th>\n",
       "      <td>5143574</td>\n",
       "      <td>M</td>\n",
       "      <td>Y</td>\n",
       "      <td>N</td>\n",
       "      <td>0</td>\n",
       "      <td>157500.0</td>\n",
       "      <td>Working</td>\n",
       "      <td>Incomplete higher</td>\n",
       "      <td>Married</td>\n",
       "      <td>With parents</td>\n",
       "      <td>-9124</td>\n",
       "      <td>-960</td>\n",
       "      <td>1</td>\n",
       "      <td>1</td>\n",
       "      <td>0</td>\n",
       "      <td>0</td>\n",
       "      <td>Drivers</td>\n",
       "      <td>2.0</td>\n",
       "      <td>0</td>\n",
       "      <td>0</td>\n",
       "    </tr>\n",
       "    <tr>\n",
       "      <th>537221</th>\n",
       "      <td>5143576</td>\n",
       "      <td>M</td>\n",
       "      <td>Y</td>\n",
       "      <td>N</td>\n",
       "      <td>0</td>\n",
       "      <td>157500.0</td>\n",
       "      <td>Working</td>\n",
       "      <td>Incomplete higher</td>\n",
       "      <td>Married</td>\n",
       "      <td>With parents</td>\n",
       "      <td>-9124</td>\n",
       "      <td>-960</td>\n",
       "      <td>1</td>\n",
       "      <td>1</td>\n",
       "      <td>0</td>\n",
       "      <td>0</td>\n",
       "      <td>Drivers</td>\n",
       "      <td>2.0</td>\n",
       "      <td>0</td>\n",
       "      <td>0</td>\n",
       "    </tr>\n",
       "    <tr>\n",
       "      <th>537243</th>\n",
       "      <td>5143578</td>\n",
       "      <td>M</td>\n",
       "      <td>Y</td>\n",
       "      <td>N</td>\n",
       "      <td>0</td>\n",
       "      <td>157500.0</td>\n",
       "      <td>Working</td>\n",
       "      <td>Incomplete higher</td>\n",
       "      <td>Single / not married</td>\n",
       "      <td>With parents</td>\n",
       "      <td>-9124</td>\n",
       "      <td>-960</td>\n",
       "      <td>1</td>\n",
       "      <td>1</td>\n",
       "      <td>0</td>\n",
       "      <td>0</td>\n",
       "      <td>Drivers</td>\n",
       "      <td>2.0</td>\n",
       "      <td>0</td>\n",
       "      <td>0</td>\n",
       "    </tr>\n",
       "    <tr>\n",
       "      <th>537258</th>\n",
       "      <td>5143582</td>\n",
       "      <td>M</td>\n",
       "      <td>Y</td>\n",
       "      <td>N</td>\n",
       "      <td>0</td>\n",
       "      <td>157500.0</td>\n",
       "      <td>Working</td>\n",
       "      <td>Incomplete higher</td>\n",
       "      <td>Married</td>\n",
       "      <td>With parents</td>\n",
       "      <td>-9124</td>\n",
       "      <td>-960</td>\n",
       "      <td>1</td>\n",
       "      <td>1</td>\n",
       "      <td>0</td>\n",
       "      <td>0</td>\n",
       "      <td>Drivers</td>\n",
       "      <td>2.0</td>\n",
       "      <td>0</td>\n",
       "      <td>C</td>\n",
       "    </tr>\n",
       "    <tr>\n",
       "      <th>537297</th>\n",
       "      <td>5145846</td>\n",
       "      <td>F</td>\n",
       "      <td>N</td>\n",
       "      <td>Y</td>\n",
       "      <td>1</td>\n",
       "      <td>256500.0</td>\n",
       "      <td>State servant</td>\n",
       "      <td>Higher education</td>\n",
       "      <td>Married</td>\n",
       "      <td>House / apartment</td>\n",
       "      <td>-17594</td>\n",
       "      <td>-1315</td>\n",
       "      <td>1</td>\n",
       "      <td>0</td>\n",
       "      <td>1</td>\n",
       "      <td>0</td>\n",
       "      <td>Managers</td>\n",
       "      <td>3.0</td>\n",
       "      <td>0</td>\n",
       "      <td>C</td>\n",
       "    </tr>\n",
       "    <tr>\n",
       "      <th>537312</th>\n",
       "      <td>5146078</td>\n",
       "      <td>F</td>\n",
       "      <td>N</td>\n",
       "      <td>Y</td>\n",
       "      <td>1</td>\n",
       "      <td>108000.0</td>\n",
       "      <td>Working</td>\n",
       "      <td>Secondary / secondary special</td>\n",
       "      <td>Single / not married</td>\n",
       "      <td>House / apartment</td>\n",
       "      <td>-12723</td>\n",
       "      <td>-1132</td>\n",
       "      <td>1</td>\n",
       "      <td>1</td>\n",
       "      <td>1</td>\n",
       "      <td>0</td>\n",
       "      <td>Sales staff</td>\n",
       "      <td>1.0</td>\n",
       "      <td>0</td>\n",
       "      <td>C</td>\n",
       "    </tr>\n",
       "    <tr>\n",
       "      <th>537361</th>\n",
       "      <td>5146444</td>\n",
       "      <td>F</td>\n",
       "      <td>N</td>\n",
       "      <td>Y</td>\n",
       "      <td>0</td>\n",
       "      <td>135000.0</td>\n",
       "      <td>Working</td>\n",
       "      <td>Secondary / secondary special</td>\n",
       "      <td>Widow</td>\n",
       "      <td>House / apartment</td>\n",
       "      <td>-14394</td>\n",
       "      <td>-919</td>\n",
       "      <td>1</td>\n",
       "      <td>0</td>\n",
       "      <td>1</td>\n",
       "      <td>0</td>\n",
       "      <td>Managers</td>\n",
       "      <td>1.0</td>\n",
       "      <td>0</td>\n",
       "      <td>5</td>\n",
       "    </tr>\n",
       "    <tr>\n",
       "      <th>537370</th>\n",
       "      <td>5148587</td>\n",
       "      <td>M</td>\n",
       "      <td>Y</td>\n",
       "      <td>Y</td>\n",
       "      <td>0</td>\n",
       "      <td>180000.0</td>\n",
       "      <td>Working</td>\n",
       "      <td>Secondary / secondary special</td>\n",
       "      <td>Married</td>\n",
       "      <td>House / apartment</td>\n",
       "      <td>-11222</td>\n",
       "      <td>-1386</td>\n",
       "      <td>1</td>\n",
       "      <td>0</td>\n",
       "      <td>0</td>\n",
       "      <td>0</td>\n",
       "      <td>Drivers</td>\n",
       "      <td>2.0</td>\n",
       "      <td>0</td>\n",
       "      <td>X</td>\n",
       "    </tr>\n",
       "    <tr>\n",
       "      <th>537394</th>\n",
       "      <td>5148694</td>\n",
       "      <td>F</td>\n",
       "      <td>N</td>\n",
       "      <td>N</td>\n",
       "      <td>0</td>\n",
       "      <td>180000.0</td>\n",
       "      <td>Pensioner</td>\n",
       "      <td>Secondary / secondary special</td>\n",
       "      <td>Civil marriage</td>\n",
       "      <td>Municipal apartment</td>\n",
       "      <td>-20600</td>\n",
       "      <td>-198</td>\n",
       "      <td>1</td>\n",
       "      <td>0</td>\n",
       "      <td>0</td>\n",
       "      <td>0</td>\n",
       "      <td>Laborers</td>\n",
       "      <td>2.0</td>\n",
       "      <td>0</td>\n",
       "      <td>0</td>\n",
       "    </tr>\n",
       "    <tr>\n",
       "      <th>537415</th>\n",
       "      <td>5148934</td>\n",
       "      <td>M</td>\n",
       "      <td>Y</td>\n",
       "      <td>N</td>\n",
       "      <td>0</td>\n",
       "      <td>108000.0</td>\n",
       "      <td>Working</td>\n",
       "      <td>Secondary / secondary special</td>\n",
       "      <td>Married</td>\n",
       "      <td>Office apartment</td>\n",
       "      <td>-17209</td>\n",
       "      <td>-1081</td>\n",
       "      <td>1</td>\n",
       "      <td>0</td>\n",
       "      <td>0</td>\n",
       "      <td>0</td>\n",
       "      <td>Security staff</td>\n",
       "      <td>2.0</td>\n",
       "      <td>0</td>\n",
       "      <td>C</td>\n",
       "    </tr>\n",
       "    <tr>\n",
       "      <th>537437</th>\n",
       "      <td>5149041</td>\n",
       "      <td>F</td>\n",
       "      <td>N</td>\n",
       "      <td>Y</td>\n",
       "      <td>0</td>\n",
       "      <td>180000.0</td>\n",
       "      <td>Working</td>\n",
       "      <td>Secondary / secondary special</td>\n",
       "      <td>Civil marriage</td>\n",
       "      <td>House / apartment</td>\n",
       "      <td>-19750</td>\n",
       "      <td>-3608</td>\n",
       "      <td>1</td>\n",
       "      <td>0</td>\n",
       "      <td>0</td>\n",
       "      <td>0</td>\n",
       "      <td>Laborers</td>\n",
       "      <td>2.0</td>\n",
       "      <td>0</td>\n",
       "      <td>C</td>\n",
       "    </tr>\n",
       "    <tr>\n",
       "      <th>537461</th>\n",
       "      <td>5149042</td>\n",
       "      <td>F</td>\n",
       "      <td>N</td>\n",
       "      <td>Y</td>\n",
       "      <td>0</td>\n",
       "      <td>180000.0</td>\n",
       "      <td>Working</td>\n",
       "      <td>Secondary / secondary special</td>\n",
       "      <td>Civil marriage</td>\n",
       "      <td>House / apartment</td>\n",
       "      <td>-19750</td>\n",
       "      <td>-3608</td>\n",
       "      <td>1</td>\n",
       "      <td>0</td>\n",
       "      <td>0</td>\n",
       "      <td>0</td>\n",
       "      <td>Laborers</td>\n",
       "      <td>2.0</td>\n",
       "      <td>0</td>\n",
       "      <td>C</td>\n",
       "    </tr>\n",
       "    <tr>\n",
       "      <th>537487</th>\n",
       "      <td>5149145</td>\n",
       "      <td>M</td>\n",
       "      <td>Y</td>\n",
       "      <td>Y</td>\n",
       "      <td>0</td>\n",
       "      <td>247500.0</td>\n",
       "      <td>Working</td>\n",
       "      <td>Secondary / secondary special</td>\n",
       "      <td>Married</td>\n",
       "      <td>House / apartment</td>\n",
       "      <td>-10952</td>\n",
       "      <td>-3577</td>\n",
       "      <td>1</td>\n",
       "      <td>1</td>\n",
       "      <td>0</td>\n",
       "      <td>0</td>\n",
       "      <td>Laborers</td>\n",
       "      <td>2.0</td>\n",
       "      <td>0</td>\n",
       "      <td>C</td>\n",
       "    </tr>\n",
       "    <tr>\n",
       "      <th>537513</th>\n",
       "      <td>5149158</td>\n",
       "      <td>M</td>\n",
       "      <td>Y</td>\n",
       "      <td>Y</td>\n",
       "      <td>0</td>\n",
       "      <td>247500.0</td>\n",
       "      <td>Working</td>\n",
       "      <td>Secondary / secondary special</td>\n",
       "      <td>Married</td>\n",
       "      <td>House / apartment</td>\n",
       "      <td>-10952</td>\n",
       "      <td>-3577</td>\n",
       "      <td>1</td>\n",
       "      <td>1</td>\n",
       "      <td>0</td>\n",
       "      <td>0</td>\n",
       "      <td>Laborers</td>\n",
       "      <td>2.0</td>\n",
       "      <td>0</td>\n",
       "      <td>C</td>\n",
       "    </tr>\n",
       "    <tr>\n",
       "      <th>537542</th>\n",
       "      <td>5149190</td>\n",
       "      <td>M</td>\n",
       "      <td>Y</td>\n",
       "      <td>N</td>\n",
       "      <td>1</td>\n",
       "      <td>450000.0</td>\n",
       "      <td>Working</td>\n",
       "      <td>Higher education</td>\n",
       "      <td>Married</td>\n",
       "      <td>House / apartment</td>\n",
       "      <td>-9847</td>\n",
       "      <td>-502</td>\n",
       "      <td>1</td>\n",
       "      <td>0</td>\n",
       "      <td>1</td>\n",
       "      <td>1</td>\n",
       "      <td>Core staff</td>\n",
       "      <td>3.0</td>\n",
       "      <td>0</td>\n",
       "      <td>5</td>\n",
       "    </tr>\n",
       "    <tr>\n",
       "      <th>537554</th>\n",
       "      <td>5149775</td>\n",
       "      <td>F</td>\n",
       "      <td>Y</td>\n",
       "      <td>Y</td>\n",
       "      <td>0</td>\n",
       "      <td>130500.0</td>\n",
       "      <td>Working</td>\n",
       "      <td>Secondary / secondary special</td>\n",
       "      <td>Married</td>\n",
       "      <td>House / apartment</td>\n",
       "      <td>-16137</td>\n",
       "      <td>-9391</td>\n",
       "      <td>1</td>\n",
       "      <td>0</td>\n",
       "      <td>1</td>\n",
       "      <td>0</td>\n",
       "      <td>Laborers</td>\n",
       "      <td>2.0</td>\n",
       "      <td>0</td>\n",
       "      <td>C</td>\n",
       "    </tr>\n",
       "    <tr>\n",
       "      <th>537574</th>\n",
       "      <td>5149828</td>\n",
       "      <td>M</td>\n",
       "      <td>Y</td>\n",
       "      <td>Y</td>\n",
       "      <td>0</td>\n",
       "      <td>315000.0</td>\n",
       "      <td>Working</td>\n",
       "      <td>Secondary / secondary special</td>\n",
       "      <td>Married</td>\n",
       "      <td>House / apartment</td>\n",
       "      <td>-17348</td>\n",
       "      <td>-2420</td>\n",
       "      <td>1</td>\n",
       "      <td>0</td>\n",
       "      <td>0</td>\n",
       "      <td>0</td>\n",
       "      <td>Managers</td>\n",
       "      <td>2.0</td>\n",
       "      <td>0</td>\n",
       "      <td>5</td>\n",
       "    </tr>\n",
       "    <tr>\n",
       "      <th>537586</th>\n",
       "      <td>5149834</td>\n",
       "      <td>F</td>\n",
       "      <td>N</td>\n",
       "      <td>Y</td>\n",
       "      <td>0</td>\n",
       "      <td>157500.0</td>\n",
       "      <td>Commercial associate</td>\n",
       "      <td>Higher education</td>\n",
       "      <td>Married</td>\n",
       "      <td>House / apartment</td>\n",
       "      <td>-12387</td>\n",
       "      <td>-1325</td>\n",
       "      <td>1</td>\n",
       "      <td>0</td>\n",
       "      <td>1</td>\n",
       "      <td>1</td>\n",
       "      <td>Medicine staff</td>\n",
       "      <td>2.0</td>\n",
       "      <td>0</td>\n",
       "      <td>C</td>\n",
       "    </tr>\n",
       "    <tr>\n",
       "      <th>537610</th>\n",
       "      <td>5149838</td>\n",
       "      <td>F</td>\n",
       "      <td>N</td>\n",
       "      <td>Y</td>\n",
       "      <td>0</td>\n",
       "      <td>157500.0</td>\n",
       "      <td>Pensioner</td>\n",
       "      <td>Higher education</td>\n",
       "      <td>Married</td>\n",
       "      <td>House / apartment</td>\n",
       "      <td>-12387</td>\n",
       "      <td>-1325</td>\n",
       "      <td>1</td>\n",
       "      <td>0</td>\n",
       "      <td>1</td>\n",
       "      <td>1</td>\n",
       "      <td>Medicine staff</td>\n",
       "      <td>2.0</td>\n",
       "      <td>0</td>\n",
       "      <td>C</td>\n",
       "    </tr>\n",
       "    <tr>\n",
       "      <th>537643</th>\n",
       "      <td>5150049</td>\n",
       "      <td>F</td>\n",
       "      <td>N</td>\n",
       "      <td>Y</td>\n",
       "      <td>0</td>\n",
       "      <td>283500.0</td>\n",
       "      <td>Working</td>\n",
       "      <td>Secondary / secondary special</td>\n",
       "      <td>Married</td>\n",
       "      <td>House / apartment</td>\n",
       "      <td>-17958</td>\n",
       "      <td>-655</td>\n",
       "      <td>1</td>\n",
       "      <td>0</td>\n",
       "      <td>0</td>\n",
       "      <td>0</td>\n",
       "      <td>Sales staff</td>\n",
       "      <td>2.0</td>\n",
       "      <td>0</td>\n",
       "      <td>2</td>\n",
       "    </tr>\n",
       "    <tr>\n",
       "      <th>537653</th>\n",
       "      <td>5150337</td>\n",
       "      <td>M</td>\n",
       "      <td>N</td>\n",
       "      <td>Y</td>\n",
       "      <td>0</td>\n",
       "      <td>112500.0</td>\n",
       "      <td>Working</td>\n",
       "      <td>Secondary / secondary special</td>\n",
       "      <td>Single / not married</td>\n",
       "      <td>Rented apartment</td>\n",
       "      <td>-9188</td>\n",
       "      <td>-1193</td>\n",
       "      <td>1</td>\n",
       "      <td>0</td>\n",
       "      <td>0</td>\n",
       "      <td>0</td>\n",
       "      <td>Laborers</td>\n",
       "      <td>1.0</td>\n",
       "      <td>0</td>\n",
       "      <td>0</td>\n",
       "    </tr>\n",
       "  </tbody>\n",
       "</table>\n",
       "<p>25134 rows × 20 columns</p>\n",
       "</div>"
      ],
      "text/plain": [
       "             ID CODE_GENDER FLAG_OWN_CAR FLAG_OWN_REALTY  CNT_CHILDREN  \\\n",
       "0       5008806           M            Y               Y             0   \n",
       "30      5008808           F            N               Y             0   \n",
       "35      5008809           F            N               Y             0   \n",
       "40      5008810           F            N               Y             0   \n",
       "67      5008811           F            N               Y             0   \n",
       "106     5008815           M            Y               Y             0   \n",
       "112     5112956           M            Y               Y             0   \n",
       "155     5008819           M            Y               Y             0   \n",
       "163     5008820           M            Y               Y             0   \n",
       "172     5008821           M            Y               Y             0   \n",
       "181     5008822           M            Y               Y             0   \n",
       "190     5008823           M            Y               Y             0   \n",
       "195     5008824           M            Y               Y             0   \n",
       "199     5008825           F            Y               N             0   \n",
       "225     5008826           F            Y               N             0   \n",
       "255     5008830           F            N               Y             0   \n",
       "287     5008831           F            N               Y             0   \n",
       "307     5008832           F            N               Y             0   \n",
       "342     5008836           M            Y               Y             3   \n",
       "359     5008837           M            Y               Y             3   \n",
       "376     5008838           M            N               Y             1   \n",
       "407     5008839           M            N               Y             1   \n",
       "421     5008840           M            N               Y             1   \n",
       "477     5008841           M            N               Y             1   \n",
       "482     5008842           M            N               Y             1   \n",
       "491     5008843           M            N               Y             1   \n",
       "521     5008844           M            Y               Y             0   \n",
       "554     5008846           M            Y               Y             0   \n",
       "566     5008847           M            Y               Y             0   \n",
       "599     5008849           M            Y               Y             0   \n",
       "...         ...         ...          ...             ...           ...   \n",
       "536929  5139311           M            Y               Y             0   \n",
       "536967  5142185           M            Y               Y             2   \n",
       "536993  5142456           F            N               N             0   \n",
       "536999  5142741           M            N               N             1   \n",
       "537037  5142964           M            N               N             1   \n",
       "537084  5142972           M            N               N             1   \n",
       "537119  5142973           M            N               N             1   \n",
       "537138  5143342           M            N               N             1   \n",
       "537171  5143573           M            Y               N             0   \n",
       "537204  5143574           M            Y               N             0   \n",
       "537221  5143576           M            Y               N             0   \n",
       "537243  5143578           M            Y               N             0   \n",
       "537258  5143582           M            Y               N             0   \n",
       "537297  5145846           F            N               Y             1   \n",
       "537312  5146078           F            N               Y             1   \n",
       "537361  5146444           F            N               Y             0   \n",
       "537370  5148587           M            Y               Y             0   \n",
       "537394  5148694           F            N               N             0   \n",
       "537415  5148934           M            Y               N             0   \n",
       "537437  5149041           F            N               Y             0   \n",
       "537461  5149042           F            N               Y             0   \n",
       "537487  5149145           M            Y               Y             0   \n",
       "537513  5149158           M            Y               Y             0   \n",
       "537542  5149190           M            Y               N             1   \n",
       "537554  5149775           F            Y               Y             0   \n",
       "537574  5149828           M            Y               Y             0   \n",
       "537586  5149834           F            N               Y             0   \n",
       "537610  5149838           F            N               Y             0   \n",
       "537643  5150049           F            N               Y             0   \n",
       "537653  5150337           M            N               Y             0   \n",
       "\n",
       "        AMT_INCOME_TOTAL      NAME_INCOME_TYPE            NAME_EDUCATION_TYPE  \\\n",
       "0               112500.0               Working  Secondary / secondary special   \n",
       "30              270000.0  Commercial associate  Secondary / secondary special   \n",
       "35              270000.0  Commercial associate  Secondary / secondary special   \n",
       "40              270000.0  Commercial associate  Secondary / secondary special   \n",
       "67              270000.0  Commercial associate  Secondary / secondary special   \n",
       "106             270000.0               Working               Higher education   \n",
       "112             270000.0               Working               Higher education   \n",
       "155             135000.0  Commercial associate  Secondary / secondary special   \n",
       "163             135000.0  Commercial associate  Secondary / secondary special   \n",
       "172             135000.0  Commercial associate  Secondary / secondary special   \n",
       "181             135000.0  Commercial associate  Secondary / secondary special   \n",
       "190             135000.0  Commercial associate  Secondary / secondary special   \n",
       "195             135000.0  Commercial associate  Secondary / secondary special   \n",
       "199             130500.0               Working              Incomplete higher   \n",
       "225             130500.0               Working              Incomplete higher   \n",
       "255             157500.0               Working  Secondary / secondary special   \n",
       "287             157500.0               Working  Secondary / secondary special   \n",
       "307             157500.0               Working  Secondary / secondary special   \n",
       "342             270000.0               Working  Secondary / secondary special   \n",
       "359             270000.0               Working  Secondary / secondary special   \n",
       "376             405000.0  Commercial associate               Higher education   \n",
       "407             405000.0  Commercial associate               Higher education   \n",
       "421             405000.0  Commercial associate               Higher education   \n",
       "477             405000.0  Commercial associate               Higher education   \n",
       "482             405000.0  Commercial associate               Higher education   \n",
       "491             405000.0  Commercial associate               Higher education   \n",
       "521             112500.0  Commercial associate  Secondary / secondary special   \n",
       "554             112500.0  Commercial associate  Secondary / secondary special   \n",
       "566             112500.0  Commercial associate  Secondary / secondary special   \n",
       "599             112500.0  Commercial associate  Secondary / secondary special   \n",
       "...                  ...                   ...                            ...   \n",
       "536929          180000.0         State servant               Higher education   \n",
       "536967          450000.0  Commercial associate               Higher education   \n",
       "536993           67500.0  Commercial associate               Higher education   \n",
       "536999          360000.0               Working               Higher education   \n",
       "537037          180000.0               Working  Secondary / secondary special   \n",
       "537084          180000.0               Working  Secondary / secondary special   \n",
       "537119          180000.0               Working  Secondary / secondary special   \n",
       "537138          216000.0               Working  Secondary / secondary special   \n",
       "537171          157500.0               Working              Incomplete higher   \n",
       "537204          157500.0               Working              Incomplete higher   \n",
       "537221          157500.0               Working              Incomplete higher   \n",
       "537243          157500.0               Working              Incomplete higher   \n",
       "537258          157500.0               Working              Incomplete higher   \n",
       "537297          256500.0         State servant               Higher education   \n",
       "537312          108000.0               Working  Secondary / secondary special   \n",
       "537361          135000.0               Working  Secondary / secondary special   \n",
       "537370          180000.0               Working  Secondary / secondary special   \n",
       "537394          180000.0             Pensioner  Secondary / secondary special   \n",
       "537415          108000.0               Working  Secondary / secondary special   \n",
       "537437          180000.0               Working  Secondary / secondary special   \n",
       "537461          180000.0               Working  Secondary / secondary special   \n",
       "537487          247500.0               Working  Secondary / secondary special   \n",
       "537513          247500.0               Working  Secondary / secondary special   \n",
       "537542          450000.0               Working               Higher education   \n",
       "537554          130500.0               Working  Secondary / secondary special   \n",
       "537574          315000.0               Working  Secondary / secondary special   \n",
       "537586          157500.0  Commercial associate               Higher education   \n",
       "537610          157500.0             Pensioner               Higher education   \n",
       "537643          283500.0               Working  Secondary / secondary special   \n",
       "537653          112500.0               Working  Secondary / secondary special   \n",
       "\n",
       "          NAME_FAMILY_STATUS    NAME_HOUSING_TYPE  DAYS_BIRTH  DAYS_EMPLOYED  \\\n",
       "0                    Married    House / apartment      -21474          -1134   \n",
       "30      Single / not married    House / apartment      -19110          -3051   \n",
       "35      Single / not married    House / apartment      -19110          -3051   \n",
       "40      Single / not married    House / apartment      -19110          -3051   \n",
       "67      Single / not married    House / apartment      -19110          -3051   \n",
       "106                  Married    House / apartment      -16872           -769   \n",
       "112                  Married    House / apartment      -16872           -769   \n",
       "155                  Married    House / apartment      -17778          -1194   \n",
       "163                  Married    House / apartment      -17778          -1194   \n",
       "172                  Married    House / apartment      -17778          -1194   \n",
       "181                  Married    House / apartment      -17778          -1194   \n",
       "190                  Married    House / apartment      -17778          -1194   \n",
       "195                  Married    House / apartment      -17778          -1194   \n",
       "199                  Married    House / apartment      -10669          -1103   \n",
       "225                  Married    House / apartment      -10669          -1103   \n",
       "255                  Married    House / apartment      -10031          -1469   \n",
       "287                  Married    House / apartment      -10031          -1469   \n",
       "307                  Married    House / apartment      -10031          -1469   \n",
       "342                  Married    House / apartment      -12689          -1163   \n",
       "359                  Married    House / apartment      -12689          -1163   \n",
       "376                  Married    House / apartment      -11842          -2016   \n",
       "407                  Married    House / apartment      -11842          -2016   \n",
       "421                  Married    House / apartment      -11842          -2016   \n",
       "477                  Married    House / apartment      -11842          -2016   \n",
       "482                  Married    House / apartment      -11842          -2016   \n",
       "491                  Married    House / apartment      -11842          -2016   \n",
       "521                  Married    House / apartment      -20502          -4450   \n",
       "554                  Married    House / apartment      -20502          -4450   \n",
       "566                  Married    House / apartment      -20502          -4450   \n",
       "599                  Married    House / apartment      -20502          -4450   \n",
       "...                      ...                  ...         ...            ...   \n",
       "536929               Married    House / apartment      -10091           -643   \n",
       "536967               Married    House / apartment      -17841          -4305   \n",
       "536993             Separated    House / apartment      -18952           -499   \n",
       "536999               Married    House / apartment      -11112           -469   \n",
       "537037               Married    House / apartment      -10656           -926   \n",
       "537084  Single / not married    House / apartment      -10656           -926   \n",
       "537119               Married    House / apartment      -10656           -926   \n",
       "537138               Married  Municipal apartment      -12946          -2418   \n",
       "537171               Married         With parents       -9124           -960   \n",
       "537204               Married         With parents       -9124           -960   \n",
       "537221               Married         With parents       -9124           -960   \n",
       "537243  Single / not married         With parents       -9124           -960   \n",
       "537258               Married         With parents       -9124           -960   \n",
       "537297               Married    House / apartment      -17594          -1315   \n",
       "537312  Single / not married    House / apartment      -12723          -1132   \n",
       "537361                 Widow    House / apartment      -14394           -919   \n",
       "537370               Married    House / apartment      -11222          -1386   \n",
       "537394        Civil marriage  Municipal apartment      -20600           -198   \n",
       "537415               Married     Office apartment      -17209          -1081   \n",
       "537437        Civil marriage    House / apartment      -19750          -3608   \n",
       "537461        Civil marriage    House / apartment      -19750          -3608   \n",
       "537487               Married    House / apartment      -10952          -3577   \n",
       "537513               Married    House / apartment      -10952          -3577   \n",
       "537542               Married    House / apartment       -9847           -502   \n",
       "537554               Married    House / apartment      -16137          -9391   \n",
       "537574               Married    House / apartment      -17348          -2420   \n",
       "537586               Married    House / apartment      -12387          -1325   \n",
       "537610               Married    House / apartment      -12387          -1325   \n",
       "537643               Married    House / apartment      -17958           -655   \n",
       "537653  Single / not married     Rented apartment       -9188          -1193   \n",
       "\n",
       "        FLAG_MOBIL  FLAG_WORK_PHONE  FLAG_PHONE  FLAG_EMAIL  \\\n",
       "0                1                0           0           0   \n",
       "30               1                0           1           1   \n",
       "35               1                0           1           1   \n",
       "40               1                0           1           1   \n",
       "67               1                0           1           1   \n",
       "106              1                1           1           1   \n",
       "112              1                1           1           1   \n",
       "155              1                0           0           0   \n",
       "163              1                0           0           0   \n",
       "172              1                0           0           0   \n",
       "181              1                0           0           0   \n",
       "190              1                0           0           0   \n",
       "195              1                0           0           0   \n",
       "199              1                0           0           0   \n",
       "225              1                0           0           0   \n",
       "255              1                0           1           0   \n",
       "287              1                0           1           0   \n",
       "307              1                0           1           0   \n",
       "342              1                0           0           0   \n",
       "359              1                0           0           0   \n",
       "376              1                0           0           0   \n",
       "407              1                0           0           0   \n",
       "421              1                0           0           0   \n",
       "477              1                0           0           0   \n",
       "482              1                0           0           0   \n",
       "491              1                0           0           0   \n",
       "521              1                0           1           0   \n",
       "554              1                0           1           0   \n",
       "566              1                0           1           0   \n",
       "599              1                0           1           0   \n",
       "...            ...              ...         ...         ...   \n",
       "536929           1                0           0           0   \n",
       "536967           1                1           1           0   \n",
       "536993           1                0           1           0   \n",
       "536999           1                1           1           0   \n",
       "537037           1                1           1           0   \n",
       "537084           1                1           1           0   \n",
       "537119           1                1           1           0   \n",
       "537138           1                0           0           1   \n",
       "537171           1                1           0           0   \n",
       "537204           1                1           0           0   \n",
       "537221           1                1           0           0   \n",
       "537243           1                1           0           0   \n",
       "537258           1                1           0           0   \n",
       "537297           1                0           1           0   \n",
       "537312           1                1           1           0   \n",
       "537361           1                0           1           0   \n",
       "537370           1                0           0           0   \n",
       "537394           1                0           0           0   \n",
       "537415           1                0           0           0   \n",
       "537437           1                0           0           0   \n",
       "537461           1                0           0           0   \n",
       "537487           1                1           0           0   \n",
       "537513           1                1           0           0   \n",
       "537542           1                0           1           1   \n",
       "537554           1                0           1           0   \n",
       "537574           1                0           0           0   \n",
       "537586           1                0           1           1   \n",
       "537610           1                0           1           1   \n",
       "537643           1                0           0           0   \n",
       "537653           1                0           0           0   \n",
       "\n",
       "              OCCUPATION_TYPE  CNT_FAM_MEMBERS  MONTHS_BALANCE STATUS  \n",
       "0              Security staff              2.0               0      C  \n",
       "30                Sales staff              1.0               0      0  \n",
       "35                Sales staff              1.0             -22      X  \n",
       "40                Sales staff              1.0               0      C  \n",
       "67                Sales staff              1.0               0      C  \n",
       "106               Accountants              2.0               0      0  \n",
       "112               Accountants              2.0               0      X  \n",
       "155                  Laborers              2.0             -10      X  \n",
       "163                  Laborers              2.0              -8      X  \n",
       "172                  Laborers              2.0               0      X  \n",
       "181                  Laborers              2.0             -14      X  \n",
       "190                  Laborers              2.0              -3      X  \n",
       "195                  Laborers              2.0               0      0  \n",
       "199               Accountants              2.0               0      0  \n",
       "225               Accountants              2.0              -1      C  \n",
       "255                  Laborers              2.0               0      C  \n",
       "287                  Laborers              2.0               0      C  \n",
       "307                  Laborers              2.0               0      C  \n",
       "342                  Laborers              5.0              -8      C  \n",
       "359                  Laborers              5.0              -2      C  \n",
       "376                  Managers              3.0              -9      X  \n",
       "407                  Managers              3.0               0      C  \n",
       "421                  Managers              3.0               0      C  \n",
       "477                  Managers              3.0               0      0  \n",
       "482                  Managers              3.0               0      0  \n",
       "491                  Managers              3.0               0      C  \n",
       "521                   Drivers              2.0             -11      C  \n",
       "554                   Drivers              2.0               0      0  \n",
       "566                   Drivers              2.0             -14      C  \n",
       "599                   Drivers              2.0             -40      C  \n",
       "...                       ...              ...             ...    ...  \n",
       "536929  High skill tech staff              2.0               0      C  \n",
       "536967               Managers              4.0               0      C  \n",
       "536993             Core staff              1.0               0      5  \n",
       "536999               Managers              3.0               0      C  \n",
       "537037               Laborers              3.0               0      C  \n",
       "537084               Laborers              3.0               0      C  \n",
       "537119               Laborers              1.0               0      C  \n",
       "537138               Laborers              3.0               0      C  \n",
       "537171                Drivers              2.0               0      C  \n",
       "537204                Drivers              2.0               0      0  \n",
       "537221                Drivers              2.0               0      0  \n",
       "537243                Drivers              2.0               0      0  \n",
       "537258                Drivers              2.0               0      C  \n",
       "537297               Managers              3.0               0      C  \n",
       "537312            Sales staff              1.0               0      C  \n",
       "537361               Managers              1.0               0      5  \n",
       "537370                Drivers              2.0               0      X  \n",
       "537394               Laborers              2.0               0      0  \n",
       "537415         Security staff              2.0               0      C  \n",
       "537437               Laborers              2.0               0      C  \n",
       "537461               Laborers              2.0               0      C  \n",
       "537487               Laborers              2.0               0      C  \n",
       "537513               Laborers              2.0               0      C  \n",
       "537542             Core staff              3.0               0      5  \n",
       "537554               Laborers              2.0               0      C  \n",
       "537574               Managers              2.0               0      5  \n",
       "537586         Medicine staff              2.0               0      C  \n",
       "537610         Medicine staff              2.0               0      C  \n",
       "537643            Sales staff              2.0               0      2  \n",
       "537653               Laborers              1.0               0      0  \n",
       "\n",
       "[25134 rows x 20 columns]"
      ]
     },
     "execution_count": 17,
     "metadata": {},
     "output_type": "execute_result"
    }
   ],
   "source": [
    "#Verificando a quantidade de dados depois da junção dos conjuntos\n",
    "df3"
   ]
  },
  {
   "cell_type": "markdown",
   "id": "affiliated-recognition",
   "metadata": {
    "papermill": {
     "duration": 0.051012,
     "end_time": "2021-04-21T22:10:35.306965",
     "exception": false,
     "start_time": "2021-04-21T22:10:35.255953",
     "status": "completed"
    },
    "tags": []
   },
   "source": [
    "### Transformando em dummies"
   ]
  },
  {
   "cell_type": "code",
   "execution_count": 18,
   "id": "modern-uganda",
   "metadata": {
    "ExecuteTime": {
     "end_time": "2021-06-01T17:26:05.158588Z",
     "start_time": "2021-06-01T17:26:05.117533Z"
    },
    "execution": {
     "iopub.execute_input": "2021-04-21T22:10:35.425803Z",
     "iopub.status.busy": "2021-04-21T22:10:35.416923Z",
     "iopub.status.idle": "2021-04-21T22:10:35.439520Z",
     "shell.execute_reply": "2021-04-21T22:10:35.438835Z"
    },
    "papermill": {
     "duration": 0.081281,
     "end_time": "2021-04-21T22:10:35.439666",
     "exception": false,
     "start_time": "2021-04-21T22:10:35.358385",
     "status": "completed"
    },
    "tags": []
   },
   "outputs": [
    {
     "data": {
      "text/html": [
       "<div>\n",
       "<style scoped>\n",
       "    .dataframe tbody tr th:only-of-type {\n",
       "        vertical-align: middle;\n",
       "    }\n",
       "\n",
       "    .dataframe tbody tr th {\n",
       "        vertical-align: top;\n",
       "    }\n",
       "\n",
       "    .dataframe thead th {\n",
       "        text-align: right;\n",
       "    }\n",
       "</style>\n",
       "<table border=\"1\" class=\"dataframe\">\n",
       "  <thead>\n",
       "    <tr style=\"text-align: right;\">\n",
       "      <th></th>\n",
       "      <th>ID</th>\n",
       "      <th>FLAG_OWN_CAR</th>\n",
       "      <th>FLAG_OWN_REALTY</th>\n",
       "      <th>CNT_CHILDREN</th>\n",
       "      <th>AMT_INCOME_TOTAL</th>\n",
       "      <th>NAME_INCOME_TYPE</th>\n",
       "      <th>NAME_EDUCATION_TYPE</th>\n",
       "      <th>NAME_FAMILY_STATUS</th>\n",
       "      <th>NAME_HOUSING_TYPE</th>\n",
       "      <th>DAYS_BIRTH</th>\n",
       "      <th>DAYS_EMPLOYED</th>\n",
       "      <th>FLAG_MOBIL</th>\n",
       "      <th>FLAG_WORK_PHONE</th>\n",
       "      <th>FLAG_PHONE</th>\n",
       "      <th>FLAG_EMAIL</th>\n",
       "      <th>OCCUPATION_TYPE</th>\n",
       "      <th>CNT_FAM_MEMBERS</th>\n",
       "      <th>MONTHS_BALANCE</th>\n",
       "      <th>STATUS</th>\n",
       "    </tr>\n",
       "  </thead>\n",
       "  <tbody>\n",
       "    <tr>\n",
       "      <th>0</th>\n",
       "      <td>5008806</td>\n",
       "      <td>Y</td>\n",
       "      <td>Y</td>\n",
       "      <td>0</td>\n",
       "      <td>112500.0</td>\n",
       "      <td>Working</td>\n",
       "      <td>Secondary / secondary special</td>\n",
       "      <td>Married</td>\n",
       "      <td>House / apartment</td>\n",
       "      <td>-21474</td>\n",
       "      <td>-1134</td>\n",
       "      <td>1</td>\n",
       "      <td>0</td>\n",
       "      <td>0</td>\n",
       "      <td>0</td>\n",
       "      <td>Security staff</td>\n",
       "      <td>2.0</td>\n",
       "      <td>0</td>\n",
       "      <td>C</td>\n",
       "    </tr>\n",
       "    <tr>\n",
       "      <th>30</th>\n",
       "      <td>5008808</td>\n",
       "      <td>N</td>\n",
       "      <td>Y</td>\n",
       "      <td>0</td>\n",
       "      <td>270000.0</td>\n",
       "      <td>Commercial associate</td>\n",
       "      <td>Secondary / secondary special</td>\n",
       "      <td>Single / not married</td>\n",
       "      <td>House / apartment</td>\n",
       "      <td>-19110</td>\n",
       "      <td>-3051</td>\n",
       "      <td>1</td>\n",
       "      <td>0</td>\n",
       "      <td>1</td>\n",
       "      <td>1</td>\n",
       "      <td>Sales staff</td>\n",
       "      <td>1.0</td>\n",
       "      <td>0</td>\n",
       "      <td>0</td>\n",
       "    </tr>\n",
       "    <tr>\n",
       "      <th>35</th>\n",
       "      <td>5008809</td>\n",
       "      <td>N</td>\n",
       "      <td>Y</td>\n",
       "      <td>0</td>\n",
       "      <td>270000.0</td>\n",
       "      <td>Commercial associate</td>\n",
       "      <td>Secondary / secondary special</td>\n",
       "      <td>Single / not married</td>\n",
       "      <td>House / apartment</td>\n",
       "      <td>-19110</td>\n",
       "      <td>-3051</td>\n",
       "      <td>1</td>\n",
       "      <td>0</td>\n",
       "      <td>1</td>\n",
       "      <td>1</td>\n",
       "      <td>Sales staff</td>\n",
       "      <td>1.0</td>\n",
       "      <td>-22</td>\n",
       "      <td>X</td>\n",
       "    </tr>\n",
       "  </tbody>\n",
       "</table>\n",
       "</div>"
      ],
      "text/plain": [
       "         ID FLAG_OWN_CAR FLAG_OWN_REALTY  CNT_CHILDREN  AMT_INCOME_TOTAL  \\\n",
       "0   5008806            Y               Y             0          112500.0   \n",
       "30  5008808            N               Y             0          270000.0   \n",
       "35  5008809            N               Y             0          270000.0   \n",
       "\n",
       "        NAME_INCOME_TYPE            NAME_EDUCATION_TYPE    NAME_FAMILY_STATUS  \\\n",
       "0                Working  Secondary / secondary special               Married   \n",
       "30  Commercial associate  Secondary / secondary special  Single / not married   \n",
       "35  Commercial associate  Secondary / secondary special  Single / not married   \n",
       "\n",
       "    NAME_HOUSING_TYPE  DAYS_BIRTH  DAYS_EMPLOYED  FLAG_MOBIL  FLAG_WORK_PHONE  \\\n",
       "0   House / apartment      -21474          -1134           1                0   \n",
       "30  House / apartment      -19110          -3051           1                0   \n",
       "35  House / apartment      -19110          -3051           1                0   \n",
       "\n",
       "    FLAG_PHONE  FLAG_EMAIL OCCUPATION_TYPE  CNT_FAM_MEMBERS  MONTHS_BALANCE  \\\n",
       "0            0           0  Security staff              2.0               0   \n",
       "30           1           1     Sales staff              1.0               0   \n",
       "35           1           1     Sales staff              1.0             -22   \n",
       "\n",
       "   STATUS  \n",
       "0       C  \n",
       "30      0  \n",
       "35      X  "
      ]
     },
     "execution_count": 18,
     "metadata": {},
     "output_type": "execute_result"
    }
   ],
   "source": [
    "#Removendo a variável CODE_GENDER para não ter viés sexista na base de dados\n",
    "df3 = df3.drop(columns=['CODE_GENDER'])\n",
    "df3.head(3)"
   ]
  },
  {
   "cell_type": "code",
   "execution_count": 19,
   "id": "excessive-mission",
   "metadata": {
    "ExecuteTime": {
     "end_time": "2021-06-01T17:26:05.307336Z",
     "start_time": "2021-06-01T17:26:05.161505Z"
    },
    "execution": {
     "iopub.execute_input": "2021-04-21T22:10:35.554962Z",
     "iopub.status.busy": "2021-04-21T22:10:35.554244Z",
     "iopub.status.idle": "2021-04-21T22:10:35.569273Z",
     "shell.execute_reply": "2021-04-21T22:10:35.568658Z"
    },
    "papermill": {
     "duration": 0.077147,
     "end_time": "2021-04-21T22:10:35.569423",
     "exception": false,
     "start_time": "2021-04-21T22:10:35.492276",
     "status": "completed"
    },
    "tags": []
   },
   "outputs": [],
   "source": [
    "# Trasnformando todos de valores Y ou N em dummies, sendo 1 para Y\n",
    "dummy1 = pd.get_dummies(df3.FLAG_OWN_CAR)\n",
    "df3['FLAG_OWN_CAR'] = dummy1['Y']\n",
    "\n",
    "dummy2 = pd.get_dummies(df3.FLAG_OWN_REALTY)\n",
    "df3['FLAG_OWN_REALTY'] = dummy2['Y']\n",
    "\n",
    "\n",
    "#Vendo as classes das variáveis categóricas\n",
    "#print(df3['NAME_INCOME_TYPE'].unique())\n",
    "\n",
    "#Vendo as classes das variáveis categóricas\n",
    "#print(df3['NAME_EDUCATION_TYPE'].unique())\n",
    "\n",
    "#Vendo as classes das variáveis categóricas\n",
    "#print(df3['OCCUPATION_TYPE'].unique())\n",
    "\n",
    "#Vendo as classes das variáveis categóricas\n",
    "#print(df3['STATUS'].unique())\n",
    "\n",
    "\n"
   ]
  },
  {
   "cell_type": "code",
   "execution_count": 20,
   "id": "typical-hanging",
   "metadata": {
    "ExecuteTime": {
     "end_time": "2021-06-01T17:26:05.360466Z",
     "start_time": "2021-06-01T17:26:05.310209Z"
    },
    "execution": {
     "iopub.execute_input": "2021-04-21T22:10:35.679192Z",
     "iopub.status.busy": "2021-04-21T22:10:35.678536Z",
     "iopub.status.idle": "2021-04-21T22:10:35.681610Z",
     "shell.execute_reply": "2021-04-21T22:10:35.682166Z"
    },
    "papermill": {
     "duration": 0.059993,
     "end_time": "2021-04-21T22:10:35.682352",
     "exception": false,
     "start_time": "2021-04-21T22:10:35.622359",
     "status": "completed"
    },
    "tags": []
   },
   "outputs": [],
   "source": [
    "###criando uma variável ordinal para o nível de escolaridade\n",
    "#df3['NAME_EDUCATION_TYPE'] =\n",
    "\n"
   ]
  },
  {
   "cell_type": "code",
   "execution_count": null,
   "id": "cutting-reconstruction",
   "metadata": {
    "papermill": {
     "duration": 0.053142,
     "end_time": "2021-04-21T22:10:35.788826",
     "exception": false,
     "start_time": "2021-04-21T22:10:35.735684",
     "status": "completed"
    },
    "tags": []
   },
   "outputs": [],
   "source": []
  },
  {
   "cell_type": "markdown",
   "id": "geographic-snapshot",
   "metadata": {
    "papermill": {
     "duration": 0.052268,
     "end_time": "2021-04-21T22:10:35.894179",
     "exception": false,
     "start_time": "2021-04-21T22:10:35.841911",
     "status": "completed"
    },
    "tags": []
   },
   "source": [
    "## Vamos tentar entender a capacidade de pagamento dos individuos e enquadrá-lo em categorias"
   ]
  },
  {
   "cell_type": "code",
   "execution_count": 41,
   "id": "romantic-columbus",
   "metadata": {
    "ExecuteTime": {
     "end_time": "2021-06-01T17:54:55.001322Z",
     "start_time": "2021-06-01T17:54:51.415716Z"
    },
    "execution": {
     "iopub.execute_input": "2021-04-21T22:10:36.027263Z",
     "iopub.status.busy": "2021-04-21T22:10:36.010296Z",
     "iopub.status.idle": "2021-04-21T22:10:38.302141Z",
     "shell.execute_reply": "2021-04-21T22:10:38.301600Z"
    },
    "papermill": {
     "duration": 2.355033,
     "end_time": "2021-04-21T22:10:38.302288",
     "exception": false,
     "start_time": "2021-04-21T22:10:35.947255",
     "status": "completed"
    },
    "tags": []
   },
   "outputs": [
    {
     "data": {
      "text/plain": [
       "[<matplotlib.text.Text at 0x7f19a318f6d8>,\n",
       " <matplotlib.text.Text at 0x7f19a3641518>,\n",
       " <matplotlib.text.Text at 0x7f1993e2f160>,\n",
       " <matplotlib.text.Text at 0x7f1993e2fb38>,\n",
       " <matplotlib.text.Text at 0x7f1993e58550>,\n",
       " <matplotlib.text.Text at 0x7f1993e58f28>]"
      ]
     },
     "execution_count": 41,
     "metadata": {},
     "output_type": "execute_result"
    },
    {
     "data": {
      "image/png": "[encoded data removed]",
      "text/plain": [
       "<matplotlib.figure.Figure at 0x7f19a3730320>"
      ]
     },
     "metadata": {
      "needs_background": "light"
     },
     "output_type": "display_data"
    }
   ],
   "source": [
    "#### Vamos ver como são os níveis de consumo por categorias sociais\n",
    "\n",
    "\n",
    "fig, axes = plt.subplots(1, 4, figsize=(15, 5), sharey=True)\n",
    "fig.suptitle('Consumo por característica')\n",
    "\n",
    "# Bulbasaur\n",
    "g1 = sns.barplot(ax=axes[0], x=df3.NAME_INCOME_TYPE, y=df3.AMT_INCOME_TOTAL)\n",
    "g1.set_xticklabels(g1.get_xticklabels(), rotation=45)\n",
    "\n",
    "\n",
    "# Charmander\n",
    "g2 = sns.barplot(ax=axes[1], x=df3.NAME_EDUCATION_TYPE, y=df3.AMT_INCOME_TOTAL)\n",
    "g2.set_xticklabels(g2.get_xticklabels(), rotation=45)\n",
    "\n",
    "# Squirtle\n",
    "g3 = sns.barplot(ax=axes[2], x=df3.NAME_FAMILY_STATUS, y=df3.AMT_INCOME_TOTAL)\n",
    "g3.set_xticklabels(g3.get_xticklabels(), rotation=45)\n",
    "\n",
    "#\n",
    "g4 = sns.barplot(ax=axes[3], x=df3.NAME_HOUSING_TYPE, y=df3.AMT_INCOME_TOTAL)\n",
    "g4.set_xticklabels(g4.get_xticklabels(), rotation=45)\n",
    "\n"
   ]
  },
  {
   "cell_type": "code",
   "execution_count": 42,
   "id": "automotive-greek",
   "metadata": {
    "ExecuteTime": {
     "end_time": "2021-06-01T17:55:12.997093Z",
     "start_time": "2021-06-01T17:55:11.424691Z"
    },
    "execution": {
     "iopub.execute_input": "2021-04-21T22:10:38.428699Z",
     "iopub.status.busy": "2021-04-21T22:10:38.427888Z",
     "iopub.status.idle": "2021-04-21T22:10:39.663761Z",
     "shell.execute_reply": "2021-04-21T22:10:39.664516Z"
    },
    "papermill": {
     "duration": 1.307312,
     "end_time": "2021-04-21T22:10:39.664760",
     "exception": false,
     "start_time": "2021-04-21T22:10:38.357448",
     "status": "completed"
    },
    "tags": []
   },
   "outputs": [
    {
     "data": {
      "text/plain": [
       "(array([ 0,  1,  2,  3,  4,  5,  6,  7,  8,  9, 10, 11, 12, 13, 14, 15, 16,\n",
       "        17]), <a list of 18 Text xticklabel objects>)"
      ]
     },
     "execution_count": 42,
     "metadata": {},
     "output_type": "execute_result"
    },
    {
     "data": {
      "image/png": "[encoded data removed]",
      "text/plain": [
       "<matplotlib.figure.Figure at 0x7f19a31c6438>"
      ]
     },
     "metadata": {
      "needs_background": "light"
     },
     "output_type": "display_data"
    }
   ],
   "source": [
    "\n",
    "###criando UM catplot individual para a variavel OCCUPATION_TYPE em relação ao poder de compra AMT_INCOME_TOTAL\n",
    "plt.figure(figsize =(10,5))\n",
    "ax = sns.barplot(x=\"OCCUPATION_TYPE\", y=\"AMT_INCOME_TOTAL\",data=df3).set_title('Consumo por profissão')\n",
    "plt.xticks(rotation=60)"
   ]
  },
  {
   "cell_type": "markdown",
   "id": "understanding-broad",
   "metadata": {
    "papermill": {
     "duration": 0.057207,
     "end_time": "2021-04-21T22:10:39.782134",
     "exception": false,
     "start_time": "2021-04-21T22:10:39.724927",
     "status": "completed"
    },
    "tags": []
   },
   "source": [
    "### Como há várias categorias, dividiremos todas elas pelo poder de consumo"
   ]
  },
  {
   "cell_type": "code",
   "execution_count": 43,
   "id": "simple-creation",
   "metadata": {
    "ExecuteTime": {
     "end_time": "2021-06-01T17:55:13.169424Z",
     "start_time": "2021-06-01T17:55:13.142293Z"
    },
    "execution": {
     "iopub.execute_input": "2021-04-21T22:10:39.916413Z",
     "iopub.status.busy": "2021-04-21T22:10:39.915350Z",
     "iopub.status.idle": "2021-04-21T22:10:39.939590Z",
     "shell.execute_reply": "2021-04-21T22:10:39.938828Z"
    },
    "papermill": {
     "duration": 0.100083,
     "end_time": "2021-04-21T22:10:39.939808",
     "exception": false,
     "start_time": "2021-04-21T22:10:39.839725",
     "status": "completed"
    },
    "tags": []
   },
   "outputs": [
    {
     "data": {
      "text/plain": [
       "OCCUPATION_TYPE\n",
       "Managers                 279117.292829\n",
       "Realty agents            247500.000000\n",
       "Drivers                  209797.240412\n",
       "Accountants              202463.865834\n",
       "IT staff                 199860.000000\n",
       "Private service staff    198863.372093\n",
       "High skill tech staff    196053.579176\n",
       "HR staff                 193764.705882\n",
       "Core staff               190172.786967\n",
       "Laborers                 179794.282402\n",
       "Security staff           177037.753378\n",
       "Sales staff              174984.897848\n",
       "Secretaries              168079.470199\n",
       "Medicine staff           166114.618061\n",
       "Waiters/barmen staff     156206.896552\n",
       "Cleaning staff           149141.107078\n",
       "Cooking staff            146517.251908\n",
       "Low-skill Laborers       133920.000000\n",
       "Name: AMT_INCOME_TOTAL, dtype: float64"
      ]
     },
     "execution_count": 43,
     "metadata": {},
     "output_type": "execute_result"
    }
   ],
   "source": [
    "#média de consumo por profissão\n",
    "df4 = df3.groupby(['OCCUPATION_TYPE']).mean().sort_values(['AMT_INCOME_TOTAL'], ascending=False)\n",
    "df4['AMT_INCOME_TOTAL']"
   ]
  },
  {
   "cell_type": "code",
   "execution_count": 44,
   "id": "supreme-compilation",
   "metadata": {
    "ExecuteTime": {
     "end_time": "2021-06-01T17:55:14.418606Z",
     "start_time": "2021-06-01T17:55:14.287890Z"
    },
    "execution": {
     "iopub.execute_input": "2021-04-21T22:10:40.080031Z",
     "iopub.status.busy": "2021-04-21T22:10:40.079044Z",
     "iopub.status.idle": "2021-04-21T22:10:40.221743Z",
     "shell.execute_reply": "2021-04-21T22:10:40.221039Z"
    },
    "papermill": {
     "duration": 0.213022,
     "end_time": "2021-04-21T22:10:40.221884",
     "exception": false,
     "start_time": "2021-04-21T22:10:40.008862",
     "status": "completed"
    },
    "tags": []
   },
   "outputs": [],
   "source": [
    "\n",
    "\n",
    "# Como temos 18 profissões, vamos criar um indice de impacto de 6 níveis, de acordo com o poder de consumo\n",
    "df3['OCCUPATION_TYPE'] = df3['OCCUPATION_TYPE'].replace(['Managers','Realty agents'],6)\n",
    "df3['OCCUPATION_TYPE'] = df3['OCCUPATION_TYPE'].replace(['Drivers','Accountants','IT staff','Private service staff'],5)\n",
    "df3['OCCUPATION_TYPE'] = df3['OCCUPATION_TYPE'].replace(['High skill tech staff','HR staff','Core staff','Laborers'],4)\n",
    "df3['OCCUPATION_TYPE'] = df3['OCCUPATION_TYPE'].replace(['Security staff','Sales staff','Secretaries','Medicine staff'],3)\n",
    "df3['OCCUPATION_TYPE'] = df3['OCCUPATION_TYPE'].replace(['Drivers','Accountants','IT staff','Private service staff'],2)\n",
    "df3['OCCUPATION_TYPE'] = df3['OCCUPATION_TYPE'].replace(['Waiters/barmen staff','Cleaning staff','Cooking staff','Low-skill Laborers'],1)\n",
    "df3['OCCUPATION_TYPE'] = df3['OCCUPATION_TYPE'].apply(pd.to_numeric)"
   ]
  },
  {
   "cell_type": "code",
   "execution_count": 45,
   "id": "norman-europe",
   "metadata": {
    "ExecuteTime": {
     "end_time": "2021-06-01T17:55:14.924406Z",
     "start_time": "2021-06-01T17:55:14.904317Z"
    },
    "execution": {
     "iopub.execute_input": "2021-04-21T22:10:40.344208Z",
     "iopub.status.busy": "2021-04-21T22:10:40.343090Z",
     "iopub.status.idle": "2021-04-21T22:10:40.361217Z",
     "shell.execute_reply": "2021-04-21T22:10:40.360447Z"
    },
    "papermill": {
     "duration": 0.081946,
     "end_time": "2021-04-21T22:10:40.361370",
     "exception": false,
     "start_time": "2021-04-21T22:10:40.279424",
     "status": "completed"
    },
    "tags": []
   },
   "outputs": [
    {
     "data": {
      "text/plain": [
       "NAME_EDUCATION_TYPE\n",
       "Academic degree                  253928.571429\n",
       "Higher education                 229514.648345\n",
       "Incomplete higher                202280.664653\n",
       "Secondary / secondary special    179955.714570\n",
       "Lower secondary                  165455.614973\n",
       "Name: AMT_INCOME_TOTAL, dtype: float64"
      ]
     },
     "execution_count": 45,
     "metadata": {},
     "output_type": "execute_result"
    }
   ],
   "source": [
    "# Fazendo o mesmo para educação\n",
    "df5 = df3.groupby(['NAME_EDUCATION_TYPE']).mean().sort_values(['AMT_INCOME_TOTAL'], ascending=False)\n",
    "df5['AMT_INCOME_TOTAL']"
   ]
  },
  {
   "cell_type": "code",
   "execution_count": 46,
   "id": "hidden-affect",
   "metadata": {
    "ExecuteTime": {
     "end_time": "2021-06-01T17:55:15.766350Z",
     "start_time": "2021-06-01T17:55:15.647649Z"
    },
    "execution": {
     "iopub.execute_input": "2021-04-21T22:10:40.490317Z",
     "iopub.status.busy": "2021-04-21T22:10:40.488916Z",
     "iopub.status.idle": "2021-04-21T22:10:40.605911Z",
     "shell.execute_reply": "2021-04-21T22:10:40.605334Z"
    },
    "papermill": {
     "duration": 0.185669,
     "end_time": "2021-04-21T22:10:40.606055",
     "exception": false,
     "start_time": "2021-04-21T22:10:40.420386",
     "status": "completed"
    },
    "tags": []
   },
   "outputs": [
    {
     "name": "stdout",
     "output_type": "stream",
     "text": [
      "[2 4 3 1 5]\n"
     ]
    }
   ],
   "source": [
    "df3['NAME_EDUCATION_TYPE'] = df3['NAME_EDUCATION_TYPE'].replace(['Academic degree'],5)\n",
    "df3['NAME_EDUCATION_TYPE'] = df3['NAME_EDUCATION_TYPE'].replace(['Higher education'],4)\n",
    "df3['NAME_EDUCATION_TYPE'] = df3['NAME_EDUCATION_TYPE'].replace(['Incomplete higher'],3)\n",
    "df3['NAME_EDUCATION_TYPE'] = df3['NAME_EDUCATION_TYPE'].replace(['Secondary / secondary special'],2)\n",
    "df3['NAME_EDUCATION_TYPE'] = df3['NAME_EDUCATION_TYPE'].replace(['Lower secondary'],1)\n",
    "df3['NAME_EDUCATION_TYPE'] = df3['NAME_EDUCATION_TYPE'].apply(pd.to_numeric)\n",
    "print(df3['NAME_EDUCATION_TYPE'].unique())"
   ]
  },
  {
   "cell_type": "code",
   "execution_count": 47,
   "id": "moderate-february",
   "metadata": {
    "ExecuteTime": {
     "end_time": "2021-06-01T17:55:16.249182Z",
     "start_time": "2021-06-01T17:55:16.224883Z"
    },
    "execution": {
     "iopub.execute_input": "2021-04-21T22:10:40.730790Z",
     "iopub.status.busy": "2021-04-21T22:10:40.730121Z",
     "iopub.status.idle": "2021-04-21T22:10:40.747516Z",
     "shell.execute_reply": "2021-04-21T22:10:40.746859Z"
    },
    "papermill": {
     "duration": 0.082504,
     "end_time": "2021-04-21T22:10:40.747654",
     "exception": false,
     "start_time": "2021-04-21T22:10:40.665150",
     "status": "completed"
    },
    "tags": []
   },
   "outputs": [
    {
     "data": {
      "text/plain": [
       "NAME_INCOME_TYPE\n",
       "Pensioner               257538.461538\n",
       "Commercial associate    218450.592669\n",
       "State servant           205066.709889\n",
       "Working                 182547.168800\n",
       "Student                 159300.000000\n",
       "Name: AMT_INCOME_TOTAL, dtype: float64"
      ]
     },
     "execution_count": 47,
     "metadata": {},
     "output_type": "execute_result"
    }
   ],
   "source": [
    "# Fazendo o mesmo para finalidade de uso do crédito\n",
    "df6 = df3.groupby(['NAME_INCOME_TYPE']).mean().sort_values(['AMT_INCOME_TOTAL'], ascending=False)\n",
    "df6['AMT_INCOME_TOTAL']\n"
   ]
  },
  {
   "cell_type": "code",
   "execution_count": 48,
   "id": "racial-economics",
   "metadata": {
    "ExecuteTime": {
     "end_time": "2021-06-01T17:55:17.029925Z",
     "start_time": "2021-06-01T17:55:16.888362Z"
    },
    "execution": {
     "iopub.execute_input": "2021-04-21T22:10:40.883003Z",
     "iopub.status.busy": "2021-04-21T22:10:40.877867Z",
     "iopub.status.idle": "2021-04-21T22:10:40.994651Z",
     "shell.execute_reply": "2021-04-21T22:10:40.995356Z"
    },
    "papermill": {
     "duration": 0.188125,
     "end_time": "2021-04-21T22:10:40.995604",
     "exception": false,
     "start_time": "2021-04-21T22:10:40.807479",
     "status": "completed"
    },
    "tags": []
   },
   "outputs": [
    {
     "name": "stdout",
     "output_type": "stream",
     "text": [
      "[2 4 3 1 5]\n"
     ]
    }
   ],
   "source": [
    "df3['NAME_INCOME_TYPE'] = df3['NAME_INCOME_TYPE'].replace(['Pensioner'],5)\n",
    "df3['NAME_INCOME_TYPE'] = df3['NAME_INCOME_TYPE'].replace(['Commercial associate'],4)\n",
    "df3['NAME_INCOME_TYPE'] = df3['NAME_INCOME_TYPE'].replace(['State servant'],3)\n",
    "df3['NAME_INCOME_TYPE'] = df3['NAME_INCOME_TYPE'].replace(['Working'],2)\n",
    "df3['NAME_INCOME_TYPE'] = df3['NAME_INCOME_TYPE'].replace(['Student'],1)\n",
    "df3['NAME_INCOME_TYPE'] = df3['NAME_INCOME_TYPE'].apply(pd.to_numeric)\n",
    "print(df3['NAME_INCOME_TYPE'].unique())"
   ]
  },
  {
   "cell_type": "code",
   "execution_count": null,
   "id": "abroad-macintosh",
   "metadata": {
    "papermill": {
     "duration": 0.059772,
     "end_time": "2021-04-21T22:10:41.117356",
     "exception": false,
     "start_time": "2021-04-21T22:10:41.057584",
     "status": "completed"
    },
    "tags": []
   },
   "outputs": [],
   "source": []
  },
  {
   "cell_type": "code",
   "execution_count": 49,
   "id": "obvious-group",
   "metadata": {
    "ExecuteTime": {
     "end_time": "2021-06-01T17:55:17.776930Z",
     "start_time": "2021-06-01T17:55:17.747645Z"
    },
    "execution": {
     "iopub.execute_input": "2021-04-21T22:10:41.244808Z",
     "iopub.status.busy": "2021-04-21T22:10:41.244060Z",
     "iopub.status.idle": "2021-04-21T22:10:41.262326Z",
     "shell.execute_reply": "2021-04-21T22:10:41.261627Z"
    },
    "papermill": {
     "duration": 0.08399,
     "end_time": "2021-04-21T22:10:41.262470",
     "exception": false,
     "start_time": "2021-04-21T22:10:41.178480",
     "status": "completed"
    },
    "tags": []
   },
   "outputs": [
    {
     "data": {
      "text/plain": [
       "NAME_HOUSING_TYPE\n",
       "Office apartment       237812.562814\n",
       "Co-op apartment        222868.421053\n",
       "Rented apartment       216431.825740\n",
       "House / apartment      195017.475251\n",
       "Municipal apartment    188764.470443\n",
       "With parents           179850.883217\n",
       "Name: AMT_INCOME_TOTAL, dtype: float64"
      ]
     },
     "execution_count": 49,
     "metadata": {},
     "output_type": "execute_result"
    }
   ],
   "source": [
    "# Fazendo o mesmo para finalidade de uso do crédito\n",
    "df7 = df3.groupby(['NAME_HOUSING_TYPE']).mean().sort_values(['AMT_INCOME_TOTAL'], ascending=False)\n",
    "df7['AMT_INCOME_TOTAL']"
   ]
  },
  {
   "cell_type": "code",
   "execution_count": 50,
   "id": "circular-lithuania",
   "metadata": {
    "ExecuteTime": {
     "end_time": "2021-06-01T17:55:18.377391Z",
     "start_time": "2021-06-01T17:55:18.231467Z"
    },
    "execution": {
     "iopub.execute_input": "2021-04-21T22:10:41.400571Z",
     "iopub.status.busy": "2021-04-21T22:10:41.393796Z",
     "iopub.status.idle": "2021-04-21T22:10:41.515714Z",
     "shell.execute_reply": "2021-04-21T22:10:41.515157Z"
    },
    "papermill": {
     "duration": 0.19248,
     "end_time": "2021-04-21T22:10:41.515881",
     "exception": false,
     "start_time": "2021-04-21T22:10:41.323401",
     "status": "completed"
    },
    "tags": []
   },
   "outputs": [
    {
     "name": "stdout",
     "output_type": "stream",
     "text": [
      "[3 4 2 1 5 6]\n"
     ]
    }
   ],
   "source": [
    "df3['NAME_HOUSING_TYPE'] = df3['NAME_HOUSING_TYPE'].replace(['Office apartment'],6)\n",
    "df3['NAME_HOUSING_TYPE'] = df3['NAME_HOUSING_TYPE'].replace(['Co-op apartment'],5)\n",
    "df3['NAME_HOUSING_TYPE'] = df3['NAME_HOUSING_TYPE'].replace(['Rented apartment'],4)\n",
    "df3['NAME_HOUSING_TYPE'] = df3['NAME_HOUSING_TYPE'].replace(['House / apartment'],3)\n",
    "df3['NAME_HOUSING_TYPE'] = df3['NAME_HOUSING_TYPE'].replace(['Municipal apartment'],2)\n",
    "df3['NAME_HOUSING_TYPE'] = df3['NAME_HOUSING_TYPE'].replace(['With parents'],1)\n",
    "df3['NAME_HOUSING_TYPE'] = df3['NAME_HOUSING_TYPE'].apply(pd.to_numeric)\n",
    "print(df3['NAME_HOUSING_TYPE'].unique())"
   ]
  },
  {
   "cell_type": "code",
   "execution_count": null,
   "id": "artificial-denial",
   "metadata": {
    "papermill": {
     "duration": 0.061159,
     "end_time": "2021-04-21T22:10:41.637763",
     "exception": false,
     "start_time": "2021-04-21T22:10:41.576604",
     "status": "completed"
    },
    "tags": []
   },
   "outputs": [],
   "source": []
  },
  {
   "cell_type": "code",
   "execution_count": 51,
   "id": "sacred-promotion",
   "metadata": {
    "ExecuteTime": {
     "end_time": "2021-06-01T17:55:19.229490Z",
     "start_time": "2021-06-01T17:55:19.193729Z"
    },
    "execution": {
     "iopub.execute_input": "2021-04-21T22:10:41.770798Z",
     "iopub.status.busy": "2021-04-21T22:10:41.770061Z",
     "iopub.status.idle": "2021-04-21T22:10:41.800160Z",
     "shell.execute_reply": "2021-04-21T22:10:41.799484Z"
    },
    "papermill": {
     "duration": 0.098621,
     "end_time": "2021-04-21T22:10:41.800313",
     "exception": false,
     "start_time": "2021-04-21T22:10:41.701692",
     "status": "completed"
    },
    "tags": []
   },
   "outputs": [
    {
     "data": {
      "text/html": [
       "<div>\n",
       "<style scoped>\n",
       "    .dataframe tbody tr th:only-of-type {\n",
       "        vertical-align: middle;\n",
       "    }\n",
       "\n",
       "    .dataframe tbody tr th {\n",
       "        vertical-align: top;\n",
       "    }\n",
       "\n",
       "    .dataframe thead th {\n",
       "        text-align: right;\n",
       "    }\n",
       "</style>\n",
       "<table border=\"1\" class=\"dataframe\">\n",
       "  <thead>\n",
       "    <tr style=\"text-align: right;\">\n",
       "      <th></th>\n",
       "      <th>FLAG_OWN_CAR</th>\n",
       "      <th>FLAG_OWN_REALTY</th>\n",
       "      <th>AMT_INCOME_TOTAL</th>\n",
       "      <th>NAME_INCOME_TYPE</th>\n",
       "      <th>NAME_EDUCATION_TYPE</th>\n",
       "      <th>NAME_HOUSING_TYPE</th>\n",
       "      <th>DAYS_BIRTH</th>\n",
       "      <th>DAYS_EMPLOYED</th>\n",
       "      <th>OCCUPATION_TYPE</th>\n",
       "      <th>CNT_FAM_MEMBERS</th>\n",
       "      <th>MONTHS_BALANCE</th>\n",
       "      <th>STATUS</th>\n",
       "    </tr>\n",
       "  </thead>\n",
       "  <tbody>\n",
       "    <tr>\n",
       "      <th>0</th>\n",
       "      <td>1</td>\n",
       "      <td>1</td>\n",
       "      <td>112500.0</td>\n",
       "      <td>2</td>\n",
       "      <td>2</td>\n",
       "      <td>3</td>\n",
       "      <td>-21474</td>\n",
       "      <td>-1134</td>\n",
       "      <td>3</td>\n",
       "      <td>2.0</td>\n",
       "      <td>0</td>\n",
       "      <td>C</td>\n",
       "    </tr>\n",
       "    <tr>\n",
       "      <th>30</th>\n",
       "      <td>0</td>\n",
       "      <td>1</td>\n",
       "      <td>270000.0</td>\n",
       "      <td>4</td>\n",
       "      <td>2</td>\n",
       "      <td>3</td>\n",
       "      <td>-19110</td>\n",
       "      <td>-3051</td>\n",
       "      <td>3</td>\n",
       "      <td>1.0</td>\n",
       "      <td>0</td>\n",
       "      <td>0</td>\n",
       "    </tr>\n",
       "  </tbody>\n",
       "</table>\n",
       "</div>"
      ],
      "text/plain": [
       "    FLAG_OWN_CAR  FLAG_OWN_REALTY  AMT_INCOME_TOTAL  NAME_INCOME_TYPE  \\\n",
       "0              1                1          112500.0                 2   \n",
       "30             0                1          270000.0                 4   \n",
       "\n",
       "    NAME_EDUCATION_TYPE  NAME_HOUSING_TYPE  DAYS_BIRTH  DAYS_EMPLOYED  \\\n",
       "0                     2                  3      -21474          -1134   \n",
       "30                    2                  3      -19110          -3051   \n",
       "\n",
       "    OCCUPATION_TYPE  CNT_FAM_MEMBERS  MONTHS_BALANCE STATUS  \n",
       "0                 3              2.0               0      C  \n",
       "30                3              1.0               0      0  "
      ]
     },
     "execution_count": 51,
     "metadata": {},
     "output_type": "execute_result"
    }
   ],
   "source": [
    "#Como foi visto no gráfico inicial, a variável estado civil não varia muito de consumo de acordo como status,\n",
    "# portanto vamos remove-lá junto as demais desnecessárias\n",
    "\n",
    "df3 = df3.drop(columns=['NAME_FAMILY_STATUS'])\n",
    "df3 = df3.drop(columns=['ID'])\n",
    "#Vamos tira a variável FLAG_MOBIL , CNT_CHILDREN e FLAG_WORK_PHONE pois também não traz informação relevante\n",
    "df3 = df3.drop(columns=['FLAG_MOBIL'])\n",
    "df3 = df3.drop(columns=['FLAG_WORK_PHONE'])\n",
    "df3 = df3.drop(columns=['CNT_CHILDREN'])\n",
    "df3 = df3.drop(columns=['FLAG_PHONE'])\n",
    "df3 = df3.drop(columns=['FLAG_EMAIL'])\n",
    "df3.head(2)"
   ]
  },
  {
   "cell_type": "markdown",
   "id": "computational-paris",
   "metadata": {
    "papermill": {
     "duration": 0.061809,
     "end_time": "2021-04-21T22:10:41.923840",
     "exception": false,
     "start_time": "2021-04-21T22:10:41.862031",
     "status": "completed"
    },
    "tags": []
   },
   "source": []
  },
  {
   "cell_type": "markdown",
   "id": "agreed-nelson",
   "metadata": {
    "papermill": {
     "duration": 0.061878,
     "end_time": "2021-04-21T22:10:42.047892",
     "exception": false,
     "start_time": "2021-04-21T22:10:41.986014",
     "status": "completed"
    },
    "tags": []
   },
   "source": [
    "#### Agora vamos analisar a variavel target"
   ]
  },
  {
   "cell_type": "markdown",
   "id": "ongoing-skiing",
   "metadata": {
    "papermill": {
     "duration": 0.061003,
     "end_time": "2021-04-21T22:10:42.171986",
     "exception": false,
     "start_time": "2021-04-21T22:10:42.110983",
     "status": "completed"
    },
    "tags": []
   },
   "source": [
    "##### Temos duas categorias de indivíduos: com atrasos de pagamentos, e sem atrasos. Portanto vamos categorizá-los como **inadimplentes e adimplentes**. A decisão de quem é adimplente ou inadimplente é relativo e depende dos interesses internos das instituições, mas para simplificação do modelo fazeremos dessa forma."
   ]
  },
  {
   "cell_type": "markdown",
   "id": "parental-triple",
   "metadata": {
    "papermill": {
     "duration": 0.06072,
     "end_time": "2021-04-21T22:10:42.293949",
     "exception": false,
     "start_time": "2021-04-21T22:10:42.233229",
     "status": "completed"
    },
    "tags": []
   },
   "source": [
    "Você deve estar se perguntando se não seria interessante estimar uma regressão linear antes de transformar a variável target em dummy. A questão é que as variáveis explicativas precisam ter distribuição normal para obter os melhores estimadores de MQO, o que não acontece no nosso conjunto de dados. Portando levaremos a nossa análise a modelos não linear."
   ]
  },
  {
   "cell_type": "code",
   "execution_count": 52,
   "id": "anticipated-paintball",
   "metadata": {
    "ExecuteTime": {
     "end_time": "2021-06-01T17:55:21.973683Z",
     "start_time": "2021-06-01T17:55:21.727476Z"
    },
    "execution": {
     "iopub.execute_input": "2021-04-21T22:10:42.440374Z",
     "iopub.status.busy": "2021-04-21T22:10:42.426831Z",
     "iopub.status.idle": "2021-04-21T22:10:42.656614Z",
     "shell.execute_reply": "2021-04-21T22:10:42.655966Z"
    },
    "papermill": {
     "duration": 0.301773,
     "end_time": "2021-04-21T22:10:42.656770",
     "exception": false,
     "start_time": "2021-04-21T22:10:42.354997",
     "status": "completed"
    },
    "tags": []
   },
   "outputs": [
    {
     "name": "stdout",
     "output_type": "stream",
     "text": [
      "[0 1]\n"
     ]
    }
   ],
   "source": [
    "#letras são adimplentes e números inadimplentes\n",
    "df3['STATUS'] = df3['STATUS'].replace(['C'],0)\n",
    "df3['STATUS'] = df3['STATUS'].replace(['X'],0)\n",
    "df3['STATUS'] = df3['STATUS'].apply(pd.to_numeric) \n",
    "df3['STATUS'] = np.where(df3['STATUS']<1, 0, 1)\n",
    "print(df3['STATUS'].unique())\n"
   ]
  },
  {
   "cell_type": "code",
   "execution_count": 53,
   "id": "civil-tuning",
   "metadata": {
    "ExecuteTime": {
     "end_time": "2021-06-01T17:55:22.491228Z",
     "start_time": "2021-06-01T17:55:22.199418Z"
    },
    "execution": {
     "iopub.execute_input": "2021-04-21T22:10:42.790308Z",
     "iopub.status.busy": "2021-04-21T22:10:42.789150Z",
     "iopub.status.idle": "2021-04-21T22:10:42.905349Z",
     "shell.execute_reply": "2021-04-21T22:10:42.904691Z"
    },
    "papermill": {
     "duration": 0.186516,
     "end_time": "2021-04-21T22:10:42.905502",
     "exception": false,
     "start_time": "2021-04-21T22:10:42.718986",
     "status": "completed"
    },
    "tags": []
   },
   "outputs": [
    {
     "data": {
      "image/png": "[encoded data removed]",
      "text/plain": [
       "<matplotlib.figure.Figure at 0x7f19a3151390>"
      ]
     },
     "metadata": {},
     "output_type": "display_data"
    }
   ],
   "source": [
    "Inadimplente = df3.loc[df3['STATUS'] == 1].count()[0]\n",
    "Adimplente = df3.loc[df3['STATUS'] == 0].count()[0]\n",
    "\n",
    "labels = ['days past due', 'paid off/No loan']\n",
    "colors = ['#d10000', '#6297e3']\n",
    "explode = (.1,.1)\n",
    "\n",
    "\n",
    "plt.pie([Inadimplente, Adimplente], labels = labels, colors = colors, \n",
    "        autopct = '%.2f %%', pctdistance= 0.2, startangle=170, explode = explode)\n",
    "plt.show()"
   ]
  },
  {
   "cell_type": "markdown",
   "id": "individual-hello",
   "metadata": {
    "papermill": {
     "duration": 0.065173,
     "end_time": "2021-04-21T22:10:43.033895",
     "exception": false,
     "start_time": "2021-04-21T22:10:42.968722",
     "status": "completed"
    },
    "tags": []
   },
   "source": [
    "Podemos notar que nosso conjunto de dados está **muito desbalanceado** e a proporção de classes é de 24853 Adimplentes para 281 Inadimplentes. E para isso vamos usar o método de resampling para balancear a base de dados."
   ]
  },
  {
   "cell_type": "code",
   "execution_count": 56,
   "id": "cleared-office",
   "metadata": {
    "ExecuteTime": {
     "end_time": "2021-06-01T17:59:31.349032Z",
     "start_time": "2021-06-01T17:59:29.516358Z"
    },
    "execution": {
     "iopub.execute_input": "2021-04-21T22:10:44.028443Z",
     "iopub.status.busy": "2021-04-21T22:10:44.019635Z",
     "iopub.status.idle": "2021-04-21T22:10:45.074578Z",
     "shell.execute_reply": "2021-04-21T22:10:45.075197Z"
    },
    "papermill": {
     "duration": 1.146509,
     "end_time": "2021-04-21T22:10:45.075392",
     "exception": false,
     "start_time": "2021-04-21T22:10:43.928883",
     "status": "completed"
    },
    "tags": []
   },
   "outputs": [
    {
     "data": {
      "text/plain": [
       "<matplotlib.axes._subplots.AxesSubplot at 0x7f19a313d400>"
      ]
     },
     "execution_count": 56,
     "metadata": {},
     "output_type": "execute_result"
    },
    {
     "data": {
      "image/png": "[encoded data removed]",
      "text/plain": [
       "<matplotlib.figure.Figure at 0x7f19a39c7780>"
      ]
     },
     "metadata": {
      "needs_background": "light"
     },
     "output_type": "display_data"
    }
   ],
   "source": [
    "# Chamar a variavel STATUS de risco ajuda a entener melhor\n",
    "colormap = plt.cm.RdBu\n",
    "plt.figure(figsize=(14,12))\n",
    "plt.title('Correlation of Features', y=1.05, size=15)\n",
    "sns.heatmap(df3.astype(float).corr(),linewidths=0.1,vmax=1.0, \n",
    "            square=True, cmap=colormap, linecolor='white', annot=True)"
   ]
  },
  {
   "cell_type": "markdown",
   "id": "coupled-restaurant",
   "metadata": {
    "papermill": {
     "duration": 0.06776,
     "end_time": "2021-04-21T22:10:45.214051",
     "exception": false,
     "start_time": "2021-04-21T22:10:45.146291",
     "status": "completed"
    },
    "tags": []
   },
   "source": [
    "As variáveis tem poucas correlação entre si, o que pode ser um sinal bom, diminuindo as chances de inflar o modelo."
   ]
  },
  {
   "cell_type": "markdown",
   "id": "renewable-lloyd",
   "metadata": {
    "papermill": {
     "duration": 0.067978,
     "end_time": "2021-04-21T22:10:45.350503",
     "exception": false,
     "start_time": "2021-04-21T22:10:45.282525",
     "status": "completed"
    },
    "tags": []
   },
   "source": [
    "## Aplicando a técnica de ensemble stacking"
   ]
  },
  {
   "cell_type": "code",
   "execution_count": 63,
   "id": "apart-shirt",
   "metadata": {
    "ExecuteTime": {
     "end_time": "2021-06-01T18:00:29.304902Z",
     "start_time": "2021-06-01T18:00:29.295095Z"
    },
    "execution": {
     "iopub.execute_input": "2021-04-21T22:10:45.493928Z",
     "iopub.status.busy": "2021-04-21T22:10:45.493125Z",
     "iopub.status.idle": "2021-04-21T22:10:45.762307Z",
     "shell.execute_reply": "2021-04-21T22:10:45.761683Z"
    },
    "papermill": {
     "duration": 0.343788,
     "end_time": "2021-04-21T22:10:45.762499",
     "exception": false,
     "start_time": "2021-04-21T22:10:45.418711",
     "status": "completed"
    },
    "tags": []
   },
   "outputs": [],
   "source": [
    "\n",
    "from sklearn.model_selection import train_test_split\n",
    "import pandas as pd\n",
    "from sklearn.datasets import make_classification\n",
    "from sklearn.neighbors import KNeighborsClassifier\n",
    "from sklearn.tree import DecisionTreeClassifier\n",
    "from sklearn.svm import SVC\n",
    "from sklearn.naive_bayes import GaussianNB\n",
    "from sklearn.metrics import accuracy_score\n",
    "from sklearn.linear_model import LogisticRegression\n",
    "from sklearn.ensemble import StackingClassifier\n",
    "import xgboost as xgb\n",
    "from sklearn.ensemble import RandomForestClassifier\n",
    "from sklearn.ensemble import AdaBoostClassifier\n",
    "from sklearn.ensemble import GradientBoostingClassifier\n",
    "from sklearn.ensemble import BaggingClassifier"
   ]
  },
  {
   "cell_type": "code",
   "execution_count": 69,
   "id": "transsexual-needle",
   "metadata": {
    "ExecuteTime": {
     "end_time": "2021-06-01T18:03:33.655924Z",
     "start_time": "2021-06-01T18:03:33.642402Z"
    },
    "execution": {
     "iopub.execute_input": "2021-04-21T22:10:45.912016Z",
     "iopub.status.busy": "2021-04-21T22:10:45.911262Z",
     "iopub.status.idle": "2021-04-21T22:10:45.916679Z",
     "shell.execute_reply": "2021-04-21T22:10:45.917304Z"
    },
    "papermill": {
     "duration": 0.085243,
     "end_time": "2021-04-21T22:10:45.917502",
     "exception": false,
     "start_time": "2021-04-21T22:10:45.832259",
     "status": "completed"
    },
    "tags": []
   },
   "outputs": [],
   "source": [
    "# splitting the data\n",
    "\n",
    "x_train,x_test,y_train,y_test = train_test_split(x,y,test_size = 0.20,random_state = 1)\n",
    "\n"
   ]
  },
  {
   "cell_type": "code",
   "execution_count": 70,
   "id": "arctic-blade",
   "metadata": {
    "ExecuteTime": {
     "end_time": "2021-06-01T18:03:35.040082Z",
     "start_time": "2021-06-01T18:03:35.035962Z"
    },
    "execution": {
     "iopub.execute_input": "2021-04-21T22:10:46.060015Z",
     "iopub.status.busy": "2021-04-21T22:10:46.059237Z",
     "iopub.status.idle": "2021-04-21T22:10:46.063370Z",
     "shell.execute_reply": "2021-04-21T22:10:46.063987Z"
    },
    "papermill": {
     "duration": 0.077645,
     "end_time": "2021-04-21T22:10:46.064225",
     "exception": false,
     "start_time": "2021-04-21T22:10:45.986580",
     "status": "completed"
    },
    "tags": []
   },
   "outputs": [],
   "source": [
    "#X_res, y_res"
   ]
  },
  {
   "cell_type": "code",
   "execution_count": 71,
   "id": "outer-costs",
   "metadata": {
    "ExecuteTime": {
     "end_time": "2021-06-01T18:03:35.748802Z",
     "start_time": "2021-06-01T18:03:35.741393Z"
    },
    "execution": {
     "iopub.execute_input": "2021-04-21T22:10:46.207724Z",
     "iopub.status.busy": "2021-04-21T22:10:46.207061Z",
     "iopub.status.idle": "2021-04-21T22:10:46.214718Z",
     "shell.execute_reply": "2021-04-21T22:10:46.214157Z"
    },
    "papermill": {
     "duration": 0.08046,
     "end_time": "2021-04-21T22:10:46.214854",
     "exception": false,
     "start_time": "2021-04-21T22:10:46.134394",
     "status": "completed"
    },
    "tags": []
   },
   "outputs": [],
   "source": [
    "#criando uma lista com os modelos\n",
    "# Vendo qual tem a melhor acurácia para usa-lo no stacking\n",
    "\n",
    "models = {}\n",
    "models['knn'] = KNeighborsClassifier()\n",
    "models['cart'] = DecisionTreeClassifier()\n",
    "models['svm'] = SVC()\n",
    "models['bayes'] = GaussianNB()\n",
    "models['rdm'] = RandomForestClassifier()\n",
    "models['lgc'] = LogisticRegression(max_iter=1000)\n",
    "models['ada'] = AdaBoostClassifier()\n",
    "models['gda'] = GradientBoostingClassifier()"
   ]
  },
  {
   "cell_type": "code",
   "execution_count": 72,
   "id": "unavailable-benefit",
   "metadata": {
    "ExecuteTime": {
     "end_time": "2021-06-01T18:03:44.684589Z",
     "start_time": "2021-06-01T18:03:38.133383Z"
    },
    "execution": {
     "iopub.execute_input": "2021-04-21T22:10:46.358179Z",
     "iopub.status.busy": "2021-04-21T22:10:46.357498Z",
     "iopub.status.idle": "2021-04-21T22:10:47.189566Z",
     "shell.execute_reply": "2021-04-21T22:10:47.188992Z"
    },
    "papermill": {
     "duration": 0.905765,
     "end_time": "2021-04-21T22:10:47.189717",
     "exception": false,
     "start_time": "2021-04-21T22:10:46.283952",
     "status": "completed"
    },
    "tags": []
   },
   "outputs": [
    {
     "name": "stdout",
     "output_type": "stream",
     "text": [
      "knn 0.9882633777600954\n",
      "cart 0.9840859359458922\n",
      "svm 0.9884623035607718\n",
      "bayes 0.9876666003580664\n",
      "rdm 0.9876666003580664\n",
      "lgc 0.9884623035607718\n",
      "ada 0.9884623035607718\n",
      "gda 0.986870897155361\n"
     ]
    }
   ],
   "source": [
    "# Voting method\n",
    "# Método de votação\n",
    "for name, model in models.items():\n",
    "    model.fit(x_train, y_train)\n",
    "    y_pred = model.predict(x_test)\n",
    "    accuracy = accuracy_score(y_test,y_pred)\n",
    "    print(name, accuracy)\n",
    "    \n",
    "    #Suspeita de overfitting analisar pela curva roc"
   ]
  },
  {
   "cell_type": "markdown",
   "id": "multiple-sweden",
   "metadata": {
    "papermill": {
     "duration": 0.071798,
     "end_time": "2021-04-21T22:10:47.332793",
     "exception": false,
     "start_time": "2021-04-21T22:10:47.260995",
     "status": "completed"
    },
    "tags": []
   },
   "source": [
    "Podemos ver que três modelos estão gerando overfitting, portanto iremos revome-los"
   ]
  },
  {
   "cell_type": "code",
   "execution_count": 75,
   "id": "third-generic",
   "metadata": {
    "ExecuteTime": {
     "end_time": "2021-06-01T18:06:29.367203Z",
     "start_time": "2021-06-01T18:06:00.738832Z"
    },
    "execution": {
     "iopub.execute_input": "2021-04-21T22:10:47.494995Z",
     "iopub.status.busy": "2021-04-21T22:10:47.491135Z",
     "iopub.status.idle": "2021-04-21T22:10:49.992664Z",
     "shell.execute_reply": "2021-04-21T22:10:49.991971Z"
    },
    "papermill": {
     "duration": 2.588908,
     "end_time": "2021-04-21T22:10:49.992813",
     "exception": false,
     "start_time": "2021-04-21T22:10:47.403905",
     "status": "completed"
    },
    "tags": []
   },
   "outputs": [
    {
     "name": "stdout",
     "output_type": "stream",
     "text": [
      "knn 0.9882633777600954\n",
      "svm 0.9884623035607718\n",
      "bayes 0.9876666003580664\n",
      "lgc 0.9884623035607718\n",
      "ada 0.9884623035607718\n",
      "gda 0.986870897155361\n"
     ]
    },
    {
     "data": {
      "text/plain": [
       "{'knn': (0.9888007425049576, 0.9839055294205166),\n",
       " 'svm': (0.9889786333516483, 0.9886612200749455),\n",
       " 'bayes': (0.9895360957455704, 0.9859552323798065),\n",
       " 'lgc': (0.9889786333516483, 0.9886612200749455),\n",
       " 'gda': (0.9907711523535258, 0.9742957988833724),\n",
       " 'ada': (0.9889786333516483, 0.9886612200749455)}"
      ]
     },
     "execution_count": 75,
     "metadata": {},
     "output_type": "execute_result"
    }
   ],
   "source": [
    "# Rodando novamente\n",
    "models = {}\n",
    "models['knn'] = KNeighborsClassifier()\n",
    "models['svm'] = SVC()\n",
    "models['bayes'] = GaussianNB()\n",
    "models['lgc'] = LogisticRegression(max_iter=1000)\n",
    "models['ada'] = AdaBoostClassifier()\n",
    "models['gda'] = GradientBoostingClassifier()\n",
    "\n",
    "# Acurácias\n",
    "\n",
    "# Voting method\n",
    "# Método de votação\n",
    "for name, model in models.items():\n",
    "    model.fit(x_train, y_train)\n",
    "    y_pred = model.predict(x_test)\n",
    "    accuracy = accuracy_score(y_test,y_pred)\n",
    "    print(name, accuracy)\n",
    "\n",
    "    \n",
    "    \n",
    "# Verificando o intervalo de confiança da acurácia\n",
    "from sklearn.model_selection import cross_val_score    \n",
    "\n",
    "knn_IC = cross_val_score(models['knn'], x,y, cv=5)\n",
    "svm_IC = cross_val_score(models['svm'], x,y, cv=5)\n",
    "bayes_IC = cross_val_score(models['bayes'], x,y, cv=5)\n",
    "lgc_IC = cross_val_score(models['lgc'], x,y, cv=5)\n",
    "gda_IC = cross_val_score(models['gda'], x,y, cv=5)\n",
    "ada_IC = cross_val_score(models['ada'], x,y, cv=5)\n",
    "\n",
    "scores = {}\n",
    "\n",
    "scores['knn'] =  knn_IC.mean() + knn_IC.std() * 2, knn_IC.mean() - knn_IC.std() * 2\n",
    "scores['svm'] =  svm_IC.mean() + svm_IC.std() * 2, svm_IC.mean() - svm_IC.std() * 2\n",
    "scores['bayes'] =   bayes_IC.mean() + bayes_IC.std() * 2,bayes_IC.mean() - bayes_IC.std() * 2\n",
    "scores['lgc'] =  lgc_IC.mean() + lgc_IC.std() * 2, lgc_IC.mean() - lgc_IC.std() * 2\n",
    "scores['gda'] =  gda_IC.mean() + gda_IC.std() * 2, gda_IC.mean() - gda_IC.std() * 2\n",
    "scores['ada'] =  ada_IC.mean() + ada_IC.std() * 2, ada_IC.mean() - ada_IC.std() * 2\n",
    "\n",
    "#Cofidence interval \n",
    "scores\n",
    "\n",
    "\n"
   ]
  },
  {
   "cell_type": "code",
   "execution_count": 76,
   "id": "guilty-reggae",
   "metadata": {
    "ExecuteTime": {
     "end_time": "2021-06-01T18:06:42.943872Z",
     "start_time": "2021-06-01T18:06:38.067856Z"
    },
    "execution": {
     "iopub.execute_input": "2021-04-21T22:10:50.150326Z",
     "iopub.status.busy": "2021-04-21T22:10:50.149278Z",
     "iopub.status.idle": "2021-04-21T22:10:50.616832Z",
     "shell.execute_reply": "2021-04-21T22:10:50.617331Z"
    },
    "papermill": {
     "duration": 0.552817,
     "end_time": "2021-04-21T22:10:50.617521",
     "exception": false,
     "start_time": "2021-04-21T22:10:50.064704",
     "status": "completed"
    },
    "tags": []
   },
   "outputs": [
    {
     "name": "stdout",
     "output_type": "stream",
     "text": [
      "knn               precision    recall  f1-score   support\n",
      "\n",
      "           0       0.99      1.00      0.99      4969\n",
      "           1       0.45      0.09      0.14        58\n",
      "\n",
      "    accuracy                           0.99      5027\n",
      "   macro avg       0.72      0.54      0.57      5027\n",
      "weighted avg       0.98      0.99      0.98      5027\n",
      "\n",
      "svm               precision    recall  f1-score   support\n",
      "\n",
      "           0       0.99      1.00      0.99      4969\n",
      "           1       0.00      0.00      0.00        58\n",
      "\n",
      "    accuracy                           0.99      5027\n",
      "   macro avg       0.49      0.50      0.50      5027\n",
      "weighted avg       0.98      0.99      0.98      5027\n",
      "\n",
      "bayes               precision    recall  f1-score   support\n",
      "\n",
      "           0       0.99      1.00      0.99      4969\n",
      "           1       0.00      0.00      0.00        58\n",
      "\n",
      "    accuracy                           0.99      5027\n",
      "   macro avg       0.49      0.50      0.50      5027\n",
      "weighted avg       0.98      0.99      0.98      5027\n",
      "\n",
      "lgc               precision    recall  f1-score   support\n",
      "\n",
      "           0       0.99      1.00      0.99      4969\n",
      "           1       0.00      0.00      0.00        58\n",
      "\n",
      "    accuracy                           0.99      5027\n",
      "   macro avg       0.49      0.50      0.50      5027\n",
      "weighted avg       0.98      0.99      0.98      5027\n",
      "\n",
      "ada               precision    recall  f1-score   support\n",
      "\n",
      "           0       0.99      1.00      0.99      4969\n",
      "           1       0.00      0.00      0.00        58\n",
      "\n",
      "    accuracy                           0.99      5027\n",
      "   macro avg       0.49      0.50      0.50      5027\n",
      "weighted avg       0.98      0.99      0.98      5027\n",
      "\n",
      "gda               precision    recall  f1-score   support\n",
      "\n",
      "           0       0.99      1.00      0.99      4969\n",
      "           1       0.10      0.02      0.03        58\n",
      "\n",
      "    accuracy                           0.99      5027\n",
      "   macro avg       0.54      0.51      0.51      5027\n",
      "weighted avg       0.98      0.99      0.98      5027\n",
      "\n"
     ]
    }
   ],
   "source": [
    "\n",
    "#Avaliando o desempenho dos modelos que tiverem a acurácia dentro do intervalo\n",
    "# para evitar o paradoxo da Acurácia\n",
    "\n",
    "from sklearn.metrics import classification_report\n",
    "\n",
    "\n",
    "\n",
    "models = {}\n",
    "\n",
    "models['knn'] = KNeighborsClassifier()\n",
    "models['svm'] = SVC()\n",
    "models['bayes'] = GaussianNB()\n",
    "models['lgc'] = LogisticRegression(max_iter=1000)\n",
    "models['ada'] = AdaBoostClassifier()\n",
    "models['gda'] = GradientBoostingClassifier()\n",
    "\n",
    "\n",
    "for name, model in models.items():\n",
    "    model.fit(x_train, y_train)\n",
    "    y_pred = model.predict(x_test)\n",
    "    classification = classification_report(y_test,y_pred)\n",
    "    print(name, classification)"
   ]
  },
  {
   "cell_type": "markdown",
   "id": "through-maker",
   "metadata": {
    "papermill": {
     "duration": 0.073864,
     "end_time": "2021-04-21T22:10:50.764274",
     "exception": false,
     "start_time": "2021-04-21T22:10:50.690410",
     "status": "completed"
    },
    "tags": []
   },
   "source": [
    "#### Veja como a acurácia pode enganar a escolha do modelo. Os únicos que teveram a capacidade de classificar os indíviduos como possíveis inadimplentes (Recall), foram o KNN, com 18%, beysiano com 4%, Ada com 11%, e o Gda com 18%. Ou seja, do total de inadimplentes existentes na base proposta, apenas 4 modelos coseguiram fazer essa classificação. Todos os demais conseguiram prever apenas os não inadimplentes, que não é o objetivo de análise desse trabalho."
   ]
  },
  {
   "cell_type": "markdown",
   "id": "proud-aruba",
   "metadata": {
    "papermill": {
     "duration": 0.083322,
     "end_time": "2021-04-21T22:10:50.920917",
     "exception": false,
     "start_time": "2021-04-21T22:10:50.837595",
     "status": "completed"
    },
    "tags": []
   },
   "source": [
    "# Qual a importância de analisar o Recall dos modelos nos estudos de crédito?"
   ]
  },
  {
   "cell_type": "markdown",
   "id": "lyric-repeat",
   "metadata": {
    "papermill": {
     "duration": 0.07479,
     "end_time": "2021-04-21T22:10:51.085829",
     "exception": false,
     "start_time": "2021-04-21T22:10:51.011039",
     "status": "completed"
    },
    "tags": []
   },
   "source": [
    "####   Quando uma empresa crediticia deseja fornecer crédito aos seus clientes, ela não só analisa as acurácias dos modelos. Na verdade isso componhe a menor parte na análise de crédito. Dado as condições internas da instituição, existe sempre um grau de risco nas aplicações de produtos financeiros, e de acordo com a situação interna da empresa, ela determinará qual individuo receberá seu crédito. Portanto, o ponto que mais afeta quem receberá o crédito, é saber qual é a probabilidade de um cliente com determinadas características vir a se tornar um possível inadimplente, e com isso saber qual é a sua probabilidade de ter atrasos, ou não quitação da dívida, e assim determinar o ponto de corte de acordo com o grau de risco que a instituição escolheu. Por exemplo, o banco X não aumentará o limite de cartão de crédito a clientes que possuem probabilidades maior ou igual a 30% de ser inadimplente. Isso equivale a determinar um ponto de corte de 0,3. Ou seja, nas decisões de quem receberá crédito ou não, não é a acurácia que nos traz o melhor desempenho do modelo, mas sim, o seu desempenho quanto a variações nos pontos de cortes, obtido pela AUC da curva ROC que é traçada a partir do Recall."
   ]
  },
  {
   "cell_type": "markdown",
   "id": "explicit-garage",
   "metadata": {
    "papermill": {
     "duration": 0.073557,
     "end_time": "2021-04-21T22:10:51.233372",
     "exception": false,
     "start_time": "2021-04-21T22:10:51.159815",
     "status": "completed"
    },
    "tags": []
   },
   "source": [
    "#### No nosso caso, o único modelo que teve a mínima capacidade classificar os positivos, foi o Beysiano. Vamos obter a AUC para comparar."
   ]
  },
  {
   "cell_type": "code",
   "execution_count": 77,
   "id": "cloudy-commons",
   "metadata": {
    "ExecuteTime": {
     "end_time": "2021-06-01T18:06:58.344285Z",
     "start_time": "2021-06-01T18:06:54.745902Z"
    },
    "execution": {
     "iopub.execute_input": "2021-04-21T22:10:51.391176Z",
     "iopub.status.busy": "2021-04-21T22:10:51.390479Z",
     "iopub.status.idle": "2021-04-21T22:10:51.716215Z",
     "shell.execute_reply": "2021-04-21T22:10:51.715609Z"
    },
    "papermill": {
     "duration": 0.409551,
     "end_time": "2021-04-21T22:10:51.716391",
     "exception": false,
     "start_time": "2021-04-21T22:10:51.306840",
     "status": "completed"
    },
    "tags": []
   },
   "outputs": [
    {
     "data": {
      "text/plain": [
       "{'bayes': 0.49959750452807405,\n",
       " 'ada': 0.5,\n",
       " 'knn': 0.5424997050679732,\n",
       " 'gda': 0.5076144509753575}"
      ]
     },
     "execution_count": 77,
     "metadata": {},
     "output_type": "execute_result"
    }
   ],
   "source": [
    "from sklearn.metrics import roc_auc_score\n",
    "\n",
    "model_bayes = GaussianNB().fit(x_train, y_train)\n",
    "model_ada = AdaBoostClassifier().fit(x_train, y_train)\n",
    "model_knn = KNeighborsClassifier().fit(x_train, y_train)\n",
    "model_gda = GradientBoostingClassifier().fit(x_train, y_train)\n",
    "\n",
    "\n",
    "y_bayes = model_bayes.predict(x_test)\n",
    "y_ada = model_ada.predict(x_test)\n",
    "y_knn = model_knn.predict(x_test)\n",
    "y_gda = model_gda.predict(x_test)\n",
    "\n",
    "    \n",
    "auc = {}\n",
    "auc['bayes'] = roc_auc_score(y_test, y_bayes)\n",
    "auc['ada'] = roc_auc_score(y_test, y_ada)\n",
    "auc['knn'] = roc_auc_score(y_test, y_knn)\n",
    "auc['gda'] = roc_auc_score(y_test, y_gda)\n",
    "\n",
    "auc\n"
   ]
  },
  {
   "cell_type": "code",
   "execution_count": null,
   "id": "processed-thought",
   "metadata": {
    "ExecuteTime": {
     "end_time": "2021-06-01T17:26:07.466264Z",
     "start_time": "2021-06-01T17:25:59.371Z"
    },
    "execution": {
     "iopub.execute_input": "2021-04-21T22:10:51.869390Z",
     "iopub.status.busy": "2021-04-21T22:10:51.868365Z",
     "iopub.status.idle": "2021-04-21T22:10:51.871995Z",
     "shell.execute_reply": "2021-04-21T22:10:51.871492Z"
    },
    "papermill": {
     "duration": 0.081761,
     "end_time": "2021-04-21T22:10:51.872159",
     "exception": false,
     "start_time": "2021-04-21T22:10:51.790398",
     "status": "completed"
    },
    "tags": []
   },
   "outputs": [],
   "source": [
    "#Agora vamos interpretar nosso modelo com o Lime (ou Shap)"
   ]
  },
  {
   "cell_type": "code",
   "execution_count": null,
   "id": "through-moore",
   "metadata": {
    "papermill": {
     "duration": 0.07584,
     "end_time": "2021-04-21T22:10:52.022979",
     "exception": false,
     "start_time": "2021-04-21T22:10:51.947139",
     "status": "completed"
    },
    "tags": []
   },
   "outputs": [],
   "source": []
  },
  {
   "cell_type": "code",
   "execution_count": null,
   "id": "periodic-halloween",
   "metadata": {
    "papermill": {
     "duration": 0.075551,
     "end_time": "2021-04-21T22:10:52.175983",
     "exception": false,
     "start_time": "2021-04-21T22:10:52.100432",
     "status": "completed"
    },
    "tags": []
   },
   "outputs": [],
   "source": []
  },
  {
   "cell_type": "code",
   "execution_count": null,
   "id": "noted-attack",
   "metadata": {
    "papermill": {
     "duration": 0.072834,
     "end_time": "2021-04-21T22:10:52.322133",
     "exception": false,
     "start_time": "2021-04-21T22:10:52.249299",
     "status": "completed"
    },
    "tags": []
   },
   "outputs": [],
   "source": []
  }
 ],
 "metadata": {
  "kernelspec": {
   "display_name": "Python 3",
   "language": "python",
   "name": "python3"
  },
  "language_info": {
   "codemirror_mode": {
    "name": "ipython",
    "version": 3
   },
   "file_extension": ".py",
   "mimetype": "text/x-python",
   "name": "python",
   "nbconvert_exporter": "python",
   "pygments_lexer": "ipython3",
   "version": "3.6.9"
  },
  "papermill": {
   "default_parameters": {},
   "duration": 34.253109,
   "end_time": "2021-04-21T22:10:53.307863",
   "environment_variables": {},
   "exception": null,
   "input_path": "__notebook__.ipynb",
   "output_path": "__notebook__.ipynb",
   "parameters": {},
   "start_time": "2021-04-21T22:10:19.054754",
   "version": "2.3.2"
  }
 },
 "nbformat": 4,
 "nbformat_minor": 5
}
