{
 "cells": [
  {
   "cell_type": "markdown",
   "metadata": {},
   "source": [
    "[Data Source](https://www.kaggle.com/ealaxi/paysim1/code?datasetId=1069&sortBy=voteCount&language=Python)"
   ]
  },
  {
   "cell_type": "markdown",
   "metadata": {},
   "source": [
    "# Synthetic Financial Datasets For Fraud Detection"
   ]
  },
  {
   "cell_type": "markdown",
   "id": "multiple-queen",
   "metadata": {
    "id": "AkeOmcGXs5Fc",
    "papermill": {
     "duration": 0.013901,
     "end_time": "2021-05-17T14:05:06.398462",
     "exception": false,
     "start_time": "2021-05-17T14:05:06.384561",
     "status": "completed"
    },
    "tags": []
   },
   "source": [
    "Use the decision tree classifier to try and predict if a transaction is fraudulent or not."
   ]
  },
  {
   "cell_type": "code",
   "execution_count": 1,
   "id": "noble-culture",
   "metadata": {
    "ExecuteTime": {
     "end_time": "2021-06-02T10:51:51.844030Z",
     "start_time": "2021-06-02T10:51:49.242808Z"
    },
    "execution": {
     "iopub.execute_input": "2021-05-17T14:05:06.436411Z",
     "iopub.status.busy": "2021-05-17T14:05:06.435764Z",
     "iopub.status.idle": "2021-05-17T14:05:07.531456Z",
     "shell.execute_reply": "2021-05-17T14:05:07.530645Z"
    },
    "id": "WK0Mc8IFs5Fl",
    "papermill": {
     "duration": 1.120288,
     "end_time": "2021-05-17T14:05:07.531643",
     "exception": false,
     "start_time": "2021-05-17T14:05:06.411355",
     "status": "completed"
    },
    "tags": []
   },
   "outputs": [],
   "source": [
    "# Set-up libraries\n",
    "import os\n",
    "import pandas as pd\n",
    "import seaborn as sns\n",
    "import matplotlib.pyplot as plt\n",
    "from sklearn.preprocessing import LabelEncoder\n",
    "from sklearn.model_selection import train_test_split\n",
    "from sklearn.tree import DecisionTreeClassifier\n",
    "from sklearn.metrics import classification_report"
   ]
  },
  {
   "cell_type": "code",
   "execution_count": 2,
   "id": "concrete-sampling",
   "metadata": {
    "ExecuteTime": {
     "end_time": "2021-06-02T10:51:53.037801Z",
     "start_time": "2021-06-02T10:51:53.029584Z"
    },
    "execution": {
     "iopub.execute_input": "2021-05-17T14:05:07.562753Z",
     "iopub.status.busy": "2021-05-17T14:05:07.562199Z",
     "iopub.status.idle": "2021-05-17T14:05:07.578712Z",
     "shell.execute_reply": "2021-05-17T14:05:07.578056Z"
    },
    "id": "D0MHHqRGs5Fn",
    "papermill": {
     "duration": 0.034001,
     "end_time": "2021-05-17T14:05:07.578910",
     "exception": false,
     "start_time": "2021-05-17T14:05:07.544909",
     "status": "completed"
    },
    "tags": []
   },
   "outputs": [
    {
     "name": "stdout",
     "output_type": "stream",
     "text": [
      "../data/data.csv\n"
     ]
    }
   ],
   "source": [
    "# Check input data source\n",
    "for dirname, _, filenames in os.walk('../data'):\n",
    "    for filename in filenames:\n",
    "        print(os.path.join(dirname, filename))"
   ]
  },
  {
   "cell_type": "code",
   "execution_count": 4,
   "id": "intellectual-final",
   "metadata": {
    "ExecuteTime": {
     "end_time": "2021-06-02T10:52:35.654490Z",
     "start_time": "2021-06-02T10:52:22.272741Z"
    },
    "execution": {
     "iopub.execute_input": "2021-05-17T14:05:07.610610Z",
     "iopub.status.busy": "2021-05-17T14:05:07.609985Z",
     "iopub.status.idle": "2021-05-17T14:05:24.460597Z",
     "shell.execute_reply": "2021-05-17T14:05:24.460049Z"
    },
    "id": "PAPo4exts5Fp",
    "papermill": {
     "duration": 16.867658,
     "end_time": "2021-05-17T14:05:24.460741",
     "exception": false,
     "start_time": "2021-05-17T14:05:07.593083",
     "status": "completed"
    },
    "tags": []
   },
   "outputs": [],
   "source": [
    "# Read-in data\n",
    "df = pd.read_csv('../data/data.csv')"
   ]
  },
  {
   "cell_type": "code",
   "execution_count": 5,
   "id": "clean-midnight",
   "metadata": {
    "ExecuteTime": {
     "end_time": "2021-06-02T10:52:37.599012Z",
     "start_time": "2021-06-02T10:52:37.522669Z"
    },
    "execution": {
     "iopub.execute_input": "2021-05-17T14:05:24.512527Z",
     "iopub.status.busy": "2021-05-17T14:05:24.511934Z",
     "iopub.status.idle": "2021-05-17T14:05:24.514357Z",
     "shell.execute_reply": "2021-05-17T14:05:24.514774Z"
    },
    "id": "xx2_ClWts5Fp",
    "papermill": {
     "duration": 0.040693,
     "end_time": "2021-05-17T14:05:24.514921",
     "exception": false,
     "start_time": "2021-05-17T14:05:24.474228",
     "status": "completed"
    },
    "tags": []
   },
   "outputs": [
    {
     "name": "stdout",
     "output_type": "stream",
     "text": [
      "<class 'pandas.core.frame.DataFrame'>\n",
      "RangeIndex: 6362620 entries, 0 to 6362619\n",
      "Data columns (total 11 columns):\n",
      "step              int64\n",
      "type              object\n",
      "amount            float64\n",
      "nameOrig          object\n",
      "oldbalanceOrg     float64\n",
      "newbalanceOrig    float64\n",
      "nameDest          object\n",
      "oldbalanceDest    float64\n",
      "newbalanceDest    float64\n",
      "isFraud           int64\n",
      "isFlaggedFraud    int64\n",
      "dtypes: float64(5), int64(3), object(3)\n",
      "memory usage: 534.0+ MB\n"
     ]
    }
   ],
   "source": [
    "# Look at some details\n",
    "df.info()"
   ]
  },
  {
   "cell_type": "code",
   "execution_count": 6,
   "id": "constant-luxury",
   "metadata": {
    "ExecuteTime": {
     "end_time": "2021-06-02T10:52:45.558460Z",
     "start_time": "2021-06-02T10:52:45.465604Z"
    },
    "execution": {
     "iopub.execute_input": "2021-05-17T14:05:24.545760Z",
     "iopub.status.busy": "2021-05-17T14:05:24.545164Z",
     "iopub.status.idle": "2021-05-17T14:05:24.569942Z",
     "shell.execute_reply": "2021-05-17T14:05:24.569493Z"
    },
    "id": "0Mbf9VdDs5Fq",
    "papermill": {
     "duration": 0.041271,
     "end_time": "2021-05-17T14:05:24.570090",
     "exception": false,
     "start_time": "2021-05-17T14:05:24.528819",
     "status": "completed"
    },
    "tags": []
   },
   "outputs": [
    {
     "data": {
      "text/html": [
       "<div>\n",
       "<style scoped>\n",
       "    .dataframe tbody tr th:only-of-type {\n",
       "        vertical-align: middle;\n",
       "    }\n",
       "\n",
       "    .dataframe tbody tr th {\n",
       "        vertical-align: top;\n",
       "    }\n",
       "\n",
       "    .dataframe thead th {\n",
       "        text-align: right;\n",
       "    }\n",
       "</style>\n",
       "<table border=\"1\" class=\"dataframe\">\n",
       "  <thead>\n",
       "    <tr style=\"text-align: right;\">\n",
       "      <th></th>\n",
       "      <th>step</th>\n",
       "      <th>type</th>\n",
       "      <th>amount</th>\n",
       "      <th>nameOrig</th>\n",
       "      <th>oldbalanceOrg</th>\n",
       "      <th>newbalanceOrig</th>\n",
       "      <th>nameDest</th>\n",
       "      <th>oldbalanceDest</th>\n",
       "      <th>newbalanceDest</th>\n",
       "      <th>isFraud</th>\n",
       "      <th>isFlaggedFraud</th>\n",
       "    </tr>\n",
       "  </thead>\n",
       "  <tbody>\n",
       "    <tr>\n",
       "      <th>0</th>\n",
       "      <td>1</td>\n",
       "      <td>PAYMENT</td>\n",
       "      <td>9839.64</td>\n",
       "      <td>C1231006815</td>\n",
       "      <td>170136.0</td>\n",
       "      <td>160296.36</td>\n",
       "      <td>M1979787155</td>\n",
       "      <td>0.0</td>\n",
       "      <td>0.0</td>\n",
       "      <td>0</td>\n",
       "      <td>0</td>\n",
       "    </tr>\n",
       "    <tr>\n",
       "      <th>1</th>\n",
       "      <td>1</td>\n",
       "      <td>PAYMENT</td>\n",
       "      <td>1864.28</td>\n",
       "      <td>C1666544295</td>\n",
       "      <td>21249.0</td>\n",
       "      <td>19384.72</td>\n",
       "      <td>M2044282225</td>\n",
       "      <td>0.0</td>\n",
       "      <td>0.0</td>\n",
       "      <td>0</td>\n",
       "      <td>0</td>\n",
       "    </tr>\n",
       "    <tr>\n",
       "      <th>2</th>\n",
       "      <td>1</td>\n",
       "      <td>TRANSFER</td>\n",
       "      <td>181.00</td>\n",
       "      <td>C1305486145</td>\n",
       "      <td>181.0</td>\n",
       "      <td>0.00</td>\n",
       "      <td>C553264065</td>\n",
       "      <td>0.0</td>\n",
       "      <td>0.0</td>\n",
       "      <td>1</td>\n",
       "      <td>0</td>\n",
       "    </tr>\n",
       "    <tr>\n",
       "      <th>3</th>\n",
       "      <td>1</td>\n",
       "      <td>CASH_OUT</td>\n",
       "      <td>181.00</td>\n",
       "      <td>C840083671</td>\n",
       "      <td>181.0</td>\n",
       "      <td>0.00</td>\n",
       "      <td>C38997010</td>\n",
       "      <td>21182.0</td>\n",
       "      <td>0.0</td>\n",
       "      <td>1</td>\n",
       "      <td>0</td>\n",
       "    </tr>\n",
       "    <tr>\n",
       "      <th>4</th>\n",
       "      <td>1</td>\n",
       "      <td>PAYMENT</td>\n",
       "      <td>11668.14</td>\n",
       "      <td>C2048537720</td>\n",
       "      <td>41554.0</td>\n",
       "      <td>29885.86</td>\n",
       "      <td>M1230701703</td>\n",
       "      <td>0.0</td>\n",
       "      <td>0.0</td>\n",
       "      <td>0</td>\n",
       "      <td>0</td>\n",
       "    </tr>\n",
       "  </tbody>\n",
       "</table>\n",
       "</div>"
      ],
      "text/plain": [
       "   step      type    amount     nameOrig  oldbalanceOrg  newbalanceOrig  \\\n",
       "0     1   PAYMENT   9839.64  C1231006815       170136.0       160296.36   \n",
       "1     1   PAYMENT   1864.28  C1666544295        21249.0        19384.72   \n",
       "2     1  TRANSFER    181.00  C1305486145          181.0            0.00   \n",
       "3     1  CASH_OUT    181.00   C840083671          181.0            0.00   \n",
       "4     1   PAYMENT  11668.14  C2048537720        41554.0        29885.86   \n",
       "\n",
       "      nameDest  oldbalanceDest  newbalanceDest  isFraud  isFlaggedFraud  \n",
       "0  M1979787155             0.0             0.0        0               0  \n",
       "1  M2044282225             0.0             0.0        0               0  \n",
       "2   C553264065             0.0             0.0        1               0  \n",
       "3    C38997010         21182.0             0.0        1               0  \n",
       "4  M1230701703             0.0             0.0        0               0  "
      ]
     },
     "execution_count": 6,
     "metadata": {},
     "output_type": "execute_result"
    }
   ],
   "source": [
    "# Look at some records\n",
    "df.head()"
   ]
  },
  {
   "cell_type": "code",
   "execution_count": 6,
   "id": "lightweight-relaxation",
   "metadata": {
    "execution": {
     "iopub.execute_input": "2021-05-17T14:05:24.604629Z",
     "iopub.status.busy": "2021-05-17T14:05:24.603478Z",
     "iopub.status.idle": "2021-05-17T14:05:26.337552Z",
     "shell.execute_reply": "2021-05-17T14:05:26.337104Z"
    },
    "id": "PVM30T4vs5Fr",
    "papermill": {
     "duration": 1.752613,
     "end_time": "2021-05-17T14:05:26.337675",
     "exception": false,
     "start_time": "2021-05-17T14:05:24.585062",
     "status": "completed"
    },
    "tags": []
   },
   "outputs": [
    {
     "data": {
      "text/plain": [
       "step              0\n",
       "type              0\n",
       "amount            0\n",
       "nameOrig          0\n",
       "oldbalanceOrg     0\n",
       "newbalanceOrig    0\n",
       "nameDest          0\n",
       "oldbalanceDest    0\n",
       "newbalanceDest    0\n",
       "isFraud           0\n",
       "isFlaggedFraud    0\n",
       "dtype: int64"
      ]
     },
     "execution_count": 6,
     "metadata": {},
     "output_type": "execute_result"
    }
   ],
   "source": [
    "# Check for missing values\n",
    "df.isna().sum()"
   ]
  },
  {
   "cell_type": "code",
   "execution_count": 7,
   "id": "objective-galaxy",
   "metadata": {
    "execution": {
     "iopub.execute_input": "2021-05-17T14:05:26.372573Z",
     "iopub.status.busy": "2021-05-17T14:05:26.372002Z",
     "iopub.status.idle": "2021-05-17T14:05:27.059227Z",
     "shell.execute_reply": "2021-05-17T14:05:27.059735Z"
    },
    "id": "OJHRav44s5Fs",
    "papermill": {
     "duration": 0.706816,
     "end_time": "2021-05-17T14:05:27.059897",
     "exception": false,
     "start_time": "2021-05-17T14:05:26.353081",
     "status": "completed"
    },
    "tags": []
   },
   "outputs": [
    {
     "name": "stderr",
     "output_type": "stream",
     "text": [
      "/opt/conda/lib/python3.7/site-packages/seaborn/_decorators.py:43: FutureWarning: Pass the following variable as a keyword arg: x. From version 0.12, the only valid positional argument will be `data`, and passing other arguments without an explicit keyword will result in an error or misinterpretation.\n",
      "  FutureWarning\n"
     ]
    },
    {
     "data": {
      "text/plain": [
       "<AxesSubplot:xlabel='isFlaggedFraud', ylabel='count'>"
      ]
     },
     "execution_count": 7,
     "metadata": {},
     "output_type": "execute_result"
    },
    {
     "data": {
      "image/png": "[encoded data removed]",
      "text/plain": [
       "<Figure size 432x288 with 1 Axes>"
      ]
     },
     "metadata": {
      "needs_background": "light"
     },
     "output_type": "display_data"
    }
   ],
   "source": [
    "# Look at breakdown of label\n",
    "df.isFlaggedFraud.value_counts()\n",
    "sns.countplot(df.isFlaggedFraud)"
   ]
  },
  {
   "cell_type": "code",
   "execution_count": 8,
   "id": "gorgeous-easter",
   "metadata": {
    "execution": {
     "iopub.execute_input": "2021-05-17T14:05:27.095154Z",
     "iopub.status.busy": "2021-05-17T14:05:27.094546Z",
     "iopub.status.idle": "2021-05-17T14:05:34.659309Z",
     "shell.execute_reply": "2021-05-17T14:05:34.658673Z"
    },
    "id": "-Kyx_650s5Ft",
    "papermill": {
     "duration": 7.583,
     "end_time": "2021-05-17T14:05:34.659444",
     "exception": false,
     "start_time": "2021-05-17T14:05:27.076444",
     "status": "completed"
    },
    "tags": []
   },
   "outputs": [
    {
     "name": "stderr",
     "output_type": "stream",
     "text": [
      "/opt/conda/lib/python3.7/site-packages/seaborn/_decorators.py:43: FutureWarning: Pass the following variable as a keyword arg: x. From version 0.12, the only valid positional argument will be `data`, and passing other arguments without an explicit keyword will result in an error or misinterpretation.\n",
      "  FutureWarning\n"
     ]
    },
    {
     "data": {
      "text/plain": [
       "<AxesSubplot:xlabel='type', ylabel='count'>"
      ]
     },
     "execution_count": 8,
     "metadata": {},
     "output_type": "execute_result"
    },
    {
     "data": {
      "image/png": "[encoded data removed]",
      "text/plain": [
       "<Figure size 432x288 with 1 Axes>"
      ]
     },
     "metadata": {
      "needs_background": "light"
     },
     "output_type": "display_data"
    }
   ],
   "source": [
    "# Look at breakdown of categorical feature(s)\n",
    "df.type.value_counts()\n",
    "sns.countplot(df.type)"
   ]
  },
  {
   "cell_type": "code",
   "execution_count": 9,
   "id": "accepting-building",
   "metadata": {
    "execution": {
     "iopub.execute_input": "2021-05-17T14:05:34.833753Z",
     "iopub.status.busy": "2021-05-17T14:05:34.833113Z",
     "iopub.status.idle": "2021-05-17T14:05:36.717738Z",
     "shell.execute_reply": "2021-05-17T14:05:36.717093Z"
    },
    "id": "0mNYABvCs5Fu",
    "papermill": {
     "duration": 2.040773,
     "end_time": "2021-05-17T14:05:36.717885",
     "exception": false,
     "start_time": "2021-05-17T14:05:34.677112",
     "status": "completed"
    },
    "tags": []
   },
   "outputs": [
    {
     "data": {
      "text/html": [
       "<div>\n",
       "<style scoped>\n",
       "    .dataframe tbody tr th:only-of-type {\n",
       "        vertical-align: middle;\n",
       "    }\n",
       "\n",
       "    .dataframe tbody tr th {\n",
       "        vertical-align: top;\n",
       "    }\n",
       "\n",
       "    .dataframe thead th {\n",
       "        text-align: right;\n",
       "    }\n",
       "</style>\n",
       "<table border=\"1\" class=\"dataframe\">\n",
       "  <thead>\n",
       "    <tr style=\"text-align: right;\">\n",
       "      <th></th>\n",
       "      <th>step</th>\n",
       "      <th>amount</th>\n",
       "      <th>oldbalanceOrg</th>\n",
       "      <th>newbalanceOrig</th>\n",
       "      <th>oldbalanceDest</th>\n",
       "      <th>newbalanceDest</th>\n",
       "      <th>isFraud</th>\n",
       "      <th>isFlaggedFraud</th>\n",
       "    </tr>\n",
       "  </thead>\n",
       "  <tbody>\n",
       "    <tr>\n",
       "      <th>count</th>\n",
       "      <td>6.362620e+06</td>\n",
       "      <td>6.362620e+06</td>\n",
       "      <td>6.362620e+06</td>\n",
       "      <td>6.362620e+06</td>\n",
       "      <td>6.362620e+06</td>\n",
       "      <td>6.362620e+06</td>\n",
       "      <td>6.362620e+06</td>\n",
       "      <td>6.362620e+06</td>\n",
       "    </tr>\n",
       "    <tr>\n",
       "      <th>mean</th>\n",
       "      <td>2.433972e+02</td>\n",
       "      <td>1.798619e+05</td>\n",
       "      <td>8.338831e+05</td>\n",
       "      <td>8.551137e+05</td>\n",
       "      <td>1.100702e+06</td>\n",
       "      <td>1.224996e+06</td>\n",
       "      <td>1.290820e-03</td>\n",
       "      <td>2.514687e-06</td>\n",
       "    </tr>\n",
       "    <tr>\n",
       "      <th>std</th>\n",
       "      <td>1.423320e+02</td>\n",
       "      <td>6.038582e+05</td>\n",
       "      <td>2.888243e+06</td>\n",
       "      <td>2.924049e+06</td>\n",
       "      <td>3.399180e+06</td>\n",
       "      <td>3.674129e+06</td>\n",
       "      <td>3.590480e-02</td>\n",
       "      <td>1.585775e-03</td>\n",
       "    </tr>\n",
       "    <tr>\n",
       "      <th>min</th>\n",
       "      <td>1.000000e+00</td>\n",
       "      <td>0.000000e+00</td>\n",
       "      <td>0.000000e+00</td>\n",
       "      <td>0.000000e+00</td>\n",
       "      <td>0.000000e+00</td>\n",
       "      <td>0.000000e+00</td>\n",
       "      <td>0.000000e+00</td>\n",
       "      <td>0.000000e+00</td>\n",
       "    </tr>\n",
       "    <tr>\n",
       "      <th>25%</th>\n",
       "      <td>1.560000e+02</td>\n",
       "      <td>1.338957e+04</td>\n",
       "      <td>0.000000e+00</td>\n",
       "      <td>0.000000e+00</td>\n",
       "      <td>0.000000e+00</td>\n",
       "      <td>0.000000e+00</td>\n",
       "      <td>0.000000e+00</td>\n",
       "      <td>0.000000e+00</td>\n",
       "    </tr>\n",
       "    <tr>\n",
       "      <th>50%</th>\n",
       "      <td>2.390000e+02</td>\n",
       "      <td>7.487194e+04</td>\n",
       "      <td>1.420800e+04</td>\n",
       "      <td>0.000000e+00</td>\n",
       "      <td>1.327057e+05</td>\n",
       "      <td>2.146614e+05</td>\n",
       "      <td>0.000000e+00</td>\n",
       "      <td>0.000000e+00</td>\n",
       "    </tr>\n",
       "    <tr>\n",
       "      <th>75%</th>\n",
       "      <td>3.350000e+02</td>\n",
       "      <td>2.087215e+05</td>\n",
       "      <td>1.073152e+05</td>\n",
       "      <td>1.442584e+05</td>\n",
       "      <td>9.430367e+05</td>\n",
       "      <td>1.111909e+06</td>\n",
       "      <td>0.000000e+00</td>\n",
       "      <td>0.000000e+00</td>\n",
       "    </tr>\n",
       "    <tr>\n",
       "      <th>max</th>\n",
       "      <td>7.430000e+02</td>\n",
       "      <td>9.244552e+07</td>\n",
       "      <td>5.958504e+07</td>\n",
       "      <td>4.958504e+07</td>\n",
       "      <td>3.560159e+08</td>\n",
       "      <td>3.561793e+08</td>\n",
       "      <td>1.000000e+00</td>\n",
       "      <td>1.000000e+00</td>\n",
       "    </tr>\n",
       "  </tbody>\n",
       "</table>\n",
       "</div>"
      ],
      "text/plain": [
       "               step        amount  oldbalanceOrg  newbalanceOrig  \\\n",
       "count  6.362620e+06  6.362620e+06   6.362620e+06    6.362620e+06   \n",
       "mean   2.433972e+02  1.798619e+05   8.338831e+05    8.551137e+05   \n",
       "std    1.423320e+02  6.038582e+05   2.888243e+06    2.924049e+06   \n",
       "min    1.000000e+00  0.000000e+00   0.000000e+00    0.000000e+00   \n",
       "25%    1.560000e+02  1.338957e+04   0.000000e+00    0.000000e+00   \n",
       "50%    2.390000e+02  7.487194e+04   1.420800e+04    0.000000e+00   \n",
       "75%    3.350000e+02  2.087215e+05   1.073152e+05    1.442584e+05   \n",
       "max    7.430000e+02  9.244552e+07   5.958504e+07    4.958504e+07   \n",
       "\n",
       "       oldbalanceDest  newbalanceDest       isFraud  isFlaggedFraud  \n",
       "count    6.362620e+06    6.362620e+06  6.362620e+06    6.362620e+06  \n",
       "mean     1.100702e+06    1.224996e+06  1.290820e-03    2.514687e-06  \n",
       "std      3.399180e+06    3.674129e+06  3.590480e-02    1.585775e-03  \n",
       "min      0.000000e+00    0.000000e+00  0.000000e+00    0.000000e+00  \n",
       "25%      0.000000e+00    0.000000e+00  0.000000e+00    0.000000e+00  \n",
       "50%      1.327057e+05    2.146614e+05  0.000000e+00    0.000000e+00  \n",
       "75%      9.430367e+05    1.111909e+06  0.000000e+00    0.000000e+00  \n",
       "max      3.560159e+08    3.561793e+08  1.000000e+00    1.000000e+00  "
      ]
     },
     "execution_count": 9,
     "metadata": {},
     "output_type": "execute_result"
    }
   ],
   "source": [
    "# Summarise\n",
    "df.describe()"
   ]
  },
  {
   "cell_type": "markdown",
   "id": "weird-carpet",
   "metadata": {
    "id": "Hd34QdCKs5Fu",
    "papermill": {
     "duration": 0.018184,
     "end_time": "2021-05-17T14:05:36.754670",
     "exception": false,
     "start_time": "2021-05-17T14:05:36.736486",
     "status": "completed"
    },
    "tags": []
   },
   "source": [
    "## Step 2: Preprocess data and understand some more\n",
    "This step typically takes the most time in the cycle but for our purposes, the dataset we have chosen is somewhat clean.\n",
    "\t\n",
    "Real-world datasets are noisy and incomplete. The choices we make in this step to address data issues can impact downstream steps and the result itself. For example, it can be tricky to address missing data when we don't know why it's missing. Is it missing completely at random? It can also be tricky to address outliers if we do not understand the domain and problem context enough."
   ]
  },
  {
   "cell_type": "code",
   "execution_count": 10,
   "id": "professional-contributor",
   "metadata": {
    "execution": {
     "iopub.execute_input": "2021-05-17T14:05:37.142124Z",
     "iopub.status.busy": "2021-05-17T14:05:37.105685Z",
     "iopub.status.idle": "2021-05-17T14:05:39.195492Z",
     "shell.execute_reply": "2021-05-17T14:05:39.194831Z"
    },
    "id": "bX1LilA0s5Fw",
    "papermill": {
     "duration": 2.422364,
     "end_time": "2021-05-17T14:05:39.195629",
     "exception": false,
     "start_time": "2021-05-17T14:05:36.773265",
     "status": "completed"
    },
    "tags": []
   },
   "outputs": [],
   "source": [
    "# Transform categorical feature(s) to numeric\n",
    "le = LabelEncoder()\n",
    "df.type = le.fit_transform(df.type)"
   ]
  },
  {
   "cell_type": "code",
   "execution_count": 11,
   "id": "peripheral-employment",
   "metadata": {
    "_cell_guid": "79c7e3d0-c299-4dcb-8224-4455121ee9b0",
    "_uuid": "d629ff2d2480ee46fbb7e2d37f6b5fab8052498a",
    "execution": {
     "iopub.execute_input": "2021-05-17T14:05:39.239937Z",
     "iopub.status.busy": "2021-05-17T14:05:39.238617Z",
     "iopub.status.idle": "2021-05-17T14:05:41.216574Z",
     "shell.execute_reply": "2021-05-17T14:05:41.216005Z"
    },
    "id": "QR8_ypoos5Fw",
    "papermill": {
     "duration": 2.001775,
     "end_time": "2021-05-17T14:05:41.216715",
     "exception": false,
     "start_time": "2021-05-17T14:05:39.214940",
     "status": "completed"
    },
    "tags": []
   },
   "outputs": [
    {
     "data": {
      "text/plain": [
       "isFlaggedFraud    1.000000\n",
       "isFraud           0.044109\n",
       "amount            0.012295\n",
       "oldbalanceOrg     0.003835\n",
       "newbalanceOrig    0.003776\n",
       "step              0.003277\n",
       "type              0.002685\n",
       "oldbalanceDest   -0.000513\n",
       "newbalanceDest   -0.000529\n",
       "Name: isFlaggedFraud, dtype: float64"
      ]
     },
     "execution_count": 11,
     "metadata": {},
     "output_type": "execute_result"
    }
   ],
   "source": [
    "# Explore correlations to label\n",
    "df.corr().isFlaggedFraud.sort_values(ascending=False)"
   ]
  },
  {
   "cell_type": "code",
   "execution_count": 12,
   "id": "direct-symbol",
   "metadata": {
    "execution": {
     "iopub.execute_input": "2021-05-17T14:05:41.282922Z",
     "iopub.status.busy": "2021-05-17T14:05:41.277317Z",
     "iopub.status.idle": "2021-05-17T14:05:43.999674Z",
     "shell.execute_reply": "2021-05-17T14:05:44.000206Z"
    },
    "id": "Geg1KTXZs5Fx",
    "papermill": {
     "duration": 2.763946,
     "end_time": "2021-05-17T14:05:44.000382",
     "exception": false,
     "start_time": "2021-05-17T14:05:41.236436",
     "status": "completed"
    },
    "tags": []
   },
   "outputs": [
    {
     "data": {
      "text/plain": [
       "<AxesSubplot:>"
      ]
     },
     "execution_count": 12,
     "metadata": {},
     "output_type": "execute_result"
    },
    {
     "data": {
      "image/png": "[encoded data removed]",
      "text/plain": [
       "<Figure size 864x432 with 2 Axes>"
      ]
     },
     "metadata": {
      "needs_background": "light"
     },
     "output_type": "display_data"
    }
   ],
   "source": [
    "# Explore correlations visually\n",
    "f, ax = plt.subplots(figsize=(12,6))\n",
    "sns.heatmap(df.corr(), annot=True, fmt='.2f')"
   ]
  },
  {
   "cell_type": "code",
   "execution_count": 13,
   "id": "narrative-ownership",
   "metadata": {
    "execution": {
     "iopub.execute_input": "2021-05-17T14:05:44.051372Z",
     "iopub.status.busy": "2021-05-17T14:05:44.050105Z",
     "iopub.status.idle": "2021-05-17T14:05:45.959546Z",
     "shell.execute_reply": "2021-05-17T14:05:45.958831Z"
    },
    "id": "uRWhhtDFs5Fy",
    "papermill": {
     "duration": 1.937127,
     "end_time": "2021-05-17T14:05:45.959684",
     "exception": false,
     "start_time": "2021-05-17T14:05:44.022557",
     "status": "completed"
    },
    "tags": []
   },
   "outputs": [],
   "source": [
    "# Split data into 80% train and 20% test\n",
    "X = df.drop(columns=['isFlaggedFraud', 'nameDest', 'nameOrig'], axis=1)\n",
    "y = df['isFlaggedFraud']\n",
    "\n",
    "X_train, X_val, y_train, y_val = train_test_split(X, y, test_size=0.2, random_state=0)"
   ]
  },
  {
   "cell_type": "markdown",
   "id": "tight-nightmare",
   "metadata": {
    "id": "4F4cnxDIs5Fy",
    "papermill": {
     "duration": 0.022627,
     "end_time": "2021-05-17T14:05:46.009553",
     "exception": false,
     "start_time": "2021-05-17T14:05:45.986926",
     "status": "completed"
    },
    "tags": []
   },
   "source": [
    "## Step 3: Model and evaluate\n",
    "This last step is three-fold.\n",
    "\n",
    "We create the model and fit the model to the data we prepared for training.\n",
    "\t\n",
    "We then proceed to classifying with the data we prepared for validation.\n",
    "\t\n",
    "Lastly, we evaluate the model's performance with mainstream classification metrics. "
   ]
  },
  {
   "cell_type": "code",
   "execution_count": 14,
   "id": "commercial-column",
   "metadata": {
    "execution": {
     "iopub.execute_input": "2021-05-17T14:05:46.058463Z",
     "iopub.status.busy": "2021-05-17T14:05:46.057862Z",
     "iopub.status.idle": "2021-05-17T14:05:56.873808Z",
     "shell.execute_reply": "2021-05-17T14:05:56.873209Z"
    },
    "id": "Us6aW3aos5Fz",
    "papermill": {
     "duration": 10.842798,
     "end_time": "2021-05-17T14:05:56.873939",
     "exception": false,
     "start_time": "2021-05-17T14:05:46.031141",
     "status": "completed"
    },
    "tags": []
   },
   "outputs": [
    {
     "data": {
      "text/plain": [
       "DecisionTreeClassifier()"
      ]
     },
     "execution_count": 14,
     "metadata": {},
     "output_type": "execute_result"
    }
   ],
   "source": [
    "# Build and train model\n",
    "model = DecisionTreeClassifier()\n",
    "model.fit(X_train, y_train)"
   ]
  },
  {
   "cell_type": "code",
   "execution_count": 15,
   "id": "ideal-square",
   "metadata": {
    "execution": {
     "iopub.execute_input": "2021-05-17T14:05:56.924657Z",
     "iopub.status.busy": "2021-05-17T14:05:56.924009Z",
     "iopub.status.idle": "2021-05-17T14:05:57.006965Z",
     "shell.execute_reply": "2021-05-17T14:05:57.006436Z"
    },
    "id": "Aw5XAPYRs5F0",
    "papermill": {
     "duration": 0.110954,
     "end_time": "2021-05-17T14:05:57.007104",
     "exception": false,
     "start_time": "2021-05-17T14:05:56.896150",
     "status": "completed"
    },
    "tags": []
   },
   "outputs": [],
   "source": [
    "# Apply model to validation data\n",
    "y_predict = model.predict(X_val)"
   ]
  },
  {
   "cell_type": "code",
   "execution_count": 16,
   "id": "possible-berry",
   "metadata": {
    "execution": {
     "iopub.execute_input": "2021-05-17T14:05:57.060640Z",
     "iopub.status.busy": "2021-05-17T14:05:57.058687Z",
     "iopub.status.idle": "2021-05-17T14:05:57.107667Z",
     "shell.execute_reply": "2021-05-17T14:05:57.107135Z"
    },
    "id": "GfbMp0tes5F2",
    "papermill": {
     "duration": 0.077538,
     "end_time": "2021-05-17T14:05:57.107803",
     "exception": false,
     "start_time": "2021-05-17T14:05:57.030265",
     "status": "completed"
    },
    "tags": []
   },
   "outputs": [
    {
     "data": {
      "text/html": [
       "<div>\n",
       "<style scoped>\n",
       "    .dataframe tbody tr th:only-of-type {\n",
       "        vertical-align: middle;\n",
       "    }\n",
       "\n",
       "    .dataframe tbody tr th {\n",
       "        vertical-align: top;\n",
       "    }\n",
       "\n",
       "    .dataframe thead th {\n",
       "        text-align: right;\n",
       "    }\n",
       "</style>\n",
       "<table border=\"1\" class=\"dataframe\">\n",
       "  <thead>\n",
       "    <tr style=\"text-align: right;\">\n",
       "      <th></th>\n",
       "      <th>Actual</th>\n",
       "      <th>Prediction</th>\n",
       "    </tr>\n",
       "  </thead>\n",
       "  <tbody>\n",
       "    <tr>\n",
       "      <th>2903770</th>\n",
       "      <td>0</td>\n",
       "      <td>0</td>\n",
       "    </tr>\n",
       "    <tr>\n",
       "      <th>6307314</th>\n",
       "      <td>0</td>\n",
       "      <td>0</td>\n",
       "    </tr>\n",
       "    <tr>\n",
       "      <th>754542</th>\n",
       "      <td>0</td>\n",
       "      <td>0</td>\n",
       "    </tr>\n",
       "    <tr>\n",
       "      <th>5362829</th>\n",
       "      <td>0</td>\n",
       "      <td>0</td>\n",
       "    </tr>\n",
       "    <tr>\n",
       "      <th>1336227</th>\n",
       "      <td>0</td>\n",
       "      <td>0</td>\n",
       "    </tr>\n",
       "    <tr>\n",
       "      <th>1354732</th>\n",
       "      <td>0</td>\n",
       "      <td>0</td>\n",
       "    </tr>\n",
       "    <tr>\n",
       "      <th>369478</th>\n",
       "      <td>0</td>\n",
       "      <td>0</td>\n",
       "    </tr>\n",
       "    <tr>\n",
       "      <th>4923744</th>\n",
       "      <td>0</td>\n",
       "      <td>0</td>\n",
       "    </tr>\n",
       "    <tr>\n",
       "      <th>2967448</th>\n",
       "      <td>0</td>\n",
       "      <td>0</td>\n",
       "    </tr>\n",
       "    <tr>\n",
       "      <th>3116847</th>\n",
       "      <td>0</td>\n",
       "      <td>0</td>\n",
       "    </tr>\n",
       "    <tr>\n",
       "      <th>5153363</th>\n",
       "      <td>0</td>\n",
       "      <td>0</td>\n",
       "    </tr>\n",
       "    <tr>\n",
       "      <th>2015256</th>\n",
       "      <td>0</td>\n",
       "      <td>0</td>\n",
       "    </tr>\n",
       "  </tbody>\n",
       "</table>\n",
       "</div>"
      ],
      "text/plain": [
       "         Actual  Prediction\n",
       "2903770       0           0\n",
       "6307314       0           0\n",
       "754542        0           0\n",
       "5362829       0           0\n",
       "1336227       0           0\n",
       "1354732       0           0\n",
       "369478        0           0\n",
       "4923744       0           0\n",
       "2967448       0           0\n",
       "3116847       0           0\n",
       "5153363       0           0\n",
       "2015256       0           0"
      ]
     },
     "execution_count": 16,
     "metadata": {},
     "output_type": "execute_result"
    }
   ],
   "source": [
    "# Compare actual and predicted values\n",
    "actual_vs_predict = pd.DataFrame({'Actual': y_val,\n",
    "                                'Prediction': y_predict})\n",
    "actual_vs_predict.sample(12)"
   ]
  },
  {
   "cell_type": "code",
   "execution_count": 17,
   "id": "minor-compound",
   "metadata": {
    "execution": {
     "iopub.execute_input": "2021-05-17T14:05:57.159860Z",
     "iopub.status.busy": "2021-05-17T14:05:57.159257Z",
     "iopub.status.idle": "2021-05-17T14:05:58.753919Z",
     "shell.execute_reply": "2021-05-17T14:05:58.753461Z"
    },
    "id": "HhYdge29s5F2",
    "papermill": {
     "duration": 1.623533,
     "end_time": "2021-05-17T14:05:58.754062",
     "exception": false,
     "start_time": "2021-05-17T14:05:57.130529",
     "status": "completed"
    },
    "tags": []
   },
   "outputs": [
    {
     "name": "stdout",
     "output_type": "stream",
     "text": [
      "Classification metrics: \n",
      "               precision    recall  f1-score   support\n",
      "\n",
      "           0       1.00      1.00      1.00   1272519\n",
      "           1       1.00      1.00      1.00         5\n",
      "\n",
      "    accuracy                           1.00   1272524\n",
      "   macro avg       1.00      1.00      1.00   1272524\n",
      "weighted avg       1.00      1.00      1.00   1272524\n",
      "\n"
     ]
    }
   ],
   "source": [
    "# Evaluate model\n",
    "print('Classification metrics: \\n', classification_report(y_val, y_predict))"
   ]
  }
 ],
 "metadata": {
  "kernelspec": {
   "display_name": "Python 3",
   "language": "python",
   "name": "python3"
  },
  "language_info": {
   "codemirror_mode": {
    "name": "ipython",
    "version": 3
   },
   "file_extension": ".py",
   "mimetype": "text/x-python",
   "name": "python",
   "nbconvert_exporter": "python",
   "pygments_lexer": "ipython3",
   "version": "3.6.9"
  },
  "papermill": {
   "default_parameters": {},
   "duration": 61.789278,
   "end_time": "2021-05-17T14:06:00.594893",
   "environment_variables": {},
   "exception": null,
   "input_path": "__notebook__.ipynb",
   "output_path": "__notebook__.ipynb",
   "parameters": {},
   "start_time": "2021-05-17T14:04:58.805615",
   "version": "2.3.3"
  }
 },
 "nbformat": 4,
 "nbformat_minor": 5
}
